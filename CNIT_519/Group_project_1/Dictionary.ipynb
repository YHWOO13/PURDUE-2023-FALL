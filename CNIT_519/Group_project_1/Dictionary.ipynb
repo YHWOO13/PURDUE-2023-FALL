{
 "cells": [
  {
   "cell_type": "code",
   "execution_count": 5,
   "id": "24d9a5e8-6c0c-46f8-9d98-2fc3839d56b2",
   "metadata": {},
   "outputs": [],
   "source": [
    "import pyperclip\n",
    "from nltk.corpus import wordnet\n",
    "from gensim.models import Word2Vec, KeyedVectors\n",
    "from sklearn.metrics.pairwise import cosine_similarity\n",
    "import gensim.downloader as api"
   ]
  },
  {
   "cell_type": "code",
   "execution_count": 15,
   "id": "f5e3b6fd-9c99-45e4-b788-ed49208f127e",
   "metadata": {},
   "outputs": [
    {
     "ename": "SyntaxError",
     "evalue": "invalid syntax (<ipython-input-15-c27077434911>, line 1)",
     "output_type": "error",
     "traceback": [
      "\u001b[1;36m  File \u001b[1;32m\"<ipython-input-15-c27077434911>\"\u001b[1;36m, line \u001b[1;32m1\u001b[0m\n\u001b[1;33m    gzip -d GoogleNews-vectors-negative300.bin.gz\u001b[0m\n\u001b[1;37m            ^\u001b[0m\n\u001b[1;31mSyntaxError\u001b[0m\u001b[1;31m:\u001b[0m invalid syntax\n"
     ]
    }
   ],
   "source": [
    "gzip -d GoogleNews-vectors-negative300.bin.gz"
   ]
  },
  {
   "cell_type": "code",
   "execution_count": 6,
   "id": "2f9717be-c9b2-4237-813d-e016148eb310",
   "metadata": {},
   "outputs": [],
   "source": [
    "w2v_model = api.load('word2vec-google-news-300')"
   ]
  },
  {
   "cell_type": "code",
   "execution_count": null,
   "id": "e67d5159-36b2-46ba-bd54-9440d8d2f7bd",
   "metadata": {},
   "outputs": [],
   "source": []
  },
  {
   "cell_type": "code",
   "execution_count": 22,
   "id": "a7f1e781-858f-42b2-b526-19eaa44ad02b",
   "metadata": {},
   "outputs": [
    {
     "ename": "FileNotFoundError",
     "evalue": "[Errno 2] No such file or directory: 'GoogleNews-vectors-negative300.bin'",
     "output_type": "error",
     "traceback": [
      "\u001b[1;31m---------------------------------------------------------------------------\u001b[0m",
      "\u001b[1;31mFileNotFoundError\u001b[0m                         Traceback (most recent call last)",
      "\u001b[1;32m<ipython-input-22-a261f2d7091d>\u001b[0m in \u001b[0;36m<module>\u001b[1;34m\u001b[0m\n\u001b[0;32m      1\u001b[0m \u001b[1;31m# model = KeyedVectors.load_word2vec_format(\"GoogleNews-vectors-negative300.bin.gz\", binary=True)\u001b[0m\u001b[1;33m\u001b[0m\u001b[1;33m\u001b[0m\u001b[1;33m\u001b[0m\u001b[0m\n\u001b[0;32m      2\u001b[0m \u001b[1;31m# model = Word2Vec.load_word2vec_format('GoogleNews-vectors-negative300.bin', binary=True, norm_only=True)\u001b[0m\u001b[1;33m\u001b[0m\u001b[1;33m\u001b[0m\u001b[1;33m\u001b[0m\u001b[0m\n\u001b[1;32m----> 3\u001b[1;33m \u001b[0mmodel\u001b[0m \u001b[1;33m=\u001b[0m \u001b[0mKeyedVectors\u001b[0m\u001b[1;33m.\u001b[0m\u001b[0mload_word2vec_format\u001b[0m\u001b[1;33m(\u001b[0m\u001b[1;34m'GoogleNews-vectors-negative300.bin'\u001b[0m\u001b[1;33m,\u001b[0m \u001b[0mbinary\u001b[0m\u001b[1;33m=\u001b[0m\u001b[1;32mTrue\u001b[0m\u001b[1;33m)\u001b[0m\u001b[1;33m\u001b[0m\u001b[1;33m\u001b[0m\u001b[0m\n\u001b[0m\u001b[0;32m      4\u001b[0m \u001b[1;33m\u001b[0m\u001b[0m\n\u001b[0;32m      5\u001b[0m \u001b[1;31m# model = KeyedVectors.load_word2vec_format(\"C:\\\\Users\\\\LG\\\\Desktop\\\\github\\\\PURDUE-2023-FALL\\\\CNIT_519\\\\Group_project_1\\\\FunWithPun-master\\\\GoogleNews-vectors-negative300.bin.gz\", binary=True)\u001b[0m\u001b[1;33m\u001b[0m\u001b[1;33m\u001b[0m\u001b[1;33m\u001b[0m\u001b[0m\n",
      "\u001b[1;32m~\\anaconda3\\lib\\site-packages\\gensim\\models\\keyedvectors.py\u001b[0m in \u001b[0;36mload_word2vec_format\u001b[1;34m(cls, fname, fvocab, binary, encoding, unicode_errors, limit, datatype, no_header)\u001b[0m\n\u001b[0;32m   1717\u001b[0m \u001b[1;33m\u001b[0m\u001b[0m\n\u001b[0;32m   1718\u001b[0m         \"\"\"\n\u001b[1;32m-> 1719\u001b[1;33m         return _load_word2vec_format(\n\u001b[0m\u001b[0;32m   1720\u001b[0m             \u001b[0mcls\u001b[0m\u001b[1;33m,\u001b[0m \u001b[0mfname\u001b[0m\u001b[1;33m,\u001b[0m \u001b[0mfvocab\u001b[0m\u001b[1;33m=\u001b[0m\u001b[0mfvocab\u001b[0m\u001b[1;33m,\u001b[0m \u001b[0mbinary\u001b[0m\u001b[1;33m=\u001b[0m\u001b[0mbinary\u001b[0m\u001b[1;33m,\u001b[0m \u001b[0mencoding\u001b[0m\u001b[1;33m=\u001b[0m\u001b[0mencoding\u001b[0m\u001b[1;33m,\u001b[0m \u001b[0municode_errors\u001b[0m\u001b[1;33m=\u001b[0m\u001b[0municode_errors\u001b[0m\u001b[1;33m,\u001b[0m\u001b[1;33m\u001b[0m\u001b[1;33m\u001b[0m\u001b[0m\n\u001b[0;32m   1721\u001b[0m             \u001b[0mlimit\u001b[0m\u001b[1;33m=\u001b[0m\u001b[0mlimit\u001b[0m\u001b[1;33m,\u001b[0m \u001b[0mdatatype\u001b[0m\u001b[1;33m=\u001b[0m\u001b[0mdatatype\u001b[0m\u001b[1;33m,\u001b[0m \u001b[0mno_header\u001b[0m\u001b[1;33m=\u001b[0m\u001b[0mno_header\u001b[0m\u001b[1;33m,\u001b[0m\u001b[1;33m\u001b[0m\u001b[1;33m\u001b[0m\u001b[0m\n",
      "\u001b[1;32m~\\anaconda3\\lib\\site-packages\\gensim\\models\\keyedvectors.py\u001b[0m in \u001b[0;36m_load_word2vec_format\u001b[1;34m(cls, fname, fvocab, binary, encoding, unicode_errors, limit, datatype, no_header, binary_chunk_size)\u001b[0m\n\u001b[0;32m   2046\u001b[0m \u001b[1;33m\u001b[0m\u001b[0m\n\u001b[0;32m   2047\u001b[0m     \u001b[0mlogger\u001b[0m\u001b[1;33m.\u001b[0m\u001b[0minfo\u001b[0m\u001b[1;33m(\u001b[0m\u001b[1;34m\"loading projection weights from %s\"\u001b[0m\u001b[1;33m,\u001b[0m \u001b[0mfname\u001b[0m\u001b[1;33m)\u001b[0m\u001b[1;33m\u001b[0m\u001b[1;33m\u001b[0m\u001b[0m\n\u001b[1;32m-> 2048\u001b[1;33m     \u001b[1;32mwith\u001b[0m \u001b[0mutils\u001b[0m\u001b[1;33m.\u001b[0m\u001b[0mopen\u001b[0m\u001b[1;33m(\u001b[0m\u001b[0mfname\u001b[0m\u001b[1;33m,\u001b[0m \u001b[1;34m'rb'\u001b[0m\u001b[1;33m)\u001b[0m \u001b[1;32mas\u001b[0m \u001b[0mfin\u001b[0m\u001b[1;33m:\u001b[0m\u001b[1;33m\u001b[0m\u001b[1;33m\u001b[0m\u001b[0m\n\u001b[0m\u001b[0;32m   2049\u001b[0m         \u001b[1;32mif\u001b[0m \u001b[0mno_header\u001b[0m\u001b[1;33m:\u001b[0m\u001b[1;33m\u001b[0m\u001b[1;33m\u001b[0m\u001b[0m\n\u001b[0;32m   2050\u001b[0m             \u001b[1;31m# deduce both vocab_size & vector_size from 1st pass over file\u001b[0m\u001b[1;33m\u001b[0m\u001b[1;33m\u001b[0m\u001b[1;33m\u001b[0m\u001b[0m\n",
      "\u001b[1;32m~\\anaconda3\\lib\\site-packages\\smart_open\\smart_open_lib.py\u001b[0m in \u001b[0;36mopen\u001b[1;34m(uri, mode, buffering, encoding, errors, newline, closefd, opener, ignore_ext, compression, transport_params)\u001b[0m\n\u001b[0;32m    186\u001b[0m         \u001b[0mtransport_params\u001b[0m \u001b[1;33m=\u001b[0m \u001b[1;33m{\u001b[0m\u001b[1;33m}\u001b[0m\u001b[1;33m\u001b[0m\u001b[1;33m\u001b[0m\u001b[0m\n\u001b[0;32m    187\u001b[0m \u001b[1;33m\u001b[0m\u001b[0m\n\u001b[1;32m--> 188\u001b[1;33m     fobj = _shortcut_open(\n\u001b[0m\u001b[0;32m    189\u001b[0m         \u001b[0muri\u001b[0m\u001b[1;33m,\u001b[0m\u001b[1;33m\u001b[0m\u001b[1;33m\u001b[0m\u001b[0m\n\u001b[0;32m    190\u001b[0m         \u001b[0mmode\u001b[0m\u001b[1;33m,\u001b[0m\u001b[1;33m\u001b[0m\u001b[1;33m\u001b[0m\u001b[0m\n",
      "\u001b[1;32m~\\anaconda3\\lib\\site-packages\\smart_open\\smart_open_lib.py\u001b[0m in \u001b[0;36m_shortcut_open\u001b[1;34m(uri, mode, compression, buffering, encoding, errors, newline)\u001b[0m\n\u001b[0;32m    359\u001b[0m         \u001b[0mopen_kwargs\u001b[0m\u001b[1;33m[\u001b[0m\u001b[1;34m'errors'\u001b[0m\u001b[1;33m]\u001b[0m \u001b[1;33m=\u001b[0m \u001b[0merrors\u001b[0m\u001b[1;33m\u001b[0m\u001b[1;33m\u001b[0m\u001b[0m\n\u001b[0;32m    360\u001b[0m \u001b[1;33m\u001b[0m\u001b[0m\n\u001b[1;32m--> 361\u001b[1;33m     \u001b[1;32mreturn\u001b[0m \u001b[0m_builtin_open\u001b[0m\u001b[1;33m(\u001b[0m\u001b[0mlocal_path\u001b[0m\u001b[1;33m,\u001b[0m \u001b[0mmode\u001b[0m\u001b[1;33m,\u001b[0m \u001b[0mbuffering\u001b[0m\u001b[1;33m=\u001b[0m\u001b[0mbuffering\u001b[0m\u001b[1;33m,\u001b[0m \u001b[1;33m**\u001b[0m\u001b[0mopen_kwargs\u001b[0m\u001b[1;33m)\u001b[0m\u001b[1;33m\u001b[0m\u001b[1;33m\u001b[0m\u001b[0m\n\u001b[0m\u001b[0;32m    362\u001b[0m \u001b[1;33m\u001b[0m\u001b[0m\n\u001b[0;32m    363\u001b[0m \u001b[1;33m\u001b[0m\u001b[0m\n",
      "\u001b[1;31mFileNotFoundError\u001b[0m: [Errno 2] No such file or directory: 'GoogleNews-vectors-negative300.bin'"
     ]
    }
   ],
   "source": [
    "# model = KeyedVectors.load_word2vec_format(\"GoogleNews-vectors-negative300.bin.gz\", binary=True)\n",
    "# model = Word2Vec.load_word2vec_format('GoogleNews-vectors-negative300.bin', binary=True, norm_only=True)\n",
    "model = KeyedVectors.load_word2vec_format('GoogleNews-vectors-negative300.bin', binary=True)\n",
    "\n",
    "# model = KeyedVectors.load_word2vec_format(\"C:\\\\Users\\\\LG\\\\Desktop\\\\github\\\\PURDUE-2023-FALL\\\\CNIT_519\\\\Group_project_1\\\\FunWithPun-master\\\\GoogleNews-vectors-negative300.bin.gz\", binary=True)\n",
    "\n",
    "# PURDUE-2023-FALL/CNIT_519Group_project_1/FunWithPun-master/GoogleNews-vectors-negative300.bin.gz"
   ]
  },
  {
   "cell_type": "code",
   "execution_count": 25,
   "id": "3d4d2377-2aaf-4588-bf34-c023dc956c2e",
   "metadata": {
    "tags": []
   },
   "outputs": [],
   "source": [
    "skeleton = {\n",
    "    \"the arrangement of parts that gives something its basic form\": ['structure', 'framework', 'architecture', 'shell',\n",
    "                                                                     'frame', 'infrastructure', 'fabric',\n",
    "                                                                     'configuration', 'armature', 'shape', 'edifice',\n",
    "                                                                     'framing', 'network', 'outline', 'cage', 'cadre',\n",
    "                                                                     'lattice', 'contour', 'profile', 'silhouette',\n",
    "                                                                     'figure', 'chassis']\n",
    "\n",
    "}\n",
    "guts = {\n",
    "    \"the internal organs of the body\": ['inside(s)', 'entrails', 'viscera', 'innards', 'vitals', 'inwards',\n",
    "                                        'intestine(s)', 'bowel(s)', 'chitlins', 'chitterlings', 'variety meat',\n",
    "                                        'giblet(s)'],\n",
    "    \"strength of mind to carry on in spite of danger\": ['courage', 'bravery', 'heroism', 'courageousness',\n",
    "                                                        'gallantry', 'prowess', 'nerve', 'daring', 'heart', 'valor',\n",
    "                                                        'fearlessness', 'hardihood', 'pecker', 'stoutness',\n",
    "                                                        'gutsiness', 'virtue', 'intrepidity', 'gumption', 'bottle',\n",
    "                                                        'moxie', 'grit', 'fortitude', 'daringness', 'intrepidness',\n",
    "                                                        'dauntlessness', 'spunk', 'determination', 'backbone',\n",
    "                                                        'stamina', 'intestinal fortitude', 'mettle',\n",
    "                                                        'greatheartedness', 'pluck', 'perseverance', 'doughtiness',\n",
    "                                                        'fiber', 'tenacity', 'stomach', 'temper', 'endurance',\n",
    "                                                        'resolution', 'audacity', 'gall', 'temerity', 'boldness',\n",
    "                                                        'cojones', 'pluckiness', 'effrontery', 'cheek',\n",
    "                                                        'brazenness'],\n",
    "    \"the strength of mind that enables a person to endure pain or hardship\": ['courage', 'grit', 'fortitude',\n",
    "                                                                              'bravery', 'spunk', 'stamina',\n",
    "                                                                              'backbone', 'courageousness', 'pluck',\n",
    "                                                                              'determination', 'fiber',\n",
    "                                                                              'grittiness', 'endurance', 'nerve',\n",
    "                                                                              'intestinal fortitude', 'constancy',\n",
    "                                                                              'daring', 'resoluteness',\n",
    "                                                                              'resolution', 'valor', 'fearlessness',\n",
    "                                                                              'tolerance', 'gallantry',\n",
    "                                                                              'purposefulness', 'audacity',\n",
    "                                                                              'chutzpah', 'stoutness', 'mettle',\n",
    "                                                                              'gall', 'intrepidity', 'temerity',\n",
    "                                                                              'boldness', 'brass', 'heart',\n",
    "                                                                              'sufferance', 'hutzpah',\n",
    "                                                                              'intrepidness', 'effrontery',\n",
    "                                                                              'dauntlessness', 'spirit', 'chutzpa',\n",
    "                                                                              'forbearance', 'hardihood',\n",
    "                                                                              'greatheartedness', 'cheek',\n",
    "                                                                              'doughtiness', 'hutzpa', 'nerviness'],\n",
    "    \"to take the internal organs out of\": ['cleans', 'bones', 'draws', 'removes', 'extracts', 'disembowels',\n",
    "                                           'eviscerates', 'cuts', 'excises', 'dresses', 'transplants', 'withdraws',\n",
    "                                           'yanks']\n",
    "}\n",
    "fight = {\n",
    "    \"to oppose (someone) in physical conflict\": ['battle', 'combat', 'war (against)', 'duel', 'beat', 'clash (with)',\n",
    "                                                 'wrestle', 'skirmish (with)', 'hit', 'punch', 'strike', 'knock',\n",
    "                                                 'slap', 'joust', 'brawl', 'scrimmage (with)', 'smack', 'box', 'pound',\n",
    "                                                 'smite', 'slug', 'whack', 'belt', 'spar', 'bang', 'clobber',\n",
    "                                                 'bludgeon', 'bat', 'hammer', 'slam', 'swipe', 'swat', 'tussle',\n",
    "                                                 'batter', 'thump', 'buffet', 'bash', 'bop', 'sock', 'paste', 'slog',\n",
    "                                                 'grapple', 'bump', 'whale', 'scuffle', 'wallop', 'collide', 'thwack'],\n",
    "    \"to strive to reduce or eliminate\": ['oppose', 'combat', 'battle', 'counter', 'resist', 'confront',\n",
    "                                         'contend (with)', 'withstand', 'thwart', 'oppugn', 'frustrate', 'face', 'foil',\n",
    "                                         'baffle', 'checkmate', 'defy', 'meet'],\n",
    "    \"to engage in a contest\": ['compete', 'contend', 'race', 'battle', 'rival', 'vie', 'play', 'challenge', 'face off',\n",
    "                               'engage', 'maneuver', 'try out', 'work', 'go out', 'jostle', 'train', 'jockey'],\n",
    "    \"to express different opinions about something often angrily\": ['bicker', 'argue', 'quarrel', 'spat', 'brawl',\n",
    "                                                                    'clash', 'dispute', 'squabble', 'debate', 'wrangle',\n",
    "                                                                    'fall out', 'scrap', 'row', 'controvert', 'discuss',\n",
    "                                                                    'quibble', 'jar', 'hassle', 'mix it up',\n",
    "                                                                    'lock horns', 'argufy', 'altercate', 'brabble',\n",
    "                                                                    'contest', 'butt heads', 'tiff', 'challenge',\n",
    "                                                                    'contend', 'dare', 'bandy words', 'protest', 'defy',\n",
    "                                                                    'tangle', 'kick', 'object', 'fuss', 'cavil',\n",
    "                                                                    'nitpick', 'consider'],\n",
    "    \"to refuse to give in to\": ['resist', 'oppose', 'withstand', 'repel', 'combat', 'defy', 'contest', 'challenge',\n",
    "                                'buck', 'thwart', 'contend (with)', 'counter', 'battle', 'dispute', 'contradict',\n",
    "                                'hinder', 'stem', 'check', 'frustrate', 'balk', 'obstruct', 'foil', 'baffle'],\n",
    "    \"a physical dispute between opposing individuals or groups\": ['battle', 'skirmish', 'clash', 'struggle', 'tussle',\n",
    "                                                                  'scuffle', 'brawl', 'fray', 'combat', 'contest',\n",
    "                                                                  'confrontation', 'conflict', 'duel', 'dustup',\n",
    "                                                                  'altercation', 'scrimmage', 'fracas', 'scrap',\n",
    "                                                                  'quarrel', 'scrum', 'blows', 'pitched battle',\n",
    "                                                                  'dispute', 'mêlée', 'melee', 'spat', 'hassle',\n",
    "                                                                  'battle royal', 'fistfight', 'rough-and-tumble',\n",
    "                                                                  'fisticuffs', 'slugfest', 'squabble', 'tangle',\n",
    "                                                                  'joust', 'broil', 'punch-up', 'affray', 'row',\n",
    "                                                                  'ruckus', 'donnybrook', 'mix-up', 'face-off',\n",
    "                                                                  'wrangle', 'grapple', 'controversy', 'free-for-all',\n",
    "                                                                  'punch-out', 'falling-out', 'catfight', 'ruction',\n",
    "                                                                  'cross fire', 'argument', 'misunderstanding', 'tiff',\n",
    "                                                                  'disagreement', 'contretemps', 'kickup', 'handgrips',\n",
    "                                                                  'argle-bargle', 'argy-bargy'],\n",
    "    \"a forceful effort to reach a goal or objective\": ['battle', 'struggle', 'effort', 'fray', 'throes', 'attempt',\n",
    "                                                       'scrabble', 'grind', 'try', 'work', 'pains', 'war', 'combat',\n",
    "                                                       'endeavor', 'exertion', 'toil', 'trouble', 'warfare', 'labor',\n",
    "                                                       'tussle', 'conflict', 'strife', 'drudgery', 'contest', 'sweat',\n",
    "                                                       'travail', 'essay'],\n",
    "    \"an inclination to fight or quarrel\": ['aggression', 'aggressiveness', 'hostility', 'assaultiveness', 'defiance',\n",
    "                                           'combativeness', 'belligerence', 'pugnacity', 'belligerency', 'militancy',\n",
    "                                           'militance', 'disputatiousness', 'contentiousness', 'quarrelsomeness',\n",
    "                                           'feistiness', 'scrappiness', 'bellicosity', 'truculence', 'militantness',\n",
    "                                           \"chip on one's shoulder\", 'antagonism', 'fierceness', 'irritableness',\n",
    "                                           'imperialism', 'irritability', 'unfriendliness', 'militarism',\n",
    "                                           'hyperaggressiveness', 'jingoism', 'captiousness', 'testiness',\n",
    "                                           'fractiousness', 'disagreeableness', 'crossness', 'rudeness', 'peevishness',\n",
    "                                           'crankiness', 'waspishness', 'grumpiness', 'petulance', 'biliousness',\n",
    "                                           'pettishness', 'surliness', 'fretfulness', 'grouchiness', 'querulousness',\n",
    "                                           'acidity', 'irascibleness', 'orneriness', 'irascibility', 'huffiness'],\n",
    "    \"an often noisy or angry expression of differing opinions\": ['dispute', 'quarrel', 'altercation', 'bicker',\n",
    "                                                                 'controversy', 'disagreement', 'argument', 'brawl',\n",
    "                                                                 'misunderstanding', 'row', 'skirmish', 'squabble',\n",
    "                                                                 'spat', 'debate', 'wrangle', 'battle royal', 'feud',\n",
    "                                                                 'clash', 'disputation', 'set-to', 'falling-out',\n",
    "                                                                 'imbroglio', 'cross fire', 'tiff', 'donnybrook',\n",
    "                                                                 'contretemps', 'kickup', 'rhubarb', 'tussle', 'scrap',\n",
    "                                                                 'difference', 'tangle', 'attack', 'run-in',\n",
    "                                                                 'argle-bargle', 'protest', 'dissention', 'hassle',\n",
    "                                                                 'argy-bargy', 'contention', 'vendetta', 'objection',\n",
    "                                                                 'fisticuffs', 'melee', 'mêlée', 'protestation',\n",
    "                                                                 'logomachy', 'dissension', 'catfight', 'fuss',\n",
    "                                                                 'affray', 'fray', 'fracas', 'free-for-all']\n",
    "}"
   ]
  },
  {
   "cell_type": "code",
   "execution_count": 34,
   "id": "e7ce4aa7-1866-45dc-b76a-dea767e06490",
   "metadata": {},
   "outputs": [
    {
     "ename": "AttributeError",
     "evalue": "'dict' object has no attribute 'name'",
     "output_type": "error",
     "traceback": [
      "\u001b[1;31m---------------------------------------------------------------------------\u001b[0m",
      "\u001b[1;31mAttributeError\u001b[0m                            Traceback (most recent call last)",
      "\u001b[1;32m<ipython-input-34-01f2e7ecf818>\u001b[0m in \u001b[0;36m<module>\u001b[1;34m\u001b[0m\n\u001b[1;32m----> 1\u001b[1;33m \u001b[0mprint\u001b[0m\u001b[1;33m(\u001b[0m\u001b[0mguts\u001b[0m\u001b[1;33m.\u001b[0m\u001b[0mname\u001b[0m\u001b[1;33m)\u001b[0m\u001b[1;33m\u001b[0m\u001b[1;33m\u001b[0m\u001b[0m\n\u001b[0m",
      "\u001b[1;31mAttributeError\u001b[0m: 'dict' object has no attribute 'name'"
     ]
    }
   ],
   "source": [
    "print(guts.name)"
   ]
  },
  {
   "cell_type": "code",
   "execution_count": 37,
   "id": "0a2a9f7f-0e26-43e5-9ab4-99761decc4aa",
   "metadata": {
    "tags": []
   },
   "outputs": [],
   "source": [
    "def find_similarity(wordDict1, wordDict2):\n",
    "    max_avg_similarity = 0\n",
    "    max_avg_similarity_def_pair = ()\n",
    "    # Iterate over the dictionary\n",
    "    for def1, synonyms1 in wordDict1.items():\n",
    "        for def2, synonyms2 in wordDict2.items():\n",
    "            total_similarity = 0\n",
    "            count = 0\n",
    "            for syn1 in synonyms1:\n",
    "                for syn2 in synonyms2:\n",
    "                    if syn1 in w2v_model and syn2 in w2v_model:  # Checking if the words are in the model vocabulary\n",
    "#                         similarity = cosine_similarity([w2v_model[syn1]], [model[syn2]])[0][0]\n",
    "                        similarity = w2v_model.similarity(syn1, syn2)\n",
    "                        total_similarity += similarity\n",
    "                        count += 1\n",
    "            if count > 0:\n",
    "                avg_similarity = total_similarity / count\n",
    "                if avg_similarity > max_avg_similarity:\n",
    "                    max_avg_similarity = avg_similarity\n",
    "                    max_avg_similarity_def_pair = (def1, def2)\n",
    "\n",
    "    print(\n",
    "        f\"The definition with the highest average similarity to 'guts', 'skeleton' is: '{max_avg_similarity_def_pair}' with \"\n",
    "        f\"an average similarity of {max_avg_similarity}\")\n",
    "    return max_avg_similarity_def_pair, max_avg_similarity"
   ]
  },
  {
   "cell_type": "code",
   "execution_count": 38,
   "id": "c2a6caa0-150f-4fed-b015-794123a58b46",
   "metadata": {},
   "outputs": [
    {
     "name": "stdout",
     "output_type": "stream",
     "text": [
      "The definition with the highest average similarity to 'guts', 'skeleton' is: '('the internal organs of the body', 'the arrangement of parts that gives something its basic form')' with an average similarity of 0.09007987543311599\n",
      "(('the internal organs of the body', 'the arrangement of parts that gives something its basic form'), 0.09007987543311599)\n"
     ]
    }
   ],
   "source": [
    "print(find_similarity(guts, skeleton))"
   ]
  },
  {
   "cell_type": "code",
   "execution_count": 27,
   "id": "78a90e8e-2e72-46fc-a503-5b19e5f6656f",
   "metadata": {},
   "outputs": [
    {
     "name": "stdout",
     "output_type": "stream",
     "text": [
      "The definition with the highest average similarity to 'gut', 'skeleton' is: '('the strength of mind that enables a person to endure pain or hardship', 'an inclination to fight or quarrel')' with an average similarity of 0.21684562527324733\n",
      "(('the strength of mind that enables a person to endure pain or hardship', 'an inclination to fight or quarrel'), 0.21684562527324733)\n"
     ]
    }
   ],
   "source": [
    "print(find_similarity(guts, fight))"
   ]
  },
  {
   "cell_type": "code",
   "execution_count": 39,
   "id": "dcafee62-986a-496b-852c-76452e77effb",
   "metadata": {},
   "outputs": [
    {
     "name": "stdout",
     "output_type": "stream",
     "text": [
      "The definition with the highest average similarity to 'guts', 'skeleton' is: '('the arrangement of parts that gives something its basic form', 'to strive to reduce or eliminate')' with an average similarity of 0.07139447326066367\n",
      "(('the arrangement of parts that gives something its basic form', 'to strive to reduce or eliminate'), 0.07139447326066367)\n"
     ]
    }
   ],
   "source": [
    "print(find_similarity(skeleton, fight))"
   ]
  },
  {
   "cell_type": "code",
   "execution_count": null,
   "id": "8a92a26f-b12d-4f93-bcbd-313686613359",
   "metadata": {},
   "outputs": [],
   "source": [
    "gut and skeleton: (('the internal organs of the body', 'the arrangement of parts that gives something its basic form'), 0.09007988040287852)\n",
    "guts, fight: (('the strength of mind that enables a person to endure pain or hardship', 'an inclination to fight or quarrel'), 0.2168456381401178)\n",
    "skeleton, fight: (('the arrangement of parts that gives something its basic form', 'to strive to reduce or eliminate'), 0.07139447834810143)\n"
   ]
  }
 ],
 "metadata": {
  "kernelspec": {
   "display_name": "Python 3",
   "language": "python",
   "name": "python3"
  },
  "language_info": {
   "codemirror_mode": {
    "name": "ipython",
    "version": 3
   },
   "file_extension": ".py",
   "mimetype": "text/x-python",
   "name": "python",
   "nbconvert_exporter": "python",
   "pygments_lexer": "ipython3",
   "version": "3.8.8"
  }
 },
 "nbformat": 4,
 "nbformat_minor": 5
}
