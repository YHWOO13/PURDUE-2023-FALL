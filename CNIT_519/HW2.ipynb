{
 "cells": [
  {
   "cell_type": "markdown",
   "id": "477d7edc-6fab-4f3b-a8fc-65d9a22adc98",
   "metadata": {
    "tags": []
   },
   "source": [
    "# Yoonhyuck WOO / Purdue University_Computer and Information Technology\n",
    "# Title: Calculate similarity according to either word2vec or glove\n",
    "# Professor: Dr. Julia Rayz\n",
    " - Reference: https://www.cs.toronto.edu/~lczhang/321/lec/glove_notes.html"
   ]
  },
  {
   "cell_type": "code",
   "execution_count": 1,
   "id": "c17f48de-4835-4016-947b-2cfe042313fd",
   "metadata": {},
   "outputs": [],
   "source": [
    "import numpy as np\n",
    "from scipy import spatial\n",
    "import matplotlib.pyplot as plt\n",
    "from sklearn.manifold import TSNE"
   ]
  },
  {
   "cell_type": "code",
   "execution_count": 10,
   "id": "e6824e7c-f55b-4f18-a7bf-a9298223f2c5",
   "metadata": {},
   "outputs": [],
   "source": [
    "embeddings_dict = {}\n",
    "with open(\"C:\\\\Users\\\\LG\\\\Desktop\\\\github\\\\Purdue-2023-FALL\\\\GloVe-master\\\\glove.6B\\\\glove.6B.300d.txt\", 'r',encoding='utf-8') as f:\n",
    "    for line in f:\n",
    "        values = line.split()\n",
    "        word = values[0]\n",
    "        vector = np.asarray(values[1:], \"float32\")\n",
    "        embeddings_dict[word] = vector"
   ]
  },
  {
   "cell_type": "code",
   "execution_count": 11,
   "id": "62ca838e-2612-41e2-b894-81006d0757a5",
   "metadata": {},
   "outputs": [],
   "source": [
    "def find_closest_embeddings(embedding):\n",
    "    return sorted(embeddings_dict.keys(), key=lambda word: spatial.distance.euclidean(embeddings_dict[word], embedding))"
   ]
  },
  {
   "cell_type": "code",
   "execution_count": 15,
   "id": "3ab9d15d-2a79-4c61-928f-60a3df4acc50",
   "metadata": {},
   "outputs": [
    {
     "data": {
      "text/plain": [
       "['hamster', 'hamsters', 'kd94', 'js03', 'kd96']"
      ]
     },
     "execution_count": 15,
     "metadata": {},
     "output_type": "execute_result"
    }
   ],
   "source": [
    "find_closest_embeddings(embeddings_dict['hamster'])[:5]"
   ]
  },
  {
   "cell_type": "code",
   "execution_count": 12,
   "id": "8ec8a8be-1ead-475e-86ec-3b87c4f21264",
   "metadata": {},
   "outputs": [
    {
     "name": "stdout",
     "output_type": "stream",
     "text": [
      "['twig', 'hand', 'cupping', 'fingers', 'paddles']\n"
     ]
    }
   ],
   "source": [
    "print(find_closest_embeddings(\n",
    "    embeddings_dict[\"twig\"] - embeddings_dict[\"branch\"] + embeddings_dict[\"hand\"]\n",
    ")[:5])"
   ]
  },
  {
   "cell_type": "markdown",
   "id": "cc926be2-3279-4a3c-994c-21b932312c81",
   "metadata": {},
   "source": [
    "# Reference: https://www.cs.toronto.edu/~lczhang/321/lec/glove_notes.html"
   ]
  },
  {
   "cell_type": "code",
   "execution_count": 2,
   "id": "bc6c12c2-406b-40ed-9b23-b9b071143f10",
   "metadata": {},
   "outputs": [],
   "source": [
    "import torch\n",
    "import torchtext"
   ]
  },
  {
   "cell_type": "code",
   "execution_count": 4,
   "id": "4c3ce927-61eb-4e59-925b-db225146a360",
   "metadata": {},
   "outputs": [
    {
     "name": "stderr",
     "output_type": "stream",
     "text": [
      ".vector_cache\\glove.840B.300d.zip: 2.18GB [06:58, 5.20MB/s]                                                            \n",
      "100%|█████████████████████████████████████████████████████████████████████▉| 2196016/2196017 [06:21<00:00, 5755.58it/s]\n"
     ]
    }
   ],
   "source": [
    "# The first time you run this will download a ~2.03GB file\n",
    "glove = torchtext.vocab.GloVe(name=\"840B\", # trained on Common Crawl\n",
    "                              dim=300)    # embedding size = 50"
   ]
  },
  {
   "cell_type": "code",
   "execution_count": 5,
   "id": "b71cd0c1-740f-43d1-9325-518a0eb6c4ab",
   "metadata": {},
   "outputs": [
    {
     "name": "stdout",
     "output_type": "stream",
     "text": [
      "seal 8.985099792480469\n",
      "owl 7.963037967681885\n",
      "hamster 6.431023120880127\n"
     ]
    }
   ],
   "source": [
    "word = 'mouse'\n",
    "other = ['seal', 'owl', 'hamster']\n",
    "for w in other:\n",
    "    dist = torch.norm(glove[word] - glove[w]) # euclidean distance\n",
    "    print(w, float(dist))"
   ]
  },
  {
   "cell_type": "code",
   "execution_count": 31,
   "id": "57e996f6-11db-4870-a395-65164938276e",
   "metadata": {},
   "outputs": [
    {
     "data": {
      "text/plain": [
       "tensor([0.5533])"
      ]
     },
     "execution_count": 31,
     "metadata": {},
     "output_type": "execute_result"
    }
   ],
   "source": [
    "torch.cosine_similarity(glove['mouse'].unsqueeze(0),\n",
    "                        glove['hamster'].unsqueeze(0))"
   ]
  },
  {
   "cell_type": "code",
   "execution_count": 25,
   "id": "3d0906d1-a828-4f36-8f0e-b0969967f1fa",
   "metadata": {},
   "outputs": [
    {
     "data": {
      "text/plain": [
       "tensor([0.3426])"
      ]
     },
     "execution_count": 25,
     "metadata": {},
     "output_type": "execute_result"
    }
   ],
   "source": [
    "torch.cosine_similarity(glove['mouse'].unsqueeze(0),\n",
    "                        glove['owl'].unsqueeze(0))"
   ]
  },
  {
   "cell_type": "code",
   "execution_count": 26,
   "id": "db7dc879-ee33-4d1a-83d5-3ce19eb679ca",
   "metadata": {},
   "outputs": [
    {
     "data": {
      "text/plain": [
       "tensor([0.1650])"
      ]
     },
     "execution_count": 26,
     "metadata": {},
     "output_type": "execute_result"
    }
   ],
   "source": [
    "torch.cosine_similarity(glove['mouse'].unsqueeze(0),\n",
    "                        glove['seal'].unsqueeze(0))"
   ]
  },
  {
   "cell_type": "code",
   "execution_count": 27,
   "id": "aebe5ffb-d1bb-47a9-958f-d208e35c217b",
   "metadata": {},
   "outputs": [
    {
     "data": {
      "text/plain": [
       "tensor([0.1314])"
      ]
     },
     "execution_count": 27,
     "metadata": {},
     "output_type": "execute_result"
    }
   ],
   "source": [
    "torch.cosine_similarity(glove['hamster'].unsqueeze(0),\n",
    "                        glove['seal'].unsqueeze(0))"
   ]
  },
  {
   "cell_type": "code",
   "execution_count": 28,
   "id": "6d485a29-c1d3-47ed-af1e-85fc42785143",
   "metadata": {},
   "outputs": [
    {
     "data": {
      "text/plain": [
       "tensor([0.3626])"
      ]
     },
     "execution_count": 28,
     "metadata": {},
     "output_type": "execute_result"
    }
   ],
   "source": [
    "torch.cosine_similarity(glove['owl'].unsqueeze(0),\n",
    "                        glove['hamster'].unsqueeze(0))"
   ]
  },
  {
   "cell_type": "code",
   "execution_count": 29,
   "id": "0e82fb3d-5bd3-4e8f-a97c-f850a8265f1c",
   "metadata": {},
   "outputs": [
    {
     "data": {
      "text/plain": [
       "tensor([0.2472])"
      ]
     },
     "execution_count": 29,
     "metadata": {},
     "output_type": "execute_result"
    }
   ],
   "source": [
    "torch.cosine_similarity(glove['seal'].unsqueeze(0),\n",
    "                        glove['owl'].unsqueeze(0))"
   ]
  },
  {
   "cell_type": "code",
   "execution_count": null,
   "id": "7b3cfe90-a56a-407a-9dde-c9e308078f28",
   "metadata": {},
   "outputs": [],
   "source": []
  }
 ],
 "metadata": {
  "kernelspec": {
   "display_name": "Python 3",
   "language": "python",
   "name": "python3"
  },
  "language_info": {
   "codemirror_mode": {
    "name": "ipython",
    "version": 3
   },
   "file_extension": ".py",
   "mimetype": "text/x-python",
   "name": "python",
   "nbconvert_exporter": "python",
   "pygments_lexer": "ipython3",
   "version": "3.8.8"
  }
 },
 "nbformat": 4,
 "nbformat_minor": 5
}
