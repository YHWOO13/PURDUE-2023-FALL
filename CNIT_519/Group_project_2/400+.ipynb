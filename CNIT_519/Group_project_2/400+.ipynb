{
 "cells": [
  {
   "cell_type": "markdown",
   "id": "d90e76c8-cb26-451a-955b-ad325a3ef532",
   "metadata": {},
   "source": [
    "# Reference: https://github.com/kjanjua26/Pyphones\n",
    "\n",
    "Homophones of a word in Python from the the world's only complete homophone list. A Python wrapper for the homophone list. Pyphones generates the homophones of a word from the world's only complete homophone list (taken from: https://www.homophone.com/)."
   ]
  },
  {
   "cell_type": "code",
   "execution_count": 8,
   "id": "f34894c1-7d97-419f-a7c3-c292df10c906",
   "metadata": {},
   "outputs": [],
   "source": [
    "\"\"\"\n",
    "Python wrapper for the website: https://relatedwords.io/\n",
    "Search the phrases of a word.\n",
    "\"\"\"\n",
    "\n",
    "from urllib.request import urlopen\n",
    "import requests\n",
    "from bs4 import BeautifulSoup\n",
    "from typing import Dict, List\n",
    "import re\n",
    "\n",
    "class Pyphrases:\n",
    "    \n",
    "    def __init__(self, word):\n",
    "        self.word = word\n",
    "        self.url = \"https://relatedwords.io/{}\"\n",
    "    \n",
    "    def search_the_phrases(self):\n",
    "\n",
    "        url = self.url.format(self.word)\n",
    "        r = requests.get(url)\n",
    "        soup = BeautifulSoup(r.content, \"html.parser\")\n",
    "        result = soup.select('span')\n",
    "        dictionary = []\n",
    "        for r in result: \n",
    "          # print(r.text)\n",
    "          words = r.text\n",
    "          words = words[1:-1]\n",
    "          dictionary.append(words)\n",
    "\n",
    "        while '' in dictionary:\n",
    "          dictionary.remove('')\n",
    "\n",
    "        return dictionary"
   ]
  },
  {
   "cell_type": "code",
   "execution_count": 10,
   "id": "535ce0d2-4a6a-41fd-a3c0-d62a150cc0b2",
   "metadata": {
    "tags": []
   },
   "outputs": [
    {
     "name": "stdout",
     "output_type": "stream",
     "text": [
      "['dinner', 'breakfast', 'supper', 'meal', 'brunch', 'meals', 'luncheon', 'snack', 'cafeteria', 'restaurant', 'dinners', 'afternoon', 'dine', 'coffee', 'snacks', 'picnic', 'dessert', 'sandwich', 'breakfasts', 'buffet', 'pizza', 'sandwiches', 'drinks', 'banquet', 'eating', 'noon', 'hamburger', 'eat', 'dining', 'salad', 'lunchtime', 'barbecue', 'break', 'repast', 'tiffin', 'lunch', 'dejeuner', 'table', 'germany', 'buffet dinner', 'steak dinner', 'cooked meal', 'appetizers', 'gourmet meal', 'morning', 'lunched', 'feed', 'turkey sandwich', 'cooked meals', 'thanksgiving feast', 'hamburgers', 'tea', \"hors d' oeuvres\", 'iftar', 'luncheons', 'day', 'buffet breakfast', 'breaks', 'gourmet meals', 'early', 'recess', 'evening', 'buffet lunch', 'soup', 'bagels', 'canapés', 'rice', 'pasta salad', '##/person', 'cooking', 'hotdog', 'diner', 'bar', 'shop', 'roast chicken', 'picnic lunch', 'light refreshments', 'croissant', 'quiche', 'cheeseburgers', 'fries', 'hotdogs', 'breakfast buffet', 'baked potato', 'tapas', 'denmark', 'caesar salad', 'nutritious meals', 'after', 'lunches', 'spaghetti dinner', 'food', 'garlic bread', 'lasagna', 'seatings', 'birthday cake', 'chow', 'bread', 'restaurants', 'diners', 'work', 'abbreviation', 'canteen', 'drink', 'ale', 'medieval', 'refreshments', 'bathroom', 'ball', 'happy', 'compote', 'give', 'beer', 'nap', 'worker', 'free', 'lunching', 'industrialisation', 'time', 'dinnertime', 'before', 'deli', 'late', 'steakhouse', 'prep', 'thanksgiving dinner', 'study', 'get', 'course', 'cooler', 'meeting', 'bento', 'bangladesh', 'bengal', 'gas', 'cafe', 'tripura', 'donuts', 'smoke', 'entrees', 'rest', 'shopping', 'assam', 'take', 'water', 'mornings', 'dal', 'hour', 'coconut', 'the', 'bag', 'entree', 'midday', 'whatever', 'gym', 'beers', 'walk', 'fish', 'cook', 'curry', 'money', 'meat', 'mutton', 'room', 'hot', 'backpack', 'thanksgiving', 'planning', 'lunchroom', 'weekends', 'play', 'commute', 'bfast', 'guests', 'ice', 'date', 'clothes', 'office', 'middag', 'menu', 'end', 'school', 'class', 'other', 'when', 'smoko', 'refreshment', 'evenings', 'grub', 'kitchen', 'ontbijt', 'mid', 'launch', 'burger', 'sit', 'sitting', 'meetings', 'grocery', 'bus', 'out', 'etc', 'conference', 'menus', 'hours', 'dressing', 'nosh', 'session', 'bakery', 'box', 'teachers', 'movie', 'hang', 'toilet', 'cash', 'leave', 'ate', 'home', 'oxford english dictionary', 'have', 'commuting', 'classes', 'off', 'cocktails', 'doing', 'frukost', 'china', 'reception', 'tasting', 'mealtime', 'catering', 'hungry', 'teacher', 'first', 'fuel', 'during', 'bbq', 'run', 'church', 'light', 'casual', 'camp', 'ceremony', 'make', 'grab', 'hangout', 'coffees', 'not', 'brekkie', 'some', 'call', 'shift', 'something', 'plan', 'spa', 'post', 'reduced', 'having', 'potluck', 'noodles', 'afternoons', 'nights', 'dishes', 'toss', 'sat', 'walks', 'tables', 'spend', 'waiting', 'rooms', 'daytime', 'gourmet', 'vegetarian', 'holiday', 'cookout', 'opening', 'balls', 'feeding', 'herring', 'leisurely', 'holidays', 'pub', 'leftovers', 'sushi', 'hall', 'head', 'pack', 'laundry', 'avondeten', 'couple', 'minutes', 'middle ages', 'wait', 'packed', 'downstairs', 'days', 'cooked', 'weekend', 'cheeseburger', 'pocket', 'taste', 'toast', 'starts', 'busy', 'appetite', 'finland', 'christmas', 'salads', 'delivery', 'regency era', 'serve', 'chevon', 'france', 'emily post', 'italy', 'barbeque', 'rasgulla', 'potato', 'ladies who lunch', 'george iv of the united kingdom', 'pantua', 'casserole', 'business lunch', 'afternoon tea', 'sandesh', 'stew', 'comer', 'midi', 'mysterious', 'buffett', 'payesh', 'isabella beeton', 'paan', 'lunchbox', 'takeout', 'rump steak', 'mutton chop', 'netherlands', 'suppertime', 'belgium', 'munchies', 'norway', 'christmas dinner', 'pâté', 'smørrebrød', 'cheese', 'milk', 'sunday dinner', 'juice', 'bengali cuisine', 'yogurt', 'footlocker', 'portugal', 'indian subcontinent', 'jentacular', 'cenatory', 'dropmeal', 'undermeal', 'elevenses', 'anteprandial', 'indian states', 'crudites', 'germknödel', 'spain', 'sweden', 'west bengal', 'barak valley', 'poland', 'hungary', 'russia', 'kroket', 'garnish', 'romania', 'mishti doi', 'fruit', 'continental breakfast', 'canada', 'potluck dinner', 'roast beef', 'pasta', 'salad bar', 'scrambled eggs', 'employment', 'taco', 'wiener roast', 'dutch treat', 'prix fixe', 'ham sandwich', 'doggy bag', 'salisbury steak', 'sloppy joe', 'cordon bleu', 'lobster thermidor', 'chicken casserole', 'beef stroganoff', 'swiss steak', 'bed tea', 'veal parmesan', 'burrito', 'veal parmigiana', 'rice pudding', 'mexico', 'peanut butter', 'entrée', 'times', 'suppers', 'tortillas', 'duty', 'cat', 'service', 'weekdays', 'textbooks', 'this', 'gone', 'park', 'halls', 'desks', 'learns', 'appointment', 'were', 'read', 'market', 'english', 'brawl', 'that', 'beverage', 'rain', 'pots', 'start', 'charts', 'device', 'plays', 'hoard', 'cereal', 'australia', 'brazil', 'argentina', 'ottawa', 'vietnam', 'easter', 'ontario', 'portuguese language', 'fish and chips', 'united kingdom', 'sunday roast', \"ploughman's lunch\", 'bosnia and herzegovina', 'second breakfast', 'romanian language', 'dinne', 'monring', 'phở', 'bolillo', 'middle east', 'swordfish', 'work week', 'united states', 'cold cut', 'packed lunch', 'savoury pie', 'fast food', 'submarine sandwich', 'potato chip', 'fast casual', 'soup and sandwich', 'boarding school', 'three-martini lunch', 'refried beans', 'private school', 'apéritif and digestif', 'café de olla', 'working day', 'aguas frescas', 'north india', 'south india', 'president of the united states', 'hong kong', 'prime minister of canada', 'barack obama', 'parliament of canada', 'stephen harper', 'lunch meat', 'french fries', 'party', 'night', \"mrs beeton's book of household management\"]\n"
     ]
    }
   ],
   "source": [
    "py = Pyphrases(\"lunch\")\n",
    "phrases = py.search_the_phrases()\n",
    "print(phrases)"
   ]
  },
  {
   "cell_type": "code",
   "execution_count": null,
   "id": "1ff335a2-1a5b-4bab-8a31-dcdbf6a56dc2",
   "metadata": {},
   "outputs": [],
   "source": []
  }
 ],
 "metadata": {
  "kernelspec": {
   "display_name": "Python 3",
   "language": "python",
   "name": "python3"
  },
  "language_info": {
   "codemirror_mode": {
    "name": "ipython",
    "version": 3
   },
   "file_extension": ".py",
   "mimetype": "text/x-python",
   "name": "python",
   "nbconvert_exporter": "python",
   "pygments_lexer": "ipython3",
   "version": "3.8.8"
  }
 },
 "nbformat": 4,
 "nbformat_minor": 5
}
