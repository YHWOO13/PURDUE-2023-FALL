{
 "cells": [
  {
   "cell_type": "markdown",
   "id": "d90e76c8-cb26-451a-955b-ad325a3ef532",
   "metadata": {},
   "source": [
    "# Reference: https://github.com/kjanjua26/Pyphones\n",
    "\n",
    "Homophones of a word in Python from the the world's only complete homophone list. A Python wrapper for the homophone list. Pyphones generates the homophones of a word from the world's only complete homophone list (taken from: https://www.homophone.com/)."
   ]
  },
  {
   "cell_type": "code",
   "execution_count": 8,
   "id": "f34894c1-7d97-419f-a7c3-c292df10c906",
   "metadata": {},
   "outputs": [],
   "source": [
    "\"\"\"\n",
    "Python wrapper for the website: https://relatedwords.io/\n",
    "Search the phrases of a word.\n",
    "\"\"\"\n",
    "\n",
    "from urllib.request import urlopen\n",
    "import requests\n",
    "from bs4 import BeautifulSoup\n",
    "from typing import Dict, List\n",
    "import re\n",
    "\n",
    "class Pyphrases:\n",
    "    \n",
    "    def __init__(self, word):\n",
    "        self.word = word\n",
    "        self.url = \"https://relatedwords.io/{}\"\n",
    "    \n",
    "    def search_the_phrases(self):\n",
    "\n",
    "        url = self.url.format(self.word)\n",
    "        r = requests.get(url)\n",
    "        soup = BeautifulSoup(r.content, \"html.parser\")\n",
    "        result = soup.select('span')\n",
    "        dictionary = []\n",
    "        for r in result: \n",
    "          # print(r.text)\n",
    "          words = r.text\n",
    "          words = words[1:-1]\n",
    "          dictionary.append(words)\n",
    "\n",
    "        while '' in dictionary:\n",
    "          dictionary.remove('')\n",
    "\n",
    "        return dictionary"
   ]
  },
  {
   "cell_type": "code",
   "execution_count": 9,
   "id": "535ce0d2-4a6a-41fd-a3c0-d62a150cc0b2",
   "metadata": {
    "collapsed": true,
    "jupyter": {
     "outputs_hidden": true
    },
    "tags": []
   },
   "outputs": [
    {
     "name": "stdout",
     "output_type": "stream",
     "text": [
      "['voyage', 'cruise', 'boat', 'mast', 'cream', 'ship', 'fly', 'sailboat', 'yacht', 'white', 'jib', 'navigate', 'genoa', 'sweep', 'sloop', 'mainsail', 'canvas', 'catamaran', 'paddle', 'sailing', 'square rig', 'dinghy', 'ketch', 'sheet', 'trimaran', 'travel', 'foresail', 'motor', 'topsail', 'lateen', 'rowboat', 'headsail', 'jibe', 'crossjack', 'journey', 'canvass', 'drive', 'navigation', 'yawl', 'skiff', 'schooner', 'vessel', 'rocket', 'powerboat', 'cruising', 'spritsail', 'balloon sail', 'fin', 'square sail', 'steam', 'black', 'sailing ship', 'boats', 'sailer', 'kite', 'wing', 'walk', 'circumnavigate', 'wind', 'habanero', 'race', 'rail', 'sail solo', 'hull', 'run', 'sail', 'yachtsman', 'coming', 'voyages', 'longboat', 'row', 'sailboard', 'crimson', 'bone', 'seas', 'skysail', 'barque', 'keelboat', 'kayak', 'topmast', 'solar', 'umbrella', 'parachute', 'palace', 'work', 'beige', 'shade', 'caravel', 'catboat', 'swim', 'foremast', 'sailors', 'nautical miles', 'ride', 'yellow', 'march', 'gray', 'age', 'tan', 'red', 'docker', 'aged', 'board', 'multihull', 'monohull', 'berthing', 'regattas', 'boom', 'build', 'rigging', 'flag', 'power', 'green', 'fuchsia', 'carkoon', 'light', 'panel', 'dyson', 'blue', 'mec', 'ski', 'have', 'laravel', 'roof', 'teleport', 'burgundy', 'midnight', 'brown', 'catamarans', 'sailings', 'ran aground', 'rough seas', 'paddled', 'spinnaker', 'rudder', 'dinghies', 'ocean', 'flight', 'flotilla', 'anchorage', 'homeport', 'recreation', 'skippers', 'vendée globe', 'off', 'cruise ship', 'pontoon', 'sailing club', 'vessels', 'seaworthy', 'scow', 'beat', 'yacht club', 'move', 'point', 'royal', 'cargo ship', 'canoe', 'aboard', 'flying', 'float', 'dock', 'balloon', 'cargo', 'dive', 'carrier', 'train', 'engine', 'windsurf', 'keel', 'nylon', 'airfoil', 'warship', 'yachtsmen', 'sailed', 'paddling', 'cruises', 'moor', 'sails', 'steamer', 'deckhand', 'bermuda rig', 'alinghi', 'match racing', 'steamship', 'seafaring', 'lighthouse', 'lifeboat', 'ships', 'moored', 'yachts', 'reefing', 'trysail', 'cloth', 'sailboats', 'dhow', 'mesopotamia', 'galleon', 'proa', 'nile', 'sumerians', 'sailor', 'felucca', 'austronesian', 'speedboat', 'flota', 'scud', 'brush', 'luff', 'weather', 'swan', 'structure', 'piloting', 'construction', 'topgallant', 'rack', 'pilotage', 'reef', 'tack', 'whaleboat', 'greeks', 'lugger', 'boatswain', 'phoenicians', 'watercraft', 'trireme', 'motorboat', 'sculler', 'carrack', 'sailcraft', 'china', 'ecuador', 'boatman', 'coracle', 'unsailed', 'dahabieh', 'pungy', 'ferryboat', 'nautical', 'houseboat', 'shipbuilder', 'steamboat', 'tjalk', 'galley', 'gunboat', 'boatie', 'propellor', 'boatful', 'seaboat', 'boatless', 'cox', 'boatlift', 'paddleboat', 'boatmanship', 'boatmobile', 'bumboat', 'motorsailer', 'jetboat', 'boatmaker', 'shipboard', 'boater', 'astrogate', 'mailboat', 'gybe', 'outpoint', 'save-all', 'main-topsail', 'sailfish', 'gallivat', 'mainmast', 'boatable', 'sealship', 'ark', 'galleass', 'taffrail', 'hovercraft', 'ahull', 'landing', 'spyboat', 'yachter', 'davit', 'boatel', 'botel', 'autohelm', 'narrowboat', 'yardarms', 'mizzenmast', 'staysail', 'boatbuilder', 'skute', 'boathook', 'sailmaking', 'boatbuilding', 'sauceboat', 'bareboat', 'artemon', 'umiak', 'boatload', 'dismastment', 'boatspeak', 'fore-and-aft', 'docked', 'shipling', 'dahabeah', 'fireship', 'flyboat', 'iceboat', 'harbor', 'water', 'rowlock', 'cockboat', 'boatyard', 'peniche', 'foldboat', 'ringsail', 'craft', 'safely', 'antifouling', 'boatage', 'shipfic', 'towed', 'trawlboat', 'landed', 'shiply', 'shiphandler', 'boatneck', 'spaceship', 'papboat', 'whaleship', 'ashore', 'rhib', 'ribbie', 'boatmaking', 'shipowning', 'sea', 'reship', 'shiplike', 'towship', 'freighter', 'tug', 'spacecraft', 'warships', 'inshipped', 'lightvessel', 'barge', 'foreship', 'plane', 'hatchboat', 'canoeist', 'refuel', 'sneakbox', 'gondola', 'ferries', 'anchored', 'bound', 'cucuteni-trypillian culture', 'flies', 'jet', 'tugs', 'ubaid period', 'depart', 'kayaks', 'fleet', 'ferry', 'takeoff', 'work sail', 'aground', 'endeavour', 'rendezvous', 'waters', 'boarded', 'freighters', 'shuttle', 'escort', 'crew', 'sail dinghy', 'atlantic', 'polacre', 'landings', 'docking', 'floating', 'crashing', 'flew', 'flights', 'airplane', 'barges', 'lifeboats', 'planes', 'orbit', 'crashed', 'soyuz', 'ancient egypt', 'xebec', 'submarine', 'submarines', 'aircraft', 'passengers', 'manned', 'rides', 'descend', 'mediterranean', 'gibraltar', 'docks', 'oceangoing', 'reed boats', 'departed', 'flown', 'over canvass', 'sail vessel', 'sail ship', 'dragon sail', 'circumnavigation', 'on water', 'small ship', 'indus valley', 'water vessel', 'spar', 'water vehicle', 'wear ship', 'travel on water', 'topgallant sail', 'mizzen course', 'ocean trip', 'piece of cloth', 'wear round', 'piece of material', 'fore-and-aft sail', 'press of canvas', 'change course', 'sailing vessel', 'surface watercraft', 'press of sail', 'u boat', 'by steam', 'berthed', 'small boat', 'regatta', 'jolly boat', 'on sea', 'river boat', 'water travel', 'bowsprit', 'accommodation ladder', 'water taxi', 'set sail', 'after sail', 'ship rig', 'rowed', 'mean of transport', 'capsize', 'expensive hobby', 'disembark', 'patrol boat', 'sail-plan', 'surface ship', 'mooring', 'tacking', 'ballast tank', 'helmsman', 'draft', 'cross ocean', 'hull down', 'on boat', 'age of sail', 'fish boat', 'stud sail', 'cigarette boat', 'crewed', 'outrigger canoe', 'knots', 'float on water', 'land craft', 'cunningham', 'fore and aft', 'go fast boat', 'crab claw sail', 'shipwrecked', 'boat trip', 'passenger ship', 'starboard', 'modern naval ship', 'machine', 'gaff rig', 'fleet land', 'flare gun', 'windmill', 'forestay', 'coal', 'aerodynamics', 'barbary pirate', 'broadseam', 'solar sails', 'ushant', 'radiation pressure', 'oared', 'dories', 'mizzen', 'gitana', 'dismasted', 'halyards', 'abeam', 'sailmaker', 'scows', 'caravels', 'lightship', 'quiberon', 'solar wind', 'seamanship', 'stall', 'outhaul', 'drag', 'sail boat', 'internal combustion engine', 'marine propulsion', 'oil', 'reaction', 'lift', 'windsurfer', 'spinnakers', 'singlehanded', 'gybing', 'centerboard', 'sistership', 'sailable', 'cammas', 'dismasting', 'gybed', 'headstay', 'daggerboard', 'windjammer', 'centreboard', 'mainsheet', 'solent', 'luffing', 'yachtswoman', 'leeway', 'airfoils', 'heeling', 'downwash', 'junk', 'boom vang', 'tell-tale', 'sailcloth', 'lamination', 'kevlar', 'competition', 'ultrasound', 'curing', 'hang glider', 'ice yacht', 'fore-and-aft rig', 'land sailing', 'gipsy moth', 'rhumb line']\n"
     ]
    }
   ],
   "source": [
    "py = Pyphrases(\"sail\")\n",
    "phrases = py.search_the_phrases()\n",
    "print(phrases)"
   ]
  },
  {
   "cell_type": "code",
   "execution_count": null,
   "id": "1ff335a2-1a5b-4bab-8a31-dcdbf6a56dc2",
   "metadata": {},
   "outputs": [],
   "source": []
  }
 ],
 "metadata": {
  "kernelspec": {
   "display_name": "Python 3",
   "language": "python",
   "name": "python3"
  },
  "language_info": {
   "codemirror_mode": {
    "name": "ipython",
    "version": 3
   },
   "file_extension": ".py",
   "mimetype": "text/x-python",
   "name": "python",
   "nbconvert_exporter": "python",
   "pygments_lexer": "ipython3",
   "version": "3.8.8"
  }
 },
 "nbformat": 4,
 "nbformat_minor": 5
}
