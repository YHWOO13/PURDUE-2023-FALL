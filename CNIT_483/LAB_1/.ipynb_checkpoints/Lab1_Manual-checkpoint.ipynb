{
  "nbformat": 4,
  "nbformat_minor": 0,
  "metadata": {
    "colab": {
      "provenance": []
    },
    "kernelspec": {
      "name": "python3",
      "display_name": "Python 3"
    },
    "accelerator": "GPU"
  },
  "cells": [
    {
      "cell_type": "markdown",
      "metadata": {
        "id": "5kJy2ESvii8T"
      },
      "source": [
        "# **Lab 1: Linear Regression**\n",
        "\n",
        "The lab report will be due by **September 22, 2023**.\n",
        "\n",
        "Please submit the ipynb file of your lab via the link in Brightspace."
      ]
    },
    {
      "cell_type": "markdown",
      "source": [
        "##**Problem 1**\n",
        "In this problem, we will explore the basic linear regression: $y_n=w_0 +w_1x_n$, where $n=1,\\dots, N$ is the index of the data sample. Your task is to determine the appropriate values of $w_0$ and $w_1$ for the given data samples in Lab1_1.csv.\n",
        "\n",
        "Requirments:\n",
        "*   You are required to use gradient descent algorithm to complete this problem.\n",
        "*   You need to include the following four components in your lab report: (1) the codes, (2) the obtained appropriate value of $w_0$ and $w_1$, (3) the obtained training error, and (4) the obtained testing error."
      ],
      "metadata": {
        "id": "NhgxwsNZe2be"
      }
    },
    {
      "cell_type": "code",
      "source": [
        "# Some useful Python libaries (feel free to import other libaries)\n",
        "import tensorflow as tf\n",
        "import pandas as pd\n",
        "import numpy as np\n",
        "import matplotlib\n",
        "import matplotlib.pyplot as plt\n",
        "from tensorflow.keras import layers, models, optimizers\n",
        "from sklearn.metrics import mean_squared_error\n",
        "from sklearn.model_selection import train_test_split\n",
        "\n",
        "# Obtain your data samples\n",
        "data=pd.read_csv('sample_data/Lab1_1.csv') # you may need to change the path\n",
        "x_data = data['x'].values\n",
        "y_data = data['y'].values\n",
        "\n",
        "# Generate training data (70% of the given data samples) and the testing data (30% of the given data samples). You can change to other percentage value as long as test_size <=0.3.\n",
        "x_train, x_test, y_train, y_test = train_test_split(x_data, y_data, test_size=0.3)"
      ],
      "metadata": {
        "id": "2JVTIzuBiWW7"
      },
      "execution_count": null,
      "outputs": []
    },
    {
      "cell_type": "markdown",
      "source": [
        "##**Problem 2**\n",
        "In this problem, we will explore an extended linear regression: $y_n=w_0 +w_1x_n+w_2x_n^2$, where $n=1,\\dots, N$ is the index of the data sample. Your task is to determine the appropriate values of $w_0$, $w_1$, and $w_2$ for the given data samples in Lab1_2.csv.\n",
        "\n",
        "Requirments:\n",
        "*   You are required to use gradient descent algorithm to complete this problem.\n",
        "*   You need to include the following four components in your lab report: (1) the codes, (2) the obtained appropriate value of $w_0$, $w_1$, and $w_2$, (3) the obtained training error, and (4) the obtained testing error."
      ],
      "metadata": {
        "id": "Gbg4e_BqlSbd"
      }
    },
    {
      "cell_type": "markdown",
      "source": [
        "##**Problem 3**\n",
        "In this problem, we will explore to use extended linear regression: $y_n=w_0 +\\sum_{k=1}^Kw_kx_{n,k}$ to solve a real-world problem on stock forecasting. Your task is predict the Close value based on the Open, High, and Low values given in Lab1_3.csv.  \n",
        "Requirments:\n",
        "*   You are required to use gradient descent algorithm to complete this problem.\n",
        "*   You need to include the following four components in your lab report: (1) the codes, (2) the obtained appropriate value of $w_0$, $w_1$, ..., $w_K$ , (3) the obtained training error, and (4) the obtained testing error."
      ],
      "metadata": {
        "id": "SZo-9XHUVB3Y"
      }
    },
    {
      "cell_type": "code",
      "source": [
        "# Some useful hint. Please feel free to program without the hint\n",
        "import tensorflow as tf\n",
        "import pandas as pd\n",
        "import numpy as np\n",
        "import matplotlib\n",
        "import matplotlib.pyplot as plt\n",
        "from tensorflow.keras import layers, models, optimizers\n",
        "from sklearn.metrics import mean_squared_error\n",
        "from sklearn.model_selection import train_test_split\n",
        "# Import Data\n",
        "data=pd.read_csv('sample_data/Lab1_3.csv')\n",
        "x_data = data[['Open','High','Low']]\n",
        "y_data = data['Close']\n",
        "# Generate training data (70% of the given data samples) and the testing data (30% of the given data samples). You can change to other percentage value as long as test_size <=0.3.\n",
        "x_train, x_test, y_train, y_test = train_test_split(x_data, y_data, test_size=0.3)"
      ],
      "metadata": {
        "id": "MnTLTgHhreuS"
      },
      "execution_count": null,
      "outputs": []
    }
  ]
}