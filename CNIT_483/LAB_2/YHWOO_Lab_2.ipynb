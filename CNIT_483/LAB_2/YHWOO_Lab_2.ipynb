{
 "cells": [
  {
   "cell_type": "markdown",
   "metadata": {},
   "source": [
    "# Yoonhyuck WOO / Purdue University_Computer and Information Technology\n",
    "# Title: Lab 2: Logistic Regression and Fully-Connected Neural Network\n",
    "# Professor: Jin Wei-Kocsis, Ph.D."
   ]
  },
  {
   "cell_type": "markdown",
   "metadata": {
    "id": "5kJy2ESvii8T"
   },
   "source": [
    "The lab report will be due by **October 27th, 2023**.\n",
    "\n",
    "**Requirement: Please submit the ipynb file of your lab via the link in Brightspace.**"
   ]
  },
  {
   "cell_type": "markdown",
   "metadata": {
    "id": "NhgxwsNZe2be"
   },
   "source": [
    "# Problem 1\n",
    "In this problem, we will explore applying logistic regression to realize binary-class classification on the data in Data_Lab2_1.csv.\n",
    "\n",
    "Requirments:\n",
    "*   You need to include the following three components in your lab report: (1) the codes, (2) the obtained training error, and (3) the obtained testing error."
   ]
  },
  {
   "cell_type": "code",
   "execution_count": null,
   "metadata": {},
   "outputs": [],
   "source": []
  },
  {
   "cell_type": "code",
   "execution_count": null,
   "metadata": {},
   "outputs": [],
   "source": []
  },
  {
   "cell_type": "code",
   "execution_count": null,
   "metadata": {},
   "outputs": [],
   "source": []
  },
  {
   "cell_type": "code",
   "execution_count": null,
   "metadata": {},
   "outputs": [],
   "source": []
  },
  {
   "cell_type": "code",
   "execution_count": null,
   "metadata": {},
   "outputs": [],
   "source": []
  },
  {
   "cell_type": "code",
   "execution_count": null,
   "metadata": {},
   "outputs": [],
   "source": []
  },
  {
   "cell_type": "markdown",
   "metadata": {
    "id": "Gbg4e_BqlSbd"
   },
   "source": [
    "# Problem 2\n",
    "In this problem, we will explore applying fully-connected neural network to realize binary-class classification on the data in Data_Lab2_1.csv.\n",
    "\n",
    "Requirments:\n",
    "*   You need to include the following four components in your lab report: (1) the codes, (2) the structure of the fully-connected neural network that you design, including the number of layers and the number of computing nodes in each layer, (3) the obtained training error, and (4) the obtained testing error.\n",
    "\n",
    "(Comment: There is no unique solution for the design of the fully-connected neural network.)"
   ]
  },
  {
   "cell_type": "code",
   "execution_count": null,
   "metadata": {},
   "outputs": [],
   "source": []
  },
  {
   "cell_type": "code",
   "execution_count": null,
   "metadata": {},
   "outputs": [],
   "source": []
  },
  {
   "cell_type": "code",
   "execution_count": null,
   "metadata": {},
   "outputs": [],
   "source": []
  },
  {
   "cell_type": "code",
   "execution_count": null,
   "metadata": {},
   "outputs": [],
   "source": []
  },
  {
   "cell_type": "code",
   "execution_count": null,
   "metadata": {},
   "outputs": [],
   "source": []
  },
  {
   "cell_type": "code",
   "execution_count": null,
   "metadata": {},
   "outputs": [],
   "source": []
  },
  {
   "cell_type": "markdown",
   "metadata": {
    "id": "SZo-9XHUVB3Y"
   },
   "source": [
    "# Problem 3\n",
    "In this problem, we will explore applying logistic regression to realize binary-class classification on the data in Data_Lab2_2.csv.\n",
    "\n",
    "Requirments:\n",
    "*   You need to include the following three components in your lab report: (1) the codes, (2) the obtained training error, and (3) the obtained testing error.\n",
    "\n",
    "(Comment: It is fine if you cannot obtain high accuracy.)"
   ]
  },
  {
   "cell_type": "code",
   "execution_count": null,
   "metadata": {},
   "outputs": [],
   "source": []
  },
  {
   "cell_type": "code",
   "execution_count": null,
   "metadata": {},
   "outputs": [],
   "source": []
  },
  {
   "cell_type": "code",
   "execution_count": null,
   "metadata": {},
   "outputs": [],
   "source": []
  },
  {
   "cell_type": "code",
   "execution_count": null,
   "metadata": {},
   "outputs": [],
   "source": []
  },
  {
   "cell_type": "code",
   "execution_count": null,
   "metadata": {},
   "outputs": [],
   "source": []
  },
  {
   "cell_type": "markdown",
   "metadata": {
    "id": "Bh2gs7qqq-8q"
   },
   "source": [
    "# Problem 4\n",
    "In this problem, we will explore applying fully-connected neural network to realize binary-class classification on the data in Data_Lab2_2.csv.\n",
    "\n",
    "Requirments:\n",
    "*   You need to include the following four components in your lab report: (1) the codes, (2) the structure of the fully-connected neural network that you design, including the number of layers and the number of computing nodes in each layer, (3) the obtained training error, and (4) the obtained testing error.\n",
    "\n",
    "(Comment: There is no unique solution for the design of the fully-connected neural network.)"
   ]
  },
  {
   "cell_type": "code",
   "execution_count": null,
   "metadata": {},
   "outputs": [],
   "source": []
  },
  {
   "cell_type": "code",
   "execution_count": null,
   "metadata": {},
   "outputs": [],
   "source": []
  },
  {
   "cell_type": "code",
   "execution_count": null,
   "metadata": {},
   "outputs": [],
   "source": []
  },
  {
   "cell_type": "code",
   "execution_count": null,
   "metadata": {},
   "outputs": [],
   "source": []
  },
  {
   "cell_type": "code",
   "execution_count": null,
   "metadata": {},
   "outputs": [],
   "source": []
  }
 ],
 "metadata": {
  "accelerator": "GPU",
  "colab": {
   "provenance": []
  },
  "kernelspec": {
   "display_name": "Python 3",
   "language": "python",
   "name": "python3"
  },
  "language_info": {
   "codemirror_mode": {
    "name": "ipython",
    "version": 3
   },
   "file_extension": ".py",
   "mimetype": "text/x-python",
   "name": "python",
   "nbconvert_exporter": "python",
   "pygments_lexer": "ipython3",
   "version": "3.8.8"
  }
 },
 "nbformat": 4,
 "nbformat_minor": 4
}
