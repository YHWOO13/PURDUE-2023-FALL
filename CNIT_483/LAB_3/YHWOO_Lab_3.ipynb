{
  "nbformat": 4,
  "nbformat_minor": 0,
  "metadata": {
    "colab": {
      "provenance": []
    },
    "kernelspec": {
      "name": "python3",
      "display_name": "Python 3"
    },
    "accelerator": "GPU"
  },
  "cells": [
    {
      "cell_type": "markdown",
      "source": [
        "# Yoonhyuck WOO / Purdue University_Computer and Information Technology\n",
        "# **Lab 3: Convolutional Neural Network**\n",
        "# Professor: Jin Wei-Kocsis, Ph.D"
      ],
      "metadata": {
        "id": "S40ejDQ8i6MN"
      }
    },
    {
      "cell_type": "markdown",
      "metadata": {
        "id": "5kJy2ESvii8T"
      },
      "source": [
        "The lab report will be due by **November 10th, 2023**.\n",
        "\n",
        "**Requirement: Please submit the ipynb file of your lab via the link in Brightspace.**"
      ]
    },
    {
      "cell_type": "code",
      "source": [
        "import tensorflow as tf\n",
        "from tensorflow.keras import datasets, layers, models, optimizers\n",
        "import matplotlib.pyplot as plt"
      ],
      "metadata": {
        "id": "NPOD6sC_k6P_"
      },
      "execution_count": 3,
      "outputs": []
    },
    {
      "cell_type": "code",
      "source": [
        "device_name = tf.test.gpu_device_name()\n",
        "if device_name != '/device:GPU:0':\n",
        "  raise SystemError('GPU device not found')\n",
        "print('Found GPU at: {}'.format(device_name))"
      ],
      "metadata": {
        "colab": {
          "base_uri": "https://localhost:8080/"
        },
        "id": "1208ba7HptDX",
        "outputId": "b8d270cc-6101-45e9-face-7cc405706764"
      },
      "execution_count": 4,
      "outputs": [
        {
          "output_type": "stream",
          "name": "stdout",
          "text": [
            "Found GPU at: /device:GPU:0\n"
          ]
        }
      ]
    },
    {
      "cell_type": "markdown",
      "source": [
        "##**Problem 1**\n",
        "In this problem, we will focus on completing an hand-written digit recognition task for MNIST dataset. In this problem, you are asked to design a convolutional neural network (CNN) with three convolutional layers and three max-pooling layers.\n",
        "\n",
        "Requirments:\n",
        "*   You need to include the following three components in your lab report: (1) the codes, (2) the obtained training errors, and (3) the obtained testing errors."
      ],
      "metadata": {
        "id": "5A5MBIRTq-dA"
      }
    },
    {
      "cell_type": "code",
      "source": [
        "(X_train, y_train), (X_test, y_test) = datasets.mnist.load_data()\n",
        "\n",
        "print(X_train.shape)"
      ],
      "metadata": {
        "colab": {
          "base_uri": "https://localhost:8080/"
        },
        "id": "wX2dyLZftxOb",
        "outputId": "0c593bb5-96d3-4bcf-b174-c64cc4131aca"
      },
      "execution_count": null,
      "outputs": [
        {
          "output_type": "stream",
          "name": "stdout",
          "text": [
            "Downloading data from https://storage.googleapis.com/tensorflow/tf-keras-datasets/mnist.npz\n",
            "11490434/11490434 [==============================] - 0s 0us/step\n",
            "(60000, 28, 28)\n"
          ]
        }
      ]
    },
    {
      "cell_type": "code",
      "source": [
        "plt.figure(figsize=(10,10))\n",
        "for i in range(1):\n",
        "    plt.subplot(4, 4, i+1)\n",
        "    plt.xticks([])\n",
        "    plt.yticks([])\n",
        "    plt.imshow(X_train[i], cmap=plt.cm.binary)\n",
        "    # plt.xlabel(class_names[y_train[i]])\n",
        "plt.show()"
      ],
      "metadata": {
        "colab": {
          "base_uri": "https://localhost:8080/",
          "height": 204
        },
        "id": "NJctR1A7Yk88",
        "outputId": "222ee41a-6ee3-4555-c53a-48188c6039ba"
      },
      "execution_count": null,
      "outputs": [
        {
          "output_type": "display_data",
          "data": {
            "text/plain": [
              "<Figure size 1000x1000 with 1 Axes>"
            ],
            "image/png": "[encoded data removed]"
          },
          "metadata": {}
        }
      ]
    },
    {
      "cell_type": "code",
      "source": [
        "# Buidling CNN\n",
        "model = models.Sequential()\n",
        "\n",
        "# Extracting features\n",
        "model.add(layers.Conv2D(25, (3, 3), activation='relu', padding='same', input_shape=(28, 28, 1)))\n",
        "model.add(layers.MaxPooling2D((2, 2)))\n",
        "\n",
        "model.add(layers.Conv2D(50, (3, 3), activation='relu', padding='same'))\n",
        "model.add(layers.MaxPooling2D((2, 2)))\n",
        "\n",
        "model.add(layers.Conv2D(100, (3, 3), activation='relu', padding='same'))\n",
        "model.add(layers.MaxPooling2D((2, 2)))\n",
        "\n",
        "# Categorize\n",
        "model.add(layers.Flatten())\n",
        "model.add(layers.Dense(130, activation='relu'))\n",
        "\n",
        "# output\n",
        "model.add(layers.Dense(10, activation = 'softmax'))\n",
        "\n",
        "model.summary()"
      ],
      "metadata": {
        "id": "dFlXMGj0m1YE",
        "colab": {
          "base_uri": "https://localhost:8080/"
        },
        "outputId": "967b9c13-3286-45fe-b118-b648b44d8a8f"
      },
      "execution_count": null,
      "outputs": [
        {
          "output_type": "stream",
          "name": "stdout",
          "text": [
            "Model: \"sequential\"\n",
            "_________________________________________________________________\n",
            " Layer (type)                Output Shape              Param #   \n",
            "=================================================================\n",
            " conv2d (Conv2D)             (None, 28, 28, 25)        250       \n",
            "                                                                 \n",
            " max_pooling2d (MaxPooling2  (None, 14, 14, 25)        0         \n",
            " D)                                                              \n",
            "                                                                 \n",
            " conv2d_1 (Conv2D)           (None, 14, 14, 50)        11300     \n",
            "                                                                 \n",
            " max_pooling2d_1 (MaxPoolin  (None, 7, 7, 50)          0         \n",
            " g2D)                                                            \n",
            "                                                                 \n",
            " conv2d_2 (Conv2D)           (None, 7, 7, 100)         45100     \n",
            "                                                                 \n",
            " max_pooling2d_2 (MaxPoolin  (None, 3, 3, 100)         0         \n",
            " g2D)                                                            \n",
            "                                                                 \n",
            " flatten (Flatten)           (None, 900)               0         \n",
            "                                                                 \n",
            " dense (Dense)               (None, 130)               117130    \n",
            "                                                                 \n",
            " dense_1 (Dense)             (None, 10)                1310      \n",
            "                                                                 \n",
            "=================================================================\n",
            "Total params: 175090 (683.95 KB)\n",
            "Trainable params: 175090 (683.95 KB)\n",
            "Non-trainable params: 0 (0.00 Byte)\n",
            "_________________________________________________________________\n"
          ]
        }
      ]
    },
    {
      "cell_type": "code",
      "source": [
        "epochs = 13"
      ],
      "metadata": {
        "id": "xf26s0mzu_1r"
      },
      "execution_count": null,
      "outputs": []
    },
    {
      "cell_type": "code",
      "source": [
        "# from_logits = False if you set the activation function as softmax in the last dense layer\n",
        "\n",
        "batch_size = 100\n",
        "\n",
        "with tf.device(device_name):\n",
        "  adam = optimizers.Adam(learning_rate=0.0001)\n",
        "\n",
        "\n",
        "  model.compile(optimizer='adam',\n",
        "            loss=tf.keras.losses.SparseCategoricalCrossentropy(from_logits=True), # softamx: from_logits=True / other activation => False\n",
        "            metrics=['accuracy'])\n",
        "\n",
        "  history = model.fit(X_train, y_train, epochs = epochs, batch_size = batch_size,\n",
        "                  validation_data=(X_test, y_test))"
      ],
      "metadata": {
        "id": "pTI8QEWQn2V1",
        "colab": {
          "base_uri": "https://localhost:8080/"
        },
        "outputId": "193a9a63-4b30-4c19-9cec-9db14c2e9a4a"
      },
      "execution_count": null,
      "outputs": [
        {
          "output_type": "stream",
          "name": "stdout",
          "text": [
            "Epoch 1/13\n"
          ]
        },
        {
          "output_type": "stream",
          "name": "stderr",
          "text": [
            "/usr/local/lib/python3.10/dist-packages/keras/src/backend.py:5729: UserWarning: \"`sparse_categorical_crossentropy` received `from_logits=True`, but the `output` argument was produced by a Softmax activation and thus does not represent logits. Was this intended?\n",
            "  output, from_logits = _get_logits(\n"
          ]
        },
        {
          "output_type": "stream",
          "name": "stdout",
          "text": [
            "600/600 [==============================] - 13s 5ms/step - loss: 0.4297 - accuracy: 0.9262 - val_loss: 0.0628 - val_accuracy: 0.9793\n",
            "Epoch 2/13\n",
            "600/600 [==============================] - 3s 5ms/step - loss: 0.0540 - accuracy: 0.9836 - val_loss: 0.0457 - val_accuracy: 0.9842\n",
            "Epoch 3/13\n",
            "600/600 [==============================] - 3s 6ms/step - loss: 0.0387 - accuracy: 0.9877 - val_loss: 0.0402 - val_accuracy: 0.9870\n",
            "Epoch 4/13\n",
            "600/600 [==============================] - 3s 5ms/step - loss: 0.0294 - accuracy: 0.9902 - val_loss: 0.0467 - val_accuracy: 0.9858\n",
            "Epoch 5/13\n",
            "600/600 [==============================] - 3s 5ms/step - loss: 0.0274 - accuracy: 0.9912 - val_loss: 0.0348 - val_accuracy: 0.9891\n",
            "Epoch 6/13\n",
            "600/600 [==============================] - 3s 5ms/step - loss: 0.0233 - accuracy: 0.9925 - val_loss: 0.0385 - val_accuracy: 0.9870\n",
            "Epoch 7/13\n",
            "600/600 [==============================] - 3s 6ms/step - loss: 0.0228 - accuracy: 0.9926 - val_loss: 0.0442 - val_accuracy: 0.9880\n",
            "Epoch 8/13\n",
            "600/600 [==============================] - 3s 5ms/step - loss: 0.0178 - accuracy: 0.9944 - val_loss: 0.0429 - val_accuracy: 0.9875\n",
            "Epoch 9/13\n",
            "600/600 [==============================] - 3s 5ms/step - loss: 0.0187 - accuracy: 0.9941 - val_loss: 0.0595 - val_accuracy: 0.9861\n",
            "Epoch 10/13\n",
            "600/600 [==============================] - 3s 5ms/step - loss: 0.0204 - accuracy: 0.9934 - val_loss: 0.0380 - val_accuracy: 0.9893\n",
            "Epoch 11/13\n",
            "600/600 [==============================] - 5s 8ms/step - loss: 0.0143 - accuracy: 0.9953 - val_loss: 0.0478 - val_accuracy: 0.9891\n",
            "Epoch 12/13\n",
            "600/600 [==============================] - 3s 5ms/step - loss: 0.0158 - accuracy: 0.9952 - val_loss: 0.0542 - val_accuracy: 0.9859\n",
            "Epoch 13/13\n",
            "600/600 [==============================] - 3s 5ms/step - loss: 0.0155 - accuracy: 0.9951 - val_loss: 0.0465 - val_accuracy: 0.9909\n"
          ]
        }
      ]
    },
    {
      "cell_type": "markdown",
      "source": [
        "# P1. Testing error & Training error"
      ],
      "metadata": {
        "id": "iZy3ZPVxqx1N"
      }
    },
    {
      "cell_type": "code",
      "source": [
        "plt.plot(history.history['loss'], label='Train_error')\n",
        "plt.plot(history.history['val_loss'], label = 'Test_error')\n",
        "plt.plot(history.history['accuracy'], label = 'Train_accuracy')\n",
        "plt.plot(history.history['val_accuracy'], label = 'Test_accuracy')\n",
        "\n",
        "plt.xlabel('Epochs')\n",
        "plt.ylabel('Accuracy / Loss')\n",
        "plt.xlim([0, epochs])\n",
        "plt.ylim([0, 1])\n",
        "plt.legend(loc='lower right')\n",
        "\n",
        "results = model.evaluate(X_test,  y_test, verbose=2)\n",
        "\n",
        "Train_error = history.history['loss']\n",
        "Train_error = min(Train_error)\n",
        "\n",
        "Train_Accuracy = history.history['accuracy']\n",
        "Train_Accuracy = max(Train_Accuracy)\n",
        "\n",
        "print('Train_error', round(Train_error, 7), '\\t', 'Train Accuracy:',  round(Train_Accuracy, 7))\n",
        "print('Test Error:', round(results[0], 7), '\\t', 'Test Accuracy:',  round(results[1], 7))"
      ],
      "metadata": {
        "colab": {
          "base_uri": "https://localhost:8080/",
          "height": 507
        },
        "id": "xT0aNmDxqLp3",
        "outputId": "83d5d890-37de-4c37-95e4-4659b92167e3"
      },
      "execution_count": null,
      "outputs": [
        {
          "output_type": "stream",
          "name": "stdout",
          "text": [
            "313/313 - 1s - loss: 0.0465 - accuracy: 0.9909 - 906ms/epoch - 3ms/step\n",
            "Train_error 0.0142533 \t Train Accuracy: 0.9953\n",
            "Test Error: 0.0464515 \t Test Accuracy: 0.9909\n"
          ]
        },
        {
          "output_type": "display_data",
          "data": {
            "text/plain": [
              "<Figure size 640x480 with 1 Axes>"
            ],
            "image/png": "[encoded data removed]"
          },
          "metadata": {}
        }
      ]
    },
    {
      "cell_type": "markdown",
      "source": [
        "##**Problem 2**\n",
        "In this problem, we will focus on completing an image identification task for Fashion MNIST dataset. In this problem, you are asked to design a fully-connected neural network (FCNN) and a CNN, respectively, for this task. You will have the full freedom to design the structures of your FCNN and CNN.\n",
        "\n",
        "Requirments:\n",
        "*   You need to include the following four components in your lab report: (1) the codes for FCNN and CNN, (2) the obtained training errors by using FCNN and CNN, respectively, (3) the obtained testing errors by using FCNN and CNN, and (4) your observation by comparing the performances of FCNN-based and CNN-based solutions in this task."
      ],
      "metadata": {
        "id": "NhgxwsNZe2be"
      }
    },
    {
      "cell_type": "code",
      "source": [
        "# Hint: Download MNIST fashion dataset\n",
        "(X2_train, y2_train), (X2_test, y2_test) = datasets.fashion_mnist.load_data() # colorful dataset => consider using Conv3D"
      ],
      "metadata": {
        "id": "NKH1B94cieTE",
        "colab": {
          "base_uri": "https://localhost:8080/"
        },
        "outputId": "c55a50e1-81a4-4ef2-be1d-4b5787c663ee"
      },
      "execution_count": null,
      "outputs": [
        {
          "output_type": "stream",
          "name": "stdout",
          "text": [
            "Downloading data from https://storage.googleapis.com/tensorflow/tf-keras-datasets/train-labels-idx1-ubyte.gz\n",
            "29515/29515 [==============================] - 0s 1us/step\n",
            "Downloading data from https://storage.googleapis.com/tensorflow/tf-keras-datasets/train-images-idx3-ubyte.gz\n",
            "26421880/26421880 [==============================] - 2s 0us/step\n",
            "Downloading data from https://storage.googleapis.com/tensorflow/tf-keras-datasets/t10k-labels-idx1-ubyte.gz\n",
            "5148/5148 [==============================] - 0s 0us/step\n",
            "Downloading data from https://storage.googleapis.com/tensorflow/tf-keras-datasets/t10k-images-idx3-ubyte.gz\n",
            "4422102/4422102 [==============================] - 1s 0us/step\n"
          ]
        }
      ]
    },
    {
      "cell_type": "code",
      "source": [
        "print(X2_train.shape)"
      ],
      "metadata": {
        "colab": {
          "base_uri": "https://localhost:8080/"
        },
        "id": "MIOWKQttct3q",
        "outputId": "3b63afa2-da3b-43e0-b77e-fd4c29b270b4"
      },
      "execution_count": null,
      "outputs": [
        {
          "output_type": "stream",
          "name": "stdout",
          "text": [
            "(60000, 28, 28)\n"
          ]
        }
      ]
    },
    {
      "cell_type": "code",
      "source": [
        "plt.figure(figsize=(20,20))\n",
        "plt.subplot(10, 10, 1)\n",
        "plt.xticks([])\n",
        "plt.yticks([])\n",
        "plt.imshow(X2_train[1], cmap=plt.cm.binary)\n",
        "plt.show()"
      ],
      "metadata": {
        "colab": {
          "base_uri": "https://localhost:8080/",
          "height": 167
        },
        "id": "f_N713phY-e0",
        "outputId": "728003a8-8638-4510-e880-22b358578a2d"
      },
      "execution_count": null,
      "outputs": [
        {
          "output_type": "display_data",
          "data": {
            "text/plain": [
              "<Figure size 2000x2000 with 1 Axes>"
            ],
            "image/png": "[encoded data removed]"
          },
          "metadata": {}
        }
      ]
    },
    {
      "cell_type": "code",
      "source": [
        "FCNN_X2_train = X2_train.reshape(60000, 784)\n",
        "FCNN_X2_train = FCNN_X2_train.astype('float32') / 255\n",
        "\n",
        "FCNN_X2_test = X2_test.reshape(10000, 784)\n",
        "FCNN_X2_test = FCNN_X2_test.astype('float32') / 255\n",
        "\n",
        "print(X2_train.shape)\n",
        "print(FCNN_X2_train.shape)\n",
        "\n",
        "print(X2_test.shape)\n",
        "print(FCNN_X2_test.shape)"
      ],
      "metadata": {
        "colab": {
          "base_uri": "https://localhost:8080/"
        },
        "id": "ojfY4dvVaraz",
        "outputId": "22ddc88d-a2cb-4f23-94c8-83262db86e36"
      },
      "execution_count": null,
      "outputs": [
        {
          "output_type": "stream",
          "name": "stdout",
          "text": [
            "(60000, 28, 28)\n",
            "(60000, 784)\n",
            "(10000, 28, 28)\n",
            "(10000, 784)\n"
          ]
        }
      ]
    },
    {
      "cell_type": "markdown",
      "source": [
        "# 2.1 FCNN"
      ],
      "metadata": {
        "id": "rOSgw0YiaQG2"
      }
    },
    {
      "cell_type": "code",
      "source": [
        "# Design a fully-connected neural network with one input layer with two nodes, one hidden layer with two nodes, and one output layer with one node (totally three layers)\n",
        "model2_fcnn = models.Sequential()\n",
        "model2_fcnn.add(layers.Normalization(input_shape = [784,], axis = None))\n",
        "model2_fcnn.add(layers.Dense(150, activation='relu', activity_regularizer=tf.keras.regularizers.L2(0.01)))\n",
        "model2_fcnn.add(layers.Dense(100, activation = 'relu', activity_regularizer=tf.keras.regularizers.L2(0.01)))\n",
        "model2_fcnn.add(layers.Dense(50, activation='relu', activity_regularizer=tf.keras.regularizers.L2(0.01)))\n",
        "\n",
        "model2_fcnn.add(layers.Dense(10, activation = 'softmax', activity_regularizer=tf.keras.regularizers.L2(0.01)))\n",
        "\n",
        "model2_fcnn.summary()"
      ],
      "metadata": {
        "colab": {
          "base_uri": "https://localhost:8080/"
        },
        "id": "SV0t94AFZkN_",
        "outputId": "2435d0e3-9891-4e07-fd4d-2b9b9093de12"
      },
      "execution_count": null,
      "outputs": [
        {
          "output_type": "stream",
          "name": "stdout",
          "text": [
            "Model: \"sequential_9\"\n",
            "_________________________________________________________________\n",
            " Layer (type)                Output Shape              Param #   \n",
            "=================================================================\n",
            " normalization_8 (Normaliza  (None, 784)               3         \n",
            " tion)                                                           \n",
            "                                                                 \n",
            " dense_34 (Dense)            (None, 150)               117750    \n",
            "                                                                 \n",
            " dense_35 (Dense)            (None, 100)               15100     \n",
            "                                                                 \n",
            " dense_36 (Dense)            (None, 50)                5050      \n",
            "                                                                 \n",
            " dense_37 (Dense)            (None, 10)                510       \n",
            "                                                                 \n",
            "=================================================================\n",
            "Total params: 138413 (540.68 KB)\n",
            "Trainable params: 138410 (540.66 KB)\n",
            "Non-trainable params: 3 (16.00 Byte)\n",
            "_________________________________________________________________\n"
          ]
        }
      ]
    },
    {
      "cell_type": "code",
      "source": [
        "with tf.device(device_name):\n",
        "  batch_size = 100\n",
        "\n",
        "\n",
        "  tf.config.get_visible_devices()\n",
        "  adam = optimizers.Adam(learning_rate=0.001)\n",
        "  model2_fcnn.compile(optimizer = adam,\n",
        "              loss='sparse_categorical_crossentropy',\n",
        "              metrics=['accuracy'])\n",
        "  history2_fcnn = model2_fcnn.fit(FCNN_X2_train, y2_train, epochs = 130, batch_size = batch_size,\n",
        "                    validation_data=(FCNN_X2_test, y2_test))"
      ],
      "metadata": {
        "colab": {
          "base_uri": "https://localhost:8080/"
        },
        "id": "pRQl73O6ZkQW",
        "outputId": "ad63441e-0af9-4036-b260-5802c832bff6"
      },
      "execution_count": null,
      "outputs": [
        {
          "output_type": "stream",
          "name": "stdout",
          "text": [
            "Epoch 1/130\n",
            "600/600 [==============================] - 5s 6ms/step - loss: 0.8023 - accuracy: 0.8143 - val_loss: 0.5829 - val_accuracy: 0.8486\n",
            "Epoch 2/130\n",
            "600/600 [==============================] - 3s 4ms/step - loss: 0.5155 - accuracy: 0.8636 - val_loss: 0.5269 - val_accuracy: 0.8502\n",
            "Epoch 3/130\n",
            "600/600 [==============================] - 3s 5ms/step - loss: 0.4560 - accuracy: 0.8731 - val_loss: 0.5077 - val_accuracy: 0.8539\n",
            "Epoch 4/130\n",
            "600/600 [==============================] - 2s 4ms/step - loss: 0.4253 - accuracy: 0.8787 - val_loss: 0.4573 - val_accuracy: 0.8684\n",
            "Epoch 5/130\n",
            "600/600 [==============================] - 3s 6ms/step - loss: 0.4043 - accuracy: 0.8824 - val_loss: 0.4629 - val_accuracy: 0.8567\n",
            "Epoch 6/130\n",
            "600/600 [==============================] - 3s 4ms/step - loss: 0.3921 - accuracy: 0.8858 - val_loss: 0.4383 - val_accuracy: 0.8696\n",
            "Epoch 7/130\n",
            "600/600 [==============================] - 2s 4ms/step - loss: 0.3789 - accuracy: 0.8872 - val_loss: 0.4563 - val_accuracy: 0.8579\n",
            "Epoch 8/130\n",
            "600/600 [==============================] - 2s 4ms/step - loss: 0.3681 - accuracy: 0.8899 - val_loss: 0.4434 - val_accuracy: 0.8647\n",
            "Epoch 9/130\n",
            "600/600 [==============================] - 2s 4ms/step - loss: 0.3609 - accuracy: 0.8919 - val_loss: 0.4347 - val_accuracy: 0.8673\n",
            "Epoch 10/130\n",
            "600/600 [==============================] - 3s 5ms/step - loss: 0.3536 - accuracy: 0.8940 - val_loss: 0.4871 - val_accuracy: 0.8437\n",
            "Epoch 11/130\n",
            "600/600 [==============================] - 4s 6ms/step - loss: 0.3479 - accuracy: 0.8957 - val_loss: 0.4255 - val_accuracy: 0.8695\n",
            "Epoch 12/130\n",
            "600/600 [==============================] - 4s 6ms/step - loss: 0.3413 - accuracy: 0.8971 - val_loss: 0.4297 - val_accuracy: 0.8670\n",
            "Epoch 13/130\n",
            "600/600 [==============================] - 3s 6ms/step - loss: 0.3374 - accuracy: 0.8991 - val_loss: 0.4157 - val_accuracy: 0.8709\n",
            "Epoch 14/130\n",
            "600/600 [==============================] - 5s 8ms/step - loss: 0.3318 - accuracy: 0.8990 - val_loss: 0.4454 - val_accuracy: 0.8655\n",
            "Epoch 15/130\n",
            "600/600 [==============================] - 3s 5ms/step - loss: 0.3291 - accuracy: 0.8997 - val_loss: 0.4461 - val_accuracy: 0.8623\n",
            "Epoch 16/130\n",
            "600/600 [==============================] - 2s 4ms/step - loss: 0.3226 - accuracy: 0.9023 - val_loss: 0.4729 - val_accuracy: 0.8602\n",
            "Epoch 17/130\n",
            "600/600 [==============================] - 2s 4ms/step - loss: 0.3216 - accuracy: 0.9031 - val_loss: 0.4338 - val_accuracy: 0.8656\n",
            "Epoch 18/130\n",
            "600/600 [==============================] - 3s 5ms/step - loss: 0.3188 - accuracy: 0.9028 - val_loss: 0.4307 - val_accuracy: 0.8706\n",
            "Epoch 19/130\n",
            "600/600 [==============================] - 3s 4ms/step - loss: 0.3160 - accuracy: 0.9030 - val_loss: 0.4516 - val_accuracy: 0.8593\n",
            "Epoch 20/130\n",
            "600/600 [==============================] - 2s 4ms/step - loss: 0.3139 - accuracy: 0.9044 - val_loss: 0.4293 - val_accuracy: 0.8709\n",
            "Epoch 21/130\n",
            "600/600 [==============================] - 2s 4ms/step - loss: 0.3080 - accuracy: 0.9058 - val_loss: 0.4327 - val_accuracy: 0.8638\n",
            "Epoch 22/130\n",
            "600/600 [==============================] - 3s 4ms/step - loss: 0.3081 - accuracy: 0.9067 - val_loss: 0.4367 - val_accuracy: 0.8658\n",
            "Epoch 23/130\n",
            "600/600 [==============================] - 3s 5ms/step - loss: 0.3028 - accuracy: 0.9089 - val_loss: 0.4295 - val_accuracy: 0.8674\n",
            "Epoch 24/130\n",
            "600/600 [==============================] - 3s 5ms/step - loss: 0.3019 - accuracy: 0.9088 - val_loss: 0.4537 - val_accuracy: 0.8599\n",
            "Epoch 25/130\n",
            "600/600 [==============================] - 3s 5ms/step - loss: 0.3048 - accuracy: 0.9079 - val_loss: 0.4275 - val_accuracy: 0.8721\n",
            "Epoch 26/130\n",
            "600/600 [==============================] - 3s 4ms/step - loss: 0.2898 - accuracy: 0.9124 - val_loss: 0.4356 - val_accuracy: 0.8679\n",
            "Epoch 27/130\n",
            "600/600 [==============================] - 4s 6ms/step - loss: 0.3002 - accuracy: 0.9095 - val_loss: 0.4260 - val_accuracy: 0.8684\n",
            "Epoch 28/130\n",
            "600/600 [==============================] - 2s 4ms/step - loss: 0.2975 - accuracy: 0.9108 - val_loss: 0.4472 - val_accuracy: 0.8652\n",
            "Epoch 29/130\n",
            "600/600 [==============================] - 3s 5ms/step - loss: 0.3040 - accuracy: 0.9084 - val_loss: 0.4578 - val_accuracy: 0.8670\n",
            "Epoch 30/130\n",
            "600/600 [==============================] - 3s 5ms/step - loss: 0.3070 - accuracy: 0.9092 - val_loss: 0.4473 - val_accuracy: 0.8656\n",
            "Epoch 31/130\n",
            "600/600 [==============================] - 4s 7ms/step - loss: 0.2898 - accuracy: 0.9123 - val_loss: 0.4392 - val_accuracy: 0.8663\n",
            "Epoch 32/130\n",
            "600/600 [==============================] - 3s 6ms/step - loss: 0.2852 - accuracy: 0.9141 - val_loss: 0.4265 - val_accuracy: 0.8733\n",
            "Epoch 33/130\n",
            "600/600 [==============================] - 3s 5ms/step - loss: 0.2862 - accuracy: 0.9131 - val_loss: 0.4629 - val_accuracy: 0.8576\n",
            "Epoch 34/130\n",
            "600/600 [==============================] - 5s 9ms/step - loss: 0.2934 - accuracy: 0.9118 - val_loss: 0.4759 - val_accuracy: 0.8638\n",
            "Epoch 35/130\n",
            "600/600 [==============================] - 3s 4ms/step - loss: 0.2871 - accuracy: 0.9138 - val_loss: 0.4327 - val_accuracy: 0.8715\n",
            "Epoch 36/130\n",
            "600/600 [==============================] - 2s 4ms/step - loss: 0.2906 - accuracy: 0.9131 - val_loss: 0.4400 - val_accuracy: 0.8672\n",
            "Epoch 37/130\n",
            "600/600 [==============================] - 2s 4ms/step - loss: 0.2848 - accuracy: 0.9140 - val_loss: 0.4355 - val_accuracy: 0.8714\n",
            "Epoch 38/130\n",
            "600/600 [==============================] - 2s 4ms/step - loss: 0.2857 - accuracy: 0.9150 - val_loss: 0.4822 - val_accuracy: 0.8572\n",
            "Epoch 39/130\n",
            "600/600 [==============================] - 3s 5ms/step - loss: 0.2844 - accuracy: 0.9161 - val_loss: 0.4467 - val_accuracy: 0.8686\n",
            "Epoch 40/130\n",
            "600/600 [==============================] - 2s 4ms/step - loss: 0.2854 - accuracy: 0.9161 - val_loss: 0.5278 - val_accuracy: 0.8416\n",
            "Epoch 41/130\n",
            "600/600 [==============================] - 3s 5ms/step - loss: 0.2888 - accuracy: 0.9145 - val_loss: 0.4556 - val_accuracy: 0.8629\n",
            "Epoch 42/130\n",
            "600/600 [==============================] - 3s 5ms/step - loss: 0.2912 - accuracy: 0.9135 - val_loss: 0.4385 - val_accuracy: 0.8685\n",
            "Epoch 43/130\n",
            "600/600 [==============================] - 4s 6ms/step - loss: 0.2814 - accuracy: 0.9173 - val_loss: 0.4400 - val_accuracy: 0.8701\n",
            "Epoch 44/130\n",
            "600/600 [==============================] - 3s 5ms/step - loss: 0.2748 - accuracy: 0.9175 - val_loss: 0.4604 - val_accuracy: 0.8670\n",
            "Epoch 45/130\n",
            "600/600 [==============================] - 2s 4ms/step - loss: 0.2808 - accuracy: 0.9161 - val_loss: 0.4378 - val_accuracy: 0.8715\n",
            "Epoch 46/130\n",
            "600/600 [==============================] - 2s 4ms/step - loss: 0.2795 - accuracy: 0.9178 - val_loss: 0.4439 - val_accuracy: 0.8713\n",
            "Epoch 47/130\n",
            "600/600 [==============================] - 3s 5ms/step - loss: 0.2752 - accuracy: 0.9189 - val_loss: 0.4487 - val_accuracy: 0.8687\n",
            "Epoch 48/130\n",
            "600/600 [==============================] - 3s 5ms/step - loss: 0.2807 - accuracy: 0.9161 - val_loss: 0.4605 - val_accuracy: 0.8660\n",
            "Epoch 49/130\n",
            "600/600 [==============================] - 2s 4ms/step - loss: 0.2743 - accuracy: 0.9193 - val_loss: 0.4484 - val_accuracy: 0.8659\n",
            "Epoch 50/130\n",
            "600/600 [==============================] - 2s 4ms/step - loss: 0.2739 - accuracy: 0.9179 - val_loss: 0.4563 - val_accuracy: 0.8677\n",
            "Epoch 51/130\n",
            "600/600 [==============================] - 2s 4ms/step - loss: 0.2742 - accuracy: 0.9193 - val_loss: 0.4531 - val_accuracy: 0.8674\n",
            "Epoch 52/130\n",
            "600/600 [==============================] - 3s 4ms/step - loss: 0.2751 - accuracy: 0.9186 - val_loss: 0.4540 - val_accuracy: 0.8684\n",
            "Epoch 53/130\n",
            "600/600 [==============================] - 3s 5ms/step - loss: 0.2777 - accuracy: 0.9189 - val_loss: 0.4554 - val_accuracy: 0.8667\n",
            "Epoch 54/130\n",
            "600/600 [==============================] - 2s 4ms/step - loss: 0.2693 - accuracy: 0.9198 - val_loss: 0.4568 - val_accuracy: 0.8646\n",
            "Epoch 55/130\n",
            "600/600 [==============================] - 2s 4ms/step - loss: 0.2768 - accuracy: 0.9197 - val_loss: 0.4503 - val_accuracy: 0.8752\n",
            "Epoch 56/130\n",
            "600/600 [==============================] - 3s 5ms/step - loss: 0.2715 - accuracy: 0.9201 - val_loss: 0.4872 - val_accuracy: 0.8545\n",
            "Epoch 57/130\n",
            "600/600 [==============================] - 5s 8ms/step - loss: 0.2652 - accuracy: 0.9219 - val_loss: 0.4924 - val_accuracy: 0.8607\n",
            "Epoch 58/130\n",
            "600/600 [==============================] - 4s 7ms/step - loss: 0.2683 - accuracy: 0.9209 - val_loss: 0.4486 - val_accuracy: 0.8700\n",
            "Epoch 59/130\n",
            "600/600 [==============================] - 3s 5ms/step - loss: 0.2696 - accuracy: 0.9219 - val_loss: 0.4564 - val_accuracy: 0.8616\n",
            "Epoch 60/130\n",
            "600/600 [==============================] - 3s 5ms/step - loss: 0.2635 - accuracy: 0.9220 - val_loss: 0.4732 - val_accuracy: 0.8653\n",
            "Epoch 61/130\n",
            "600/600 [==============================] - 3s 4ms/step - loss: 0.2687 - accuracy: 0.9225 - val_loss: 0.4561 - val_accuracy: 0.8681\n",
            "Epoch 62/130\n",
            "600/600 [==============================] - 2s 4ms/step - loss: 0.2697 - accuracy: 0.9203 - val_loss: 0.4737 - val_accuracy: 0.8592\n",
            "Epoch 63/130\n",
            "600/600 [==============================] - 2s 4ms/step - loss: 0.2616 - accuracy: 0.9239 - val_loss: 0.4692 - val_accuracy: 0.8670\n",
            "Epoch 64/130\n",
            "600/600 [==============================] - 2s 4ms/step - loss: 0.3087 - accuracy: 0.9097 - val_loss: 0.4983 - val_accuracy: 0.8605\n",
            "Epoch 65/130\n",
            "600/600 [==============================] - 3s 5ms/step - loss: 0.3025 - accuracy: 0.9135 - val_loss: 0.4722 - val_accuracy: 0.8667\n",
            "Epoch 66/130\n",
            "600/600 [==============================] - 3s 4ms/step - loss: 0.2869 - accuracy: 0.9173 - val_loss: 0.4681 - val_accuracy: 0.8685\n",
            "Epoch 67/130\n",
            "600/600 [==============================] - 4s 6ms/step - loss: 0.2823 - accuracy: 0.9179 - val_loss: 0.4748 - val_accuracy: 0.8637\n",
            "Epoch 68/130\n",
            "600/600 [==============================] - 3s 5ms/step - loss: 0.2787 - accuracy: 0.9192 - val_loss: 0.4660 - val_accuracy: 0.8615\n",
            "Epoch 69/130\n",
            "600/600 [==============================] - 3s 5ms/step - loss: 0.2768 - accuracy: 0.9201 - val_loss: 0.5195 - val_accuracy: 0.8565\n",
            "Epoch 70/130\n",
            "600/600 [==============================] - 4s 7ms/step - loss: 0.2862 - accuracy: 0.9191 - val_loss: 0.4839 - val_accuracy: 0.8680\n",
            "Epoch 71/130\n",
            "600/600 [==============================] - 3s 4ms/step - loss: 0.2728 - accuracy: 0.9215 - val_loss: 0.4879 - val_accuracy: 0.8523\n",
            "Epoch 72/130\n",
            "600/600 [==============================] - 2s 4ms/step - loss: 0.2728 - accuracy: 0.9192 - val_loss: 0.4833 - val_accuracy: 0.8702\n",
            "Epoch 73/130\n",
            "600/600 [==============================] - 2s 4ms/step - loss: 0.2704 - accuracy: 0.9215 - val_loss: 0.5157 - val_accuracy: 0.8430\n",
            "Epoch 74/130\n",
            "600/600 [==============================] - 3s 5ms/step - loss: 0.2677 - accuracy: 0.9218 - val_loss: 0.4688 - val_accuracy: 0.8651\n",
            "Epoch 75/130\n",
            "600/600 [==============================] - 2s 4ms/step - loss: 0.2717 - accuracy: 0.9208 - val_loss: 0.5040 - val_accuracy: 0.8611\n",
            "Epoch 76/130\n",
            "600/600 [==============================] - 2s 4ms/step - loss: 0.2705 - accuracy: 0.9221 - val_loss: 0.4699 - val_accuracy: 0.8607\n",
            "Epoch 77/130\n",
            "600/600 [==============================] - 2s 4ms/step - loss: 0.2715 - accuracy: 0.9212 - val_loss: 0.4664 - val_accuracy: 0.8671\n",
            "Epoch 78/130\n",
            "600/600 [==============================] - 2s 4ms/step - loss: 0.2797 - accuracy: 0.9194 - val_loss: 0.4978 - val_accuracy: 0.8598\n",
            "Epoch 79/130\n",
            "600/600 [==============================] - 3s 5ms/step - loss: 0.2771 - accuracy: 0.9208 - val_loss: 0.4929 - val_accuracy: 0.8620\n",
            "Epoch 80/130\n",
            "600/600 [==============================] - 2s 4ms/step - loss: 0.2759 - accuracy: 0.9213 - val_loss: 0.4705 - val_accuracy: 0.8666\n",
            "Epoch 81/130\n",
            "600/600 [==============================] - 2s 4ms/step - loss: 0.2653 - accuracy: 0.9236 - val_loss: 0.4767 - val_accuracy: 0.8655\n",
            "Epoch 82/130\n",
            "600/600 [==============================] - 2s 4ms/step - loss: 0.2693 - accuracy: 0.9233 - val_loss: 0.4790 - val_accuracy: 0.8604\n",
            "Epoch 83/130\n",
            "600/600 [==============================] - 2s 4ms/step - loss: 0.2694 - accuracy: 0.9230 - val_loss: 0.4917 - val_accuracy: 0.8648\n",
            "Epoch 84/130\n",
            "600/600 [==============================] - 3s 5ms/step - loss: 0.2674 - accuracy: 0.9240 - val_loss: 0.4987 - val_accuracy: 0.8617\n",
            "Epoch 85/130\n",
            "600/600 [==============================] - 2s 4ms/step - loss: 0.2648 - accuracy: 0.9251 - val_loss: 0.4687 - val_accuracy: 0.8673\n",
            "Epoch 86/130\n",
            "600/600 [==============================] - 2s 4ms/step - loss: 0.2611 - accuracy: 0.9244 - val_loss: 0.5324 - val_accuracy: 0.8607\n",
            "Epoch 87/130\n",
            "600/600 [==============================] - 2s 4ms/step - loss: 0.2678 - accuracy: 0.9244 - val_loss: 0.4744 - val_accuracy: 0.8642\n",
            "Epoch 88/130\n",
            "600/600 [==============================] - 2s 4ms/step - loss: 0.2653 - accuracy: 0.9235 - val_loss: 0.5040 - val_accuracy: 0.8577\n",
            "Epoch 89/130\n",
            "600/600 [==============================] - 3s 5ms/step - loss: 0.2613 - accuracy: 0.9256 - val_loss: 0.4600 - val_accuracy: 0.8702\n",
            "Epoch 90/130\n",
            "600/600 [==============================] - 2s 4ms/step - loss: 0.2571 - accuracy: 0.9270 - val_loss: 0.4937 - val_accuracy: 0.8594\n",
            "Epoch 91/130\n",
            "600/600 [==============================] - 2s 4ms/step - loss: 0.2599 - accuracy: 0.9262 - val_loss: 0.5047 - val_accuracy: 0.8591\n",
            "Epoch 92/130\n",
            "600/600 [==============================] - 2s 4ms/step - loss: 0.2600 - accuracy: 0.9244 - val_loss: 0.4765 - val_accuracy: 0.8622\n",
            "Epoch 93/130\n",
            "600/600 [==============================] - 2s 4ms/step - loss: 0.2686 - accuracy: 0.9247 - val_loss: 0.4897 - val_accuracy: 0.8684\n",
            "Epoch 94/130\n",
            "600/600 [==============================] - 3s 5ms/step - loss: 0.2799 - accuracy: 0.9218 - val_loss: 0.4946 - val_accuracy: 0.8692\n",
            "Epoch 95/130\n",
            "600/600 [==============================] - 2s 4ms/step - loss: 0.2592 - accuracy: 0.9265 - val_loss: 0.4730 - val_accuracy: 0.8657\n",
            "Epoch 96/130\n",
            "600/600 [==============================] - 3s 4ms/step - loss: 0.2582 - accuracy: 0.9254 - val_loss: 0.5310 - val_accuracy: 0.8559\n",
            "Epoch 97/130\n",
            "600/600 [==============================] - 2s 4ms/step - loss: 0.2662 - accuracy: 0.9244 - val_loss: 0.4891 - val_accuracy: 0.8686\n",
            "Epoch 98/130\n",
            "600/600 [==============================] - 3s 5ms/step - loss: 0.2590 - accuracy: 0.9269 - val_loss: 0.4981 - val_accuracy: 0.8644\n",
            "Epoch 99/130\n",
            "600/600 [==============================] - 3s 4ms/step - loss: 0.2503 - accuracy: 0.9292 - val_loss: 0.4954 - val_accuracy: 0.8638\n",
            "Epoch 100/130\n",
            "600/600 [==============================] - 3s 4ms/step - loss: 0.2564 - accuracy: 0.9271 - val_loss: 0.4937 - val_accuracy: 0.8617\n",
            "Epoch 101/130\n",
            "600/600 [==============================] - 2s 4ms/step - loss: 0.2531 - accuracy: 0.9287 - val_loss: 0.4926 - val_accuracy: 0.8643\n",
            "Epoch 102/130\n",
            "600/600 [==============================] - 2s 4ms/step - loss: 0.2572 - accuracy: 0.9272 - val_loss: 0.5431 - val_accuracy: 0.8630\n",
            "Epoch 103/130\n",
            "600/600 [==============================] - 3s 5ms/step - loss: 0.2594 - accuracy: 0.9276 - val_loss: 0.4916 - val_accuracy: 0.8697\n",
            "Epoch 104/130\n",
            "600/600 [==============================] - 3s 5ms/step - loss: 0.2564 - accuracy: 0.9273 - val_loss: 0.5034 - val_accuracy: 0.8634\n",
            "Epoch 105/130\n",
            "600/600 [==============================] - 2s 4ms/step - loss: 0.2598 - accuracy: 0.9276 - val_loss: 0.5550 - val_accuracy: 0.8569\n",
            "Epoch 106/130\n",
            "600/600 [==============================] - 3s 4ms/step - loss: 0.2527 - accuracy: 0.9280 - val_loss: 0.5134 - val_accuracy: 0.8611\n",
            "Epoch 107/130\n",
            "600/600 [==============================] - 2s 4ms/step - loss: 0.2681 - accuracy: 0.9256 - val_loss: 0.5170 - val_accuracy: 0.8675\n",
            "Epoch 108/130\n",
            "600/600 [==============================] - 3s 5ms/step - loss: 0.2562 - accuracy: 0.9275 - val_loss: 0.5070 - val_accuracy: 0.8684\n",
            "Epoch 109/130\n",
            "600/600 [==============================] - 2s 4ms/step - loss: 0.2587 - accuracy: 0.9254 - val_loss: 0.4929 - val_accuracy: 0.8634\n",
            "Epoch 110/130\n",
            "600/600 [==============================] - 2s 4ms/step - loss: 0.2594 - accuracy: 0.9274 - val_loss: 0.4774 - val_accuracy: 0.8674\n",
            "Epoch 111/130\n",
            "600/600 [==============================] - 2s 4ms/step - loss: 0.2579 - accuracy: 0.9272 - val_loss: 0.4934 - val_accuracy: 0.8646\n",
            "Epoch 112/130\n",
            "600/600 [==============================] - 2s 4ms/step - loss: 0.2670 - accuracy: 0.9229 - val_loss: 0.4897 - val_accuracy: 0.8679\n",
            "Epoch 113/130\n",
            "600/600 [==============================] - 3s 5ms/step - loss: 0.2635 - accuracy: 0.9264 - val_loss: 0.4826 - val_accuracy: 0.8682\n",
            "Epoch 114/130\n",
            "600/600 [==============================] - 2s 4ms/step - loss: 0.2533 - accuracy: 0.9283 - val_loss: 0.5045 - val_accuracy: 0.8680\n",
            "Epoch 115/130\n",
            "600/600 [==============================] - 2s 4ms/step - loss: 0.2558 - accuracy: 0.9285 - val_loss: 0.5016 - val_accuracy: 0.8632\n",
            "Epoch 116/130\n",
            "600/600 [==============================] - 3s 4ms/step - loss: 0.2707 - accuracy: 0.9249 - val_loss: 0.5062 - val_accuracy: 0.8592\n",
            "Epoch 117/130\n",
            "600/600 [==============================] - 2s 4ms/step - loss: 0.2584 - accuracy: 0.9271 - val_loss: 0.5282 - val_accuracy: 0.8653\n",
            "Epoch 118/130\n",
            "600/600 [==============================] - 3s 5ms/step - loss: 0.2577 - accuracy: 0.9284 - val_loss: 0.5299 - val_accuracy: 0.8630\n",
            "Epoch 119/130\n",
            "600/600 [==============================] - 2s 4ms/step - loss: 0.2717 - accuracy: 0.9237 - val_loss: 0.4911 - val_accuracy: 0.8679\n",
            "Epoch 120/130\n",
            "600/600 [==============================] - 2s 4ms/step - loss: 0.2596 - accuracy: 0.9286 - val_loss: 0.5058 - val_accuracy: 0.8665\n",
            "Epoch 121/130\n",
            "600/600 [==============================] - 2s 4ms/step - loss: 0.2611 - accuracy: 0.9277 - val_loss: 0.5204 - val_accuracy: 0.8595\n",
            "Epoch 122/130\n",
            "600/600 [==============================] - 2s 4ms/step - loss: 0.2765 - accuracy: 0.9255 - val_loss: 0.5270 - val_accuracy: 0.8651\n",
            "Epoch 123/130\n",
            "600/600 [==============================] - 4s 6ms/step - loss: 0.2791 - accuracy: 0.9238 - val_loss: 0.5335 - val_accuracy: 0.8608\n",
            "Epoch 124/130\n",
            "600/600 [==============================] - 2s 4ms/step - loss: 0.2689 - accuracy: 0.9270 - val_loss: 0.5580 - val_accuracy: 0.8555\n",
            "Epoch 125/130\n",
            "600/600 [==============================] - 2s 4ms/step - loss: 0.2784 - accuracy: 0.9252 - val_loss: 0.5170 - val_accuracy: 0.8701\n",
            "Epoch 126/130\n",
            "600/600 [==============================] - 2s 4ms/step - loss: 0.2561 - accuracy: 0.9311 - val_loss: 0.5199 - val_accuracy: 0.8678\n",
            "Epoch 127/130\n",
            "600/600 [==============================] - 3s 4ms/step - loss: 0.2815 - accuracy: 0.9244 - val_loss: 0.5323 - val_accuracy: 0.8607\n",
            "Epoch 128/130\n",
            "600/600 [==============================] - 4s 6ms/step - loss: 0.2863 - accuracy: 0.9240 - val_loss: 0.5151 - val_accuracy: 0.8668\n",
            "Epoch 129/130\n",
            "600/600 [==============================] - 3s 4ms/step - loss: 0.2856 - accuracy: 0.9243 - val_loss: 0.5002 - val_accuracy: 0.8628\n",
            "Epoch 130/130\n",
            "600/600 [==============================] - 2s 4ms/step - loss: 0.2659 - accuracy: 0.9281 - val_loss: 0.5007 - val_accuracy: 0.8679\n"
          ]
        }
      ]
    },
    {
      "cell_type": "markdown",
      "source": [
        "# 2.2.1 FCNN Test & Train Error\n",
        "\n",
        "> Indented block\n",
        "\n"
      ],
      "metadata": {
        "id": "gHH1kSoGftrZ"
      }
    },
    {
      "cell_type": "code",
      "source": [
        "# Evaluate the fully connected neural network Model\n",
        "plt.plot(history2_fcnn.history['loss'], label='Train_error')\n",
        "plt.plot(history2_fcnn.history['val_loss'], label = 'Test_error')\n",
        "plt.plot(history2_fcnn.history['accuracy'], label = 'Train_accuracy')\n",
        "plt.plot(history2_fcnn.history['val_accuracy'], label = 'Test_accuracy')\n",
        "\n",
        "plt.xlabel('Epochs')\n",
        "plt.ylabel('Accuracy / Loss')\n",
        "plt.xlim([0, len(history2_fcnn.history['loss'])])\n",
        "plt.ylim([0, 2])\n",
        "plt.legend(loc='lower right')\n",
        "\n",
        "results2_fcnn = model2_fcnn.evaluate(FCNN_X2_test, y2_test, verbose=2)\n",
        "\n",
        "Train_error = history2_fcnn.history['loss']\n",
        "Train_error = min(Train_error)\n",
        "\n",
        "Train_Accuracy = history2_fcnn.history['accuracy']\n",
        "Train_Accuracy = max(Train_Accuracy)\n",
        "\n",
        "print('Train_error', round(Train_error, 7), '\\t', 'Train Accuracy:',  round(Train_Accuracy, 7))\n",
        "print('Test Error:', round(results2_fcnn[0], 7), '\\t', 'Test Accuracy:',  round(results2_fcnn[1], 7))"
      ],
      "metadata": {
        "id": "xGFWaHVsZkTH",
        "colab": {
          "base_uri": "https://localhost:8080/",
          "height": 507
        },
        "outputId": "5638b79f-1203-45bd-dc0a-ff451d591b97"
      },
      "execution_count": null,
      "outputs": [
        {
          "output_type": "stream",
          "name": "stdout",
          "text": [
            "313/313 - 1s - loss: 0.5007 - accuracy: 0.8679 - 1s/epoch - 4ms/step\n",
            "Train_error 0.2503307 \t Train Accuracy: 0.9311333\n",
            "Test Error: 0.5007455 \t Test Accuracy: 0.8679\n"
          ]
        },
        {
          "output_type": "display_data",
          "data": {
            "text/plain": [
              "<Figure size 640x480 with 1 Axes>"
            ],
            "image/png": "[encoded data removed]"
          },
          "metadata": {}
        }
      ]
    },
    {
      "cell_type": "markdown",
      "source": [
        "# 2.2 CNN"
      ],
      "metadata": {
        "id": "TZ97IoPjaSeq"
      }
    },
    {
      "cell_type": "code",
      "source": [
        "# Buidling CNN\n",
        "model2_cnn = models.Sequential()\n",
        "\n",
        "# Extracting features\n",
        "model2_cnn.add(layers.Conv2D(50, (3, 3), activation='relu', padding='same', input_shape=(28, 28, 1)))\n",
        "model2_cnn.add(layers.MaxPooling2D((2, 2)))\n",
        "\n",
        "model2_cnn.add(layers.Conv2D(150, (3, 3), activation='relu', padding='same'))\n",
        "model2_cnn.add(layers.MaxPooling2D((2, 2)))\n",
        "\n",
        "model2_cnn.add(layers.Conv2D(200, (3, 3), activation='relu', padding='same'))\n",
        "model2_cnn.add(layers.MaxPooling2D((2, 2)))\n",
        "\n",
        "# Categorize\n",
        "model2_cnn.add(layers.Flatten())\n",
        "model2_cnn.add(layers.Dense(130, activation='relu'))\n",
        "\n",
        "# output\n",
        "model2_cnn.add(layers.Dense(10, activation = 'softmax'))\n",
        "\n",
        "model2_cnn.summary()"
      ],
      "metadata": {
        "id": "UzoAf9kIZkU2",
        "colab": {
          "base_uri": "https://localhost:8080/"
        },
        "outputId": "67133dcd-9bfc-46a5-8a20-f3ca50b9c867"
      },
      "execution_count": null,
      "outputs": [
        {
          "output_type": "stream",
          "name": "stdout",
          "text": [
            "Model: \"sequential_7\"\n",
            "_________________________________________________________________\n",
            " Layer (type)                Output Shape              Param #   \n",
            "=================================================================\n",
            " conv2d_21 (Conv2D)          (None, 28, 28, 50)        500       \n",
            "                                                                 \n",
            " max_pooling2d_21 (MaxPooli  (None, 14, 14, 50)        0         \n",
            " ng2D)                                                           \n",
            "                                                                 \n",
            " conv2d_22 (Conv2D)          (None, 14, 14, 150)       67650     \n",
            "                                                                 \n",
            " max_pooling2d_22 (MaxPooli  (None, 7, 7, 150)         0         \n",
            " ng2D)                                                           \n",
            "                                                                 \n",
            " conv2d_23 (Conv2D)          (None, 7, 7, 200)         270200    \n",
            "                                                                 \n",
            " max_pooling2d_23 (MaxPooli  (None, 3, 3, 200)         0         \n",
            " ng2D)                                                           \n",
            "                                                                 \n",
            " flatten_7 (Flatten)         (None, 1800)              0         \n",
            "                                                                 \n",
            " dense_14 (Dense)            (None, 130)               234130    \n",
            "                                                                 \n",
            " dense_15 (Dense)            (None, 10)                1310      \n",
            "                                                                 \n",
            "=================================================================\n",
            "Total params: 573790 (2.19 MB)\n",
            "Trainable params: 573790 (2.19 MB)\n",
            "Non-trainable params: 0 (0.00 Byte)\n",
            "_________________________________________________________________\n"
          ]
        }
      ]
    },
    {
      "cell_type": "code",
      "source": [
        "\n",
        "# from_logits = False if you set the activation function as softmax in the last dense layer\n",
        "\n",
        "batch_size = 100\n",
        "callback = tf.keras.callbacks.EarlyStopping(monitor='val_loss', patience = 10, mode='auto')\n",
        "\n",
        "with tf.device(device_name):\n",
        "  adam = optimizers.Adam(learning_rate=0.0001)\n",
        "\n",
        "\n",
        "  model2_cnn.compile(optimizer='adam',\n",
        "            loss=tf.keras.losses.SparseCategoricalCrossentropy(from_logits=True), # softamx: from_logits=True / other activation => False\n",
        "            metrics=['accuracy'])\n",
        "\n",
        "  history2_cnn = model2_cnn.fit(X2_train, y2_train, epochs = 33, batch_size = batch_size,\n",
        "                    validation_data=(X2_test, y2_test), callbacks = [callback])"
      ],
      "metadata": {
        "id": "Lh6E57bHaSIS",
        "colab": {
          "base_uri": "https://localhost:8080/"
        },
        "outputId": "a027120f-c4aa-40f9-f1ca-9748efbdd4d0"
      },
      "execution_count": null,
      "outputs": [
        {
          "output_type": "stream",
          "name": "stdout",
          "text": [
            "Epoch 1/33\n"
          ]
        },
        {
          "output_type": "stream",
          "name": "stderr",
          "text": [
            "/usr/local/lib/python3.10/dist-packages/keras/src/backend.py:5729: UserWarning: \"`sparse_categorical_crossentropy` received `from_logits=True`, but the `output` argument was produced by a Softmax activation and thus does not represent logits. Was this intended?\n",
            "  output, from_logits = _get_logits(\n"
          ]
        },
        {
          "output_type": "stream",
          "name": "stdout",
          "text": [
            "600/600 [==============================] - 7s 8ms/step - loss: 0.6776 - accuracy: 0.8334 - val_loss: 0.3212 - val_accuracy: 0.8878\n",
            "Epoch 2/33\n",
            "600/600 [==============================] - 5s 8ms/step - loss: 0.2842 - accuracy: 0.8957 - val_loss: 0.3207 - val_accuracy: 0.8872\n",
            "Epoch 3/33\n",
            "600/600 [==============================] - 5s 8ms/step - loss: 0.2397 - accuracy: 0.9131 - val_loss: 0.2811 - val_accuracy: 0.9009\n",
            "Epoch 4/33\n",
            "600/600 [==============================] - 5s 8ms/step - loss: 0.2165 - accuracy: 0.9201 - val_loss: 0.2612 - val_accuracy: 0.9089\n",
            "Epoch 5/33\n",
            "600/600 [==============================] - 5s 8ms/step - loss: 0.1932 - accuracy: 0.9295 - val_loss: 0.2571 - val_accuracy: 0.9123\n",
            "Epoch 6/33\n",
            "600/600 [==============================] - 5s 8ms/step - loss: 0.1752 - accuracy: 0.9349 - val_loss: 0.3138 - val_accuracy: 0.8949\n",
            "Epoch 7/33\n",
            "600/600 [==============================] - 5s 8ms/step - loss: 0.1648 - accuracy: 0.9390 - val_loss: 0.2983 - val_accuracy: 0.9061\n",
            "Epoch 8/33\n",
            "600/600 [==============================] - 5s 8ms/step - loss: 0.1522 - accuracy: 0.9428 - val_loss: 0.2746 - val_accuracy: 0.9103\n",
            "Epoch 9/33\n",
            "600/600 [==============================] - 5s 8ms/step - loss: 0.1392 - accuracy: 0.9480 - val_loss: 0.3152 - val_accuracy: 0.9011\n",
            "Epoch 10/33\n",
            "600/600 [==============================] - 5s 9ms/step - loss: 0.1274 - accuracy: 0.9518 - val_loss: 0.3050 - val_accuracy: 0.9083\n",
            "Epoch 11/33\n",
            "600/600 [==============================] - 6s 10ms/step - loss: 0.1173 - accuracy: 0.9559 - val_loss: 0.3232 - val_accuracy: 0.9147\n",
            "Epoch 12/33\n",
            "600/600 [==============================] - 5s 8ms/step - loss: 0.1070 - accuracy: 0.9599 - val_loss: 0.3599 - val_accuracy: 0.9061\n",
            "Epoch 13/33\n",
            "600/600 [==============================] - 6s 11ms/step - loss: 0.1013 - accuracy: 0.9623 - val_loss: 0.3463 - val_accuracy: 0.9110\n",
            "Epoch 14/33\n",
            "600/600 [==============================] - 5s 8ms/step - loss: 0.0979 - accuracy: 0.9629 - val_loss: 0.3455 - val_accuracy: 0.9113\n",
            "Epoch 15/33\n",
            "600/600 [==============================] - 5s 8ms/step - loss: 0.0888 - accuracy: 0.9670 - val_loss: 0.3296 - val_accuracy: 0.9156\n"
          ]
        }
      ]
    },
    {
      "cell_type": "markdown",
      "source": [
        "# 2.2.2 CNN Test & Train Error"
      ],
      "metadata": {
        "id": "zqEii8Mnf2dr"
      }
    },
    {
      "cell_type": "code",
      "source": [
        "plt.plot(history2_cnn.history['loss'], label='Train_error')\n",
        "plt.plot(history2_cnn.history['val_loss'], label = 'Test_error')\n",
        "plt.plot(history2_cnn.history['accuracy'], label = 'Train_accuracy')\n",
        "plt.plot(history2_cnn.history['val_accuracy'], label = 'Test_accuracy')\n",
        "\n",
        "plt.xlabel('Epochs')\n",
        "plt.ylabel('Accuracy / Loss')\n",
        "plt.xlim([0, len(history2_cnn.history['accuracy'])])\n",
        "plt.ylim([0, 1])\n",
        "plt.legend(loc='lower right')\n",
        "\n",
        "results2_cnn = model2_cnn.evaluate(X2_test,  y2_test, verbose=2)\n",
        "\n",
        "Train_error = history2_cnn.history['loss']\n",
        "Train_error = min(Train_error)\n",
        "\n",
        "Train_Accuracy = history2_cnn.history['accuracy']\n",
        "Train_Accuracy = max(Train_Accuracy)\n",
        "\n",
        "Test_error = history2_cnn.history['val_loss']\n",
        "Test_error = min(Test_error)\n",
        "\n",
        "Test_Accuracy = history2_cnn.history['val_accuracy']\n",
        "Test_Accuracy = max(Test_Accuracy)\n",
        "\n",
        "\n",
        "print('Train_error', round(Train_error, 7), '\\t', 'Train Accuracy:',  round(Train_Accuracy, 7))\n",
        "\n",
        "# print('Test_error', round(Test_error, 7), '\\t', 'Test Accuracy:',  round(Test_Accuracy, 7))\n",
        "\n",
        "print('Test Error:', round(results2_cnn[0], 7), '\\t', 'Test Accuracy:',  round(results2_cnn[1], 7))"
      ],
      "metadata": {
        "id": "6VkLFeHZaVpP",
        "colab": {
          "base_uri": "https://localhost:8080/",
          "height": 507
        },
        "outputId": "3a950081-094b-4a89-ec15-0947c0ac4e64"
      },
      "execution_count": null,
      "outputs": [
        {
          "output_type": "stream",
          "name": "stdout",
          "text": [
            "313/313 - 1s - loss: 0.3296 - accuracy: 0.9156 - 843ms/epoch - 3ms/step\n",
            "Train_error 0.0888042 \t Train Accuracy: 0.9670166\n",
            "Test Error: 0.3295812 \t Test Accuracy: 0.9156\n"
          ]
        },
        {
          "output_type": "display_data",
          "data": {
            "text/plain": [
              "<Figure size 640x480 with 1 Axes>"
            ],
            "image/png": "[encoded data removed]"
          },
          "metadata": {}
        }
      ]
    },
    {
      "cell_type": "markdown",
      "source": [
        "# 2.3 Observation\n",
        "\n",
        "# FCNN\n",
        "- Train_error 0.2503307 \t Train Accuracy: 0.9311333\n",
        "- Test Error: 0.5007455 \t Test Accuracy: 0.8679\n",
        "\n",
        "# CNN\n",
        "- Train_error 0.0142533 \t Train Accuracy: 0.9953\n",
        "- Test Error: 0.5384493 \t Test Accuracy: 0.9144\n",
        "\n",
        "\n",
        "Even if I ran 15 epochs, the CNN performance is better than FCNN. However, in the CNN process, I have to consider that it occurred overfitting. I thought that because, at first, I ran the CNN model over 100 epochs, but I watched that after about 13~15 epochs, the val_loss gradually increased, so I applied the Earlystopping.\n",
        "\n",
        "Despite considering overfitting, If I had to choose one of the above two models, I would choose the CNN model because it showed better performance in test accuracy."
      ],
      "metadata": {
        "id": "qW4RQ7I0aWOA"
      }
    },
    {
      "cell_type": "markdown",
      "source": [
        "##**Problem 3**\n",
        "In this problem, we will focus on completing a relatively more difficult image identification task for CIFAR-10 dataset. In this problem, you are asked to design a FCNN and a CNN, respectively, for this task. You will have the full freedom to design the structure of your FCNN and CNN.\n",
        "\n",
        "Requirments:\n",
        "*   You need to include the following four components in your lab report: (1) the codes for FCNN and CNN, (2) the obtained training errors by using FCNN and CNN, respectively, (3) the obtained testing error by using FCNN and CNN, and (4) your observation by comparing the performances of FCNN-based and CNN-based solutions for this task.\n",
        "(Comment: Since the data is relatively complex, it is fine that you cannot get a very high accuracy.)"
      ],
      "metadata": {
        "id": "Gbg4e_BqlSbd"
      }
    },
    {
      "cell_type": "code",
      "source": [
        "# Hint: Download CIFAR-10 dataset\n",
        "(X3_train, y3_train), (X3_test, y3_test) = datasets.cifar10.load_data()"
      ],
      "metadata": {
        "id": "_SSmmlWrNKG1",
        "colab": {
          "base_uri": "https://localhost:8080/"
        },
        "outputId": "5b2b7443-f240-48e6-a560-1183fcfa06df"
      },
      "execution_count": 5,
      "outputs": [
        {
          "output_type": "stream",
          "name": "stdout",
          "text": [
            "Downloading data from https://www.cs.toronto.edu/~kriz/cifar-10-python.tar.gz\n",
            "170498071/170498071 [==============================] - 3s 0us/step\n"
          ]
        }
      ]
    },
    {
      "cell_type": "code",
      "source": [
        "FCNN_X3_train = X3_train.reshape(50000, 3072)\n",
        "FCNN_X3_train = FCNN_X3_train.astype('float32') / 255\n",
        "\n",
        "FCNN_X3_test = X3_test.reshape(10000, 3072)\n",
        "FCNN_X3_test = FCNN_X3_test.astype('float32') / 255\n",
        "\n",
        "print(X3_train.shape)\n",
        "print(FCNN_X3_train.shape)\n",
        "\n",
        "print(X3_test.shape)\n",
        "print(FCNN_X3_test.shape)"
      ],
      "metadata": {
        "colab": {
          "base_uri": "https://localhost:8080/"
        },
        "id": "GuQOgvJkzDTN",
        "outputId": "27d2a57a-1fa9-428c-b3ac-49a9cdbe6d69"
      },
      "execution_count": 6,
      "outputs": [
        {
          "output_type": "stream",
          "name": "stdout",
          "text": [
            "(50000, 32, 32, 3)\n",
            "(50000, 3072)\n",
            "(10000, 32, 32, 3)\n",
            "(10000, 3072)\n"
          ]
        }
      ]
    },
    {
      "cell_type": "code",
      "source": [
        "plt.figure(figsize=(20,20))\n",
        "plt.subplot(10, 10, 1)\n",
        "plt.xticks([])\n",
        "plt.yticks([])\n",
        "plt.imshow(X3_train[1], cmap=plt.cm.binary)\n",
        "plt.show()"
      ],
      "metadata": {
        "colab": {
          "base_uri": "https://localhost:8080/",
          "height": 167
        },
        "id": "Kw6LHKHV0P-r",
        "outputId": "6fad0c04-de78-43ca-a009-12a189a153fe"
      },
      "execution_count": 7,
      "outputs": [
        {
          "output_type": "display_data",
          "data": {
            "text/plain": [
              "<Figure size 2000x2000 with 1 Axes>"
            ],
            "image/png": "[encoded data removed]"
          },
          "metadata": {}
        }
      ]
    },
    {
      "cell_type": "markdown",
      "source": [
        "# 3.1 FCNN"
      ],
      "metadata": {
        "id": "9XwpV655qLT8"
      }
    },
    {
      "cell_type": "code",
      "source": [
        "# Design a fully-connected neural network with one input layer with two nodes, one hidden layer with two nodes, and one output layer with one node (totally three layers)\n",
        "model3_fcnn = models.Sequential()\n",
        "model3_fcnn.add(layers.Normalization(input_shape = [3072,], axis = None))\n",
        "model3_fcnn.add(layers.Dense(300, activation='relu', activity_regularizer=tf.keras.regularizers.L2(0.01)))\n",
        "model3_fcnn.add(layers.Dense(200, activation = 'relu', activity_regularizer=tf.keras.regularizers.L2(0.01)))\n",
        "model3_fcnn.add(layers.Dense(150, activation='relu', activity_regularizer=tf.keras.regularizers.L2(0.01)))\n",
        "model3_fcnn.add(layers.Dense(100, activation='relu', activity_regularizer=tf.keras.regularizers.L2(0.01)))\n",
        "\n",
        "model3_fcnn.add(layers.Dense(10, activation = 'softmax', activity_regularizer=tf.keras.regularizers.L2(0.01)))\n",
        "\n",
        "model3_fcnn.summary()"
      ],
      "metadata": {
        "id": "DhA53GvkqR8X",
        "colab": {
          "base_uri": "https://localhost:8080/"
        },
        "outputId": "d6b11528-6000-44b0-bf4a-5afb88e67761"
      },
      "execution_count": 8,
      "outputs": [
        {
          "output_type": "stream",
          "name": "stdout",
          "text": [
            "Model: \"sequential\"\n",
            "_________________________________________________________________\n",
            " Layer (type)                Output Shape              Param #   \n",
            "=================================================================\n",
            " normalization (Normalizati  (None, 3072)              3         \n",
            " on)                                                             \n",
            "                                                                 \n",
            " dense (Dense)               (None, 300)               921900    \n",
            "                                                                 \n",
            " dense_1 (Dense)             (None, 200)               60200     \n",
            "                                                                 \n",
            " dense_2 (Dense)             (None, 150)               30150     \n",
            "                                                                 \n",
            " dense_3 (Dense)             (None, 100)               15100     \n",
            "                                                                 \n",
            " dense_4 (Dense)             (None, 10)                1010      \n",
            "                                                                 \n",
            "=================================================================\n",
            "Total params: 1028363 (3.92 MB)\n",
            "Trainable params: 1028360 (3.92 MB)\n",
            "Non-trainable params: 3 (16.00 Byte)\n",
            "_________________________________________________________________\n"
          ]
        }
      ]
    },
    {
      "cell_type": "code",
      "source": [
        "with tf.device(device_name):\n",
        "  batch_size = 100\n",
        "\n",
        "  callback = tf.keras.callbacks.EarlyStopping(monitor='val_loss', patience = 10, mode='auto')\n",
        "\n",
        "\n",
        "  tf.config.get_visible_devices()\n",
        "  adam = optimizers.Adam(learning_rate=0.0001)\n",
        "  model3_fcnn.compile(optimizer = adam,\n",
        "              loss='sparse_categorical_crossentropy',\n",
        "              metrics=['accuracy'])\n",
        "  history3_fcnn = model3_fcnn.fit(FCNN_X3_train, y3_train, epochs = 300, batch_size = batch_size,\n",
        "                    validation_data=(FCNN_X3_test, y3_test), callbacks = [callback]) # , callbacks = [callback]"
      ],
      "metadata": {
        "id": "XyjEIjwLqSAn",
        "colab": {
          "base_uri": "https://localhost:8080/"
        },
        "outputId": "0eae1714-10d7-4069-b661-d3c5e0842124"
      },
      "execution_count": 19,
      "outputs": [
        {
          "output_type": "stream",
          "name": "stdout",
          "text": [
            "Epoch 1/300\n",
            "500/500 [==============================] - 6s 5ms/step - loss: 2.1803 - accuracy: 0.1916 - val_loss: 2.0485 - val_accuracy: 0.2624\n",
            "Epoch 2/300\n",
            "500/500 [==============================] - 2s 4ms/step - loss: 1.9970 - accuracy: 0.2843 - val_loss: 1.9602 - val_accuracy: 0.3057\n",
            "Epoch 3/300\n",
            "500/500 [==============================] - 2s 5ms/step - loss: 1.9160 - accuracy: 0.3280 - val_loss: 1.8989 - val_accuracy: 0.3297\n",
            "Epoch 4/300\n",
            "500/500 [==============================] - 3s 6ms/step - loss: 1.8576 - accuracy: 0.3495 - val_loss: 1.8410 - val_accuracy: 0.3625\n",
            "Epoch 5/300\n",
            "500/500 [==============================] - 2s 5ms/step - loss: 1.8141 - accuracy: 0.3691 - val_loss: 1.8035 - val_accuracy: 0.3748\n",
            "Epoch 6/300\n",
            "500/500 [==============================] - 2s 5ms/step - loss: 1.7661 - accuracy: 0.3902 - val_loss: 1.7651 - val_accuracy: 0.3897\n",
            "Epoch 7/300\n",
            "500/500 [==============================] - 2s 4ms/step - loss: 1.7346 - accuracy: 0.3987 - val_loss: 1.7640 - val_accuracy: 0.3928\n",
            "Epoch 8/300\n",
            "500/500 [==============================] - 2s 5ms/step - loss: 1.7010 - accuracy: 0.4151 - val_loss: 1.7256 - val_accuracy: 0.4067\n",
            "Epoch 9/300\n",
            "500/500 [==============================] - 3s 6ms/step - loss: 1.6736 - accuracy: 0.4256 - val_loss: 1.7081 - val_accuracy: 0.4164\n",
            "Epoch 10/300\n",
            "500/500 [==============================] - 3s 6ms/step - loss: 1.6491 - accuracy: 0.4347 - val_loss: 1.6667 - val_accuracy: 0.4317\n",
            "Epoch 11/300\n",
            "500/500 [==============================] - 2s 5ms/step - loss: 1.6256 - accuracy: 0.4454 - val_loss: 1.6532 - val_accuracy: 0.4377\n",
            "Epoch 12/300\n",
            "500/500 [==============================] - 2s 5ms/step - loss: 1.6065 - accuracy: 0.4498 - val_loss: 1.6512 - val_accuracy: 0.4338\n",
            "Epoch 13/300\n",
            "500/500 [==============================] - 2s 4ms/step - loss: 1.5883 - accuracy: 0.4584 - val_loss: 1.6568 - val_accuracy: 0.4370\n",
            "Epoch 14/300\n",
            "500/500 [==============================] - 3s 6ms/step - loss: 1.5739 - accuracy: 0.4629 - val_loss: 1.6258 - val_accuracy: 0.4449\n",
            "Epoch 15/300\n",
            "500/500 [==============================] - 2s 5ms/step - loss: 1.5564 - accuracy: 0.4710 - val_loss: 1.6172 - val_accuracy: 0.4487\n",
            "Epoch 16/300\n",
            "500/500 [==============================] - 2s 5ms/step - loss: 1.5438 - accuracy: 0.4747 - val_loss: 1.6294 - val_accuracy: 0.4470\n",
            "Epoch 17/300\n",
            "500/500 [==============================] - 2s 5ms/step - loss: 1.5268 - accuracy: 0.4788 - val_loss: 1.6410 - val_accuracy: 0.4405\n",
            "Epoch 18/300\n",
            "500/500 [==============================] - 2s 5ms/step - loss: 1.5109 - accuracy: 0.4847 - val_loss: 1.6267 - val_accuracy: 0.4521\n",
            "Epoch 19/300\n",
            "500/500 [==============================] - 3s 6ms/step - loss: 1.5019 - accuracy: 0.4915 - val_loss: 1.5960 - val_accuracy: 0.4543\n",
            "Epoch 20/300\n",
            "500/500 [==============================] - 2s 5ms/step - loss: 1.4916 - accuracy: 0.4941 - val_loss: 1.5850 - val_accuracy: 0.4621\n",
            "Epoch 21/300\n",
            "500/500 [==============================] - 2s 5ms/step - loss: 1.4770 - accuracy: 0.4997 - val_loss: 1.5912 - val_accuracy: 0.4589\n",
            "Epoch 22/300\n",
            "500/500 [==============================] - 2s 5ms/step - loss: 1.4639 - accuracy: 0.5055 - val_loss: 1.5699 - val_accuracy: 0.4673\n",
            "Epoch 23/300\n",
            "500/500 [==============================] - 2s 4ms/step - loss: 1.4530 - accuracy: 0.5089 - val_loss: 1.5798 - val_accuracy: 0.4649\n",
            "Epoch 24/300\n",
            "500/500 [==============================] - 3s 6ms/step - loss: 1.4392 - accuracy: 0.5127 - val_loss: 1.5683 - val_accuracy: 0.4707\n",
            "Epoch 25/300\n",
            "500/500 [==============================] - 2s 5ms/step - loss: 1.4284 - accuracy: 0.5174 - val_loss: 1.5560 - val_accuracy: 0.4728\n",
            "Epoch 26/300\n",
            "500/500 [==============================] - 2s 4ms/step - loss: 1.4234 - accuracy: 0.5191 - val_loss: 1.5829 - val_accuracy: 0.4647\n",
            "Epoch 27/300\n",
            "500/500 [==============================] - 2s 4ms/step - loss: 1.4095 - accuracy: 0.5245 - val_loss: 1.5592 - val_accuracy: 0.4723\n",
            "Epoch 28/300\n",
            "500/500 [==============================] - 2s 5ms/step - loss: 1.3972 - accuracy: 0.5306 - val_loss: 1.5595 - val_accuracy: 0.4675\n",
            "Epoch 29/300\n",
            "500/500 [==============================] - 3s 6ms/step - loss: 1.3948 - accuracy: 0.5303 - val_loss: 1.5566 - val_accuracy: 0.4727\n",
            "Epoch 30/300\n",
            "500/500 [==============================] - 2s 5ms/step - loss: 1.3779 - accuracy: 0.5366 - val_loss: 1.5524 - val_accuracy: 0.4752\n",
            "Epoch 31/300\n",
            "500/500 [==============================] - 2s 5ms/step - loss: 1.3718 - accuracy: 0.5385 - val_loss: 1.5438 - val_accuracy: 0.4804\n",
            "Epoch 32/300\n",
            "500/500 [==============================] - 2s 5ms/step - loss: 1.3586 - accuracy: 0.5422 - val_loss: 1.5645 - val_accuracy: 0.4730\n",
            "Epoch 33/300\n",
            "500/500 [==============================] - 2s 5ms/step - loss: 1.3527 - accuracy: 0.5457 - val_loss: 1.5740 - val_accuracy: 0.4686\n",
            "Epoch 34/300\n",
            "500/500 [==============================] - 3s 7ms/step - loss: 1.3417 - accuracy: 0.5498 - val_loss: 1.5514 - val_accuracy: 0.4790\n",
            "Epoch 35/300\n",
            "500/500 [==============================] - 2s 5ms/step - loss: 1.3331 - accuracy: 0.5515 - val_loss: 1.5616 - val_accuracy: 0.4753\n",
            "Epoch 36/300\n",
            "500/500 [==============================] - 2s 5ms/step - loss: 1.3268 - accuracy: 0.5549 - val_loss: 1.5557 - val_accuracy: 0.4792\n",
            "Epoch 37/300\n",
            "500/500 [==============================] - 2s 4ms/step - loss: 1.3170 - accuracy: 0.5591 - val_loss: 1.5559 - val_accuracy: 0.4807\n",
            "Epoch 38/300\n",
            "500/500 [==============================] - 2s 4ms/step - loss: 1.3073 - accuracy: 0.5617 - val_loss: 1.5569 - val_accuracy: 0.4843\n",
            "Epoch 39/300\n",
            "500/500 [==============================] - 3s 6ms/step - loss: 1.3022 - accuracy: 0.5630 - val_loss: 1.5889 - val_accuracy: 0.4690\n",
            "Epoch 40/300\n",
            "500/500 [==============================] - 2s 5ms/step - loss: 1.2905 - accuracy: 0.5685 - val_loss: 1.5478 - val_accuracy: 0.4817\n",
            "Epoch 41/300\n",
            "500/500 [==============================] - 2s 5ms/step - loss: 1.2839 - accuracy: 0.5701 - val_loss: 1.5519 - val_accuracy: 0.4841\n",
            "Epoch 42/300\n",
            "500/500 [==============================] - 2s 4ms/step - loss: 1.2806 - accuracy: 0.5711 - val_loss: 1.5294 - val_accuracy: 0.4883\n",
            "Epoch 43/300\n",
            "500/500 [==============================] - 2s 5ms/step - loss: 1.2632 - accuracy: 0.5800 - val_loss: 1.5448 - val_accuracy: 0.4821\n",
            "Epoch 44/300\n",
            "500/500 [==============================] - 3s 6ms/step - loss: 1.2582 - accuracy: 0.5794 - val_loss: 1.5547 - val_accuracy: 0.4865\n",
            "Epoch 45/300\n",
            "500/500 [==============================] - 2s 5ms/step - loss: 1.2508 - accuracy: 0.5838 - val_loss: 1.5477 - val_accuracy: 0.4855\n",
            "Epoch 46/300\n",
            "500/500 [==============================] - 2s 5ms/step - loss: 1.2422 - accuracy: 0.5857 - val_loss: 1.5510 - val_accuracy: 0.4871\n",
            "Epoch 47/300\n",
            "500/500 [==============================] - 2s 5ms/step - loss: 1.2384 - accuracy: 0.5881 - val_loss: 1.5771 - val_accuracy: 0.4828\n",
            "Epoch 48/300\n",
            "500/500 [==============================] - 2s 5ms/step - loss: 1.2267 - accuracy: 0.5915 - val_loss: 1.5759 - val_accuracy: 0.4823\n",
            "Epoch 49/300\n",
            "500/500 [==============================] - 3s 5ms/step - loss: 1.2172 - accuracy: 0.5966 - val_loss: 1.5501 - val_accuracy: 0.4878\n",
            "Epoch 50/300\n",
            "500/500 [==============================] - 3s 5ms/step - loss: 1.2151 - accuracy: 0.5959 - val_loss: 1.5693 - val_accuracy: 0.4813\n",
            "Epoch 51/300\n",
            "500/500 [==============================] - 2s 5ms/step - loss: 1.2105 - accuracy: 0.5970 - val_loss: 1.5718 - val_accuracy: 0.4874\n",
            "Epoch 52/300\n",
            "500/500 [==============================] - 2s 5ms/step - loss: 1.2005 - accuracy: 0.6034 - val_loss: 1.5445 - val_accuracy: 0.4925\n",
            "Epoch 53/300\n",
            "500/500 [==============================] - 2s 5ms/step - loss: 1.1931 - accuracy: 0.6052 - val_loss: 1.5836 - val_accuracy: 0.4816\n",
            "Epoch 54/300\n",
            "500/500 [==============================] - 3s 6ms/step - loss: 1.1872 - accuracy: 0.6072 - val_loss: 1.5688 - val_accuracy: 0.4888\n",
            "Epoch 55/300\n",
            "500/500 [==============================] - 2s 5ms/step - loss: 1.1830 - accuracy: 0.6089 - val_loss: 1.5611 - val_accuracy: 0.4966\n",
            "Epoch 56/300\n",
            "500/500 [==============================] - 2s 5ms/step - loss: 1.1744 - accuracy: 0.6124 - val_loss: 1.5653 - val_accuracy: 0.4907\n",
            "Epoch 57/300\n",
            "500/500 [==============================] - 2s 5ms/step - loss: 1.1666 - accuracy: 0.6153 - val_loss: 1.5772 - val_accuracy: 0.4825\n",
            "Epoch 58/300\n",
            "500/500 [==============================] - 2s 5ms/step - loss: 1.1614 - accuracy: 0.6170 - val_loss: 1.5693 - val_accuracy: 0.4914\n",
            "Epoch 59/300\n",
            "500/500 [==============================] - 3s 6ms/step - loss: 1.1546 - accuracy: 0.6196 - val_loss: 1.5695 - val_accuracy: 0.4892\n",
            "Epoch 60/300\n",
            "500/500 [==============================] - 2s 5ms/step - loss: 1.1435 - accuracy: 0.6235 - val_loss: 1.5742 - val_accuracy: 0.4955\n",
            "Epoch 61/300\n",
            "500/500 [==============================] - 2s 5ms/step - loss: 1.1385 - accuracy: 0.6271 - val_loss: 1.5800 - val_accuracy: 0.4881\n",
            "Epoch 62/300\n",
            "500/500 [==============================] - 2s 4ms/step - loss: 1.1271 - accuracy: 0.6280 - val_loss: 1.5919 - val_accuracy: 0.4846\n",
            "Epoch 63/300\n",
            "500/500 [==============================] - 2s 5ms/step - loss: 1.1290 - accuracy: 0.6288 - val_loss: 1.5910 - val_accuracy: 0.4870\n",
            "Epoch 64/300\n",
            "500/500 [==============================] - 3s 7ms/step - loss: 1.1231 - accuracy: 0.6302 - val_loss: 1.5998 - val_accuracy: 0.4821\n",
            "Epoch 65/300\n",
            "500/500 [==============================] - 2s 5ms/step - loss: 1.1188 - accuracy: 0.6316 - val_loss: 1.5784 - val_accuracy: 0.4886\n",
            "Epoch 66/300\n",
            "500/500 [==============================] - 2s 5ms/step - loss: 1.1032 - accuracy: 0.6384 - val_loss: 1.6211 - val_accuracy: 0.4882\n",
            "Epoch 67/300\n",
            "500/500 [==============================] - 2s 5ms/step - loss: 1.1071 - accuracy: 0.6357 - val_loss: 1.6003 - val_accuracy: 0.4920\n",
            "Epoch 68/300\n",
            "500/500 [==============================] - 2s 5ms/step - loss: 1.0941 - accuracy: 0.6398 - val_loss: 1.6115 - val_accuracy: 0.4870\n",
            "Epoch 69/300\n",
            "500/500 [==============================] - 3s 6ms/step - loss: 1.0875 - accuracy: 0.6446 - val_loss: 1.6047 - val_accuracy: 0.4881\n",
            "Epoch 70/300\n",
            "500/500 [==============================] - 2s 5ms/step - loss: 1.0848 - accuracy: 0.6443 - val_loss: 1.6349 - val_accuracy: 0.4793\n",
            "Epoch 71/300\n",
            "500/500 [==============================] - 2s 5ms/step - loss: 1.0787 - accuracy: 0.6464 - val_loss: 1.6241 - val_accuracy: 0.4898\n",
            "Epoch 72/300\n",
            "500/500 [==============================] - 2s 5ms/step - loss: 1.0702 - accuracy: 0.6494 - val_loss: 1.6423 - val_accuracy: 0.4838\n",
            "Epoch 73/300\n",
            "500/500 [==============================] - 2s 5ms/step - loss: 1.0674 - accuracy: 0.6502 - val_loss: 1.6144 - val_accuracy: 0.4939\n",
            "Epoch 74/300\n",
            "500/500 [==============================] - 3s 6ms/step - loss: 1.0666 - accuracy: 0.6517 - val_loss: 1.6267 - val_accuracy: 0.4911\n",
            "Epoch 75/300\n",
            "500/500 [==============================] - 2s 5ms/step - loss: 1.0574 - accuracy: 0.6533 - val_loss: 1.6340 - val_accuracy: 0.4900\n",
            "Epoch 76/300\n",
            "500/500 [==============================] - 2s 4ms/step - loss: 1.0537 - accuracy: 0.6572 - val_loss: 1.6376 - val_accuracy: 0.4880\n",
            "Epoch 77/300\n",
            "500/500 [==============================] - 2s 5ms/step - loss: 1.0443 - accuracy: 0.6609 - val_loss: 1.6446 - val_accuracy: 0.4895\n",
            "Epoch 78/300\n",
            "500/500 [==============================] - 2s 5ms/step - loss: 1.0398 - accuracy: 0.6616 - val_loss: 1.6696 - val_accuracy: 0.4768\n",
            "Epoch 79/300\n",
            "500/500 [==============================] - 3s 6ms/step - loss: 1.0354 - accuracy: 0.6613 - val_loss: 1.6439 - val_accuracy: 0.4906\n",
            "Epoch 80/300\n",
            "500/500 [==============================] - 2s 5ms/step - loss: 1.0280 - accuracy: 0.6656 - val_loss: 1.6590 - val_accuracy: 0.4824\n",
            "Epoch 81/300\n",
            "500/500 [==============================] - 2s 5ms/step - loss: 1.0232 - accuracy: 0.6678 - val_loss: 1.6656 - val_accuracy: 0.4863\n",
            "Epoch 82/300\n",
            "500/500 [==============================] - 2s 5ms/step - loss: 1.0181 - accuracy: 0.6710 - val_loss: 1.6762 - val_accuracy: 0.4842\n",
            "Epoch 83/300\n",
            "500/500 [==============================] - 2s 5ms/step - loss: 1.0184 - accuracy: 0.6687 - val_loss: 1.6794 - val_accuracy: 0.4820\n",
            "Epoch 84/300\n",
            "500/500 [==============================] - 3s 6ms/step - loss: 1.0032 - accuracy: 0.6737 - val_loss: 1.6954 - val_accuracy: 0.4797\n",
            "Epoch 85/300\n",
            "500/500 [==============================] - 2s 5ms/step - loss: 1.0086 - accuracy: 0.6735 - val_loss: 1.6651 - val_accuracy: 0.4864\n",
            "Epoch 86/300\n",
            "500/500 [==============================] - 2s 5ms/step - loss: 0.9978 - accuracy: 0.6758 - val_loss: 1.7059 - val_accuracy: 0.4790\n",
            "Epoch 87/300\n",
            "500/500 [==============================] - 2s 5ms/step - loss: 0.9972 - accuracy: 0.6772 - val_loss: 1.6975 - val_accuracy: 0.4796\n",
            "Epoch 88/300\n",
            "500/500 [==============================] - 2s 5ms/step - loss: 0.9900 - accuracy: 0.6795 - val_loss: 1.7027 - val_accuracy: 0.4829\n",
            "Epoch 89/300\n",
            "500/500 [==============================] - 3s 6ms/step - loss: 0.9831 - accuracy: 0.6834 - val_loss: 1.6771 - val_accuracy: 0.4907\n",
            "Epoch 90/300\n",
            "500/500 [==============================] - 2s 5ms/step - loss: 0.9744 - accuracy: 0.6854 - val_loss: 1.6840 - val_accuracy: 0.4909\n",
            "Epoch 91/300\n",
            "500/500 [==============================] - 2s 5ms/step - loss: 0.9687 - accuracy: 0.6883 - val_loss: 1.6856 - val_accuracy: 0.4832\n",
            "Epoch 92/300\n",
            "500/500 [==============================] - 2s 5ms/step - loss: 0.9717 - accuracy: 0.6884 - val_loss: 1.7189 - val_accuracy: 0.4827\n",
            "Epoch 93/300\n",
            "500/500 [==============================] - 2s 5ms/step - loss: 0.9635 - accuracy: 0.6884 - val_loss: 1.7197 - val_accuracy: 0.4858\n",
            "Epoch 94/300\n",
            "500/500 [==============================] - 3s 7ms/step - loss: 0.9564 - accuracy: 0.6940 - val_loss: 1.7364 - val_accuracy: 0.4872\n",
            "Epoch 95/300\n",
            "500/500 [==============================] - 2s 5ms/step - loss: 0.9544 - accuracy: 0.6939 - val_loss: 1.7301 - val_accuracy: 0.4829\n",
            "Epoch 96/300\n",
            "500/500 [==============================] - 2s 5ms/step - loss: 0.9471 - accuracy: 0.6963 - val_loss: 1.7153 - val_accuracy: 0.4882\n",
            "Epoch 97/300\n",
            "500/500 [==============================] - 2s 5ms/step - loss: 0.9427 - accuracy: 0.6973 - val_loss: 1.7228 - val_accuracy: 0.4935\n",
            "Epoch 98/300\n",
            "500/500 [==============================] - 2s 5ms/step - loss: 0.9395 - accuracy: 0.6996 - val_loss: 1.7364 - val_accuracy: 0.4857\n",
            "Epoch 99/300\n",
            "500/500 [==============================] - 3s 6ms/step - loss: 0.9383 - accuracy: 0.6984 - val_loss: 1.8190 - val_accuracy: 0.4686\n",
            "Epoch 100/300\n",
            "500/500 [==============================] - 2s 5ms/step - loss: 0.9311 - accuracy: 0.7031 - val_loss: 1.7682 - val_accuracy: 0.4844\n",
            "Epoch 101/300\n",
            "500/500 [==============================] - 2s 4ms/step - loss: 0.9236 - accuracy: 0.7042 - val_loss: 1.7417 - val_accuracy: 0.4847\n",
            "Epoch 102/300\n",
            "500/500 [==============================] - 2s 5ms/step - loss: 0.9250 - accuracy: 0.7056 - val_loss: 1.7395 - val_accuracy: 0.4890\n",
            "Epoch 103/300\n",
            "500/500 [==============================] - 2s 5ms/step - loss: 0.9208 - accuracy: 0.7069 - val_loss: 1.7579 - val_accuracy: 0.4827\n",
            "Epoch 104/300\n",
            "500/500 [==============================] - 3s 6ms/step - loss: 0.9089 - accuracy: 0.7116 - val_loss: 1.7830 - val_accuracy: 0.4821\n",
            "Epoch 105/300\n",
            "500/500 [==============================] - 2s 5ms/step - loss: 0.9141 - accuracy: 0.7074 - val_loss: 1.7678 - val_accuracy: 0.4830\n",
            "Epoch 106/300\n",
            "500/500 [==============================] - 2s 5ms/step - loss: 0.9005 - accuracy: 0.7147 - val_loss: 1.7854 - val_accuracy: 0.4753\n",
            "Epoch 107/300\n",
            "500/500 [==============================] - 2s 5ms/step - loss: 0.8943 - accuracy: 0.7169 - val_loss: 1.7660 - val_accuracy: 0.4914\n",
            "Epoch 108/300\n",
            "500/500 [==============================] - 2s 5ms/step - loss: 0.8962 - accuracy: 0.7161 - val_loss: 1.8055 - val_accuracy: 0.4865\n",
            "Epoch 109/300\n",
            "500/500 [==============================] - 3s 6ms/step - loss: 0.8846 - accuracy: 0.7206 - val_loss: 1.7752 - val_accuracy: 0.4848\n",
            "Epoch 110/300\n",
            "500/500 [==============================] - 2s 5ms/step - loss: 0.8858 - accuracy: 0.7182 - val_loss: 1.8020 - val_accuracy: 0.4829\n",
            "Epoch 111/300\n",
            "500/500 [==============================] - 3s 6ms/step - loss: 0.8854 - accuracy: 0.7187 - val_loss: 1.8155 - val_accuracy: 0.4792\n",
            "Epoch 112/300\n",
            "500/500 [==============================] - 3s 5ms/step - loss: 0.8790 - accuracy: 0.7214 - val_loss: 1.8066 - val_accuracy: 0.4833\n",
            "Epoch 113/300\n",
            "500/500 [==============================] - 2s 5ms/step - loss: 0.8735 - accuracy: 0.7245 - val_loss: 1.7939 - val_accuracy: 0.4895\n",
            "Epoch 114/300\n",
            "500/500 [==============================] - 3s 6ms/step - loss: 0.8676 - accuracy: 0.7250 - val_loss: 1.8443 - val_accuracy: 0.4786\n",
            "Epoch 115/300\n",
            "500/500 [==============================] - 2s 5ms/step - loss: 0.8698 - accuracy: 0.7236 - val_loss: 1.8288 - val_accuracy: 0.4853\n",
            "Epoch 116/300\n",
            "500/500 [==============================] - 2s 5ms/step - loss: 0.8632 - accuracy: 0.7275 - val_loss: 1.8300 - val_accuracy: 0.4812\n",
            "Epoch 117/300\n",
            "500/500 [==============================] - 2s 5ms/step - loss: 0.8580 - accuracy: 0.7298 - val_loss: 1.8329 - val_accuracy: 0.4892\n",
            "Epoch 118/300\n",
            "500/500 [==============================] - 2s 5ms/step - loss: 0.8512 - accuracy: 0.7312 - val_loss: 1.8275 - val_accuracy: 0.4793\n",
            "Epoch 119/300\n",
            "500/500 [==============================] - 3s 6ms/step - loss: 0.8521 - accuracy: 0.7332 - val_loss: 1.8354 - val_accuracy: 0.4837\n",
            "Epoch 120/300\n",
            "500/500 [==============================] - 2s 5ms/step - loss: 0.8488 - accuracy: 0.7332 - val_loss: 1.8455 - val_accuracy: 0.4826\n",
            "Epoch 121/300\n",
            "500/500 [==============================] - 2s 5ms/step - loss: 0.8425 - accuracy: 0.7339 - val_loss: 1.8489 - val_accuracy: 0.4863\n",
            "Epoch 122/300\n",
            "500/500 [==============================] - 2s 5ms/step - loss: 0.8324 - accuracy: 0.7381 - val_loss: 1.8721 - val_accuracy: 0.4793\n",
            "Epoch 123/300\n",
            "500/500 [==============================] - 2s 5ms/step - loss: 0.8402 - accuracy: 0.7366 - val_loss: 1.8513 - val_accuracy: 0.4830\n",
            "Epoch 124/300\n",
            "500/500 [==============================] - 3s 6ms/step - loss: 0.8292 - accuracy: 0.7416 - val_loss: 1.8935 - val_accuracy: 0.4716\n",
            "Epoch 125/300\n",
            "500/500 [==============================] - 2s 5ms/step - loss: 0.8293 - accuracy: 0.7397 - val_loss: 1.8787 - val_accuracy: 0.4841\n",
            "Epoch 126/300\n",
            "500/500 [==============================] - 2s 5ms/step - loss: 0.8268 - accuracy: 0.7390 - val_loss: 1.8636 - val_accuracy: 0.4850\n",
            "Epoch 127/300\n",
            "500/500 [==============================] - 2s 5ms/step - loss: 0.8247 - accuracy: 0.7412 - val_loss: 1.8898 - val_accuracy: 0.4776\n",
            "Epoch 128/300\n",
            "500/500 [==============================] - 2s 5ms/step - loss: 0.8096 - accuracy: 0.7477 - val_loss: 1.9195 - val_accuracy: 0.4795\n",
            "Epoch 129/300\n",
            "500/500 [==============================] - 3s 6ms/step - loss: 0.8108 - accuracy: 0.7464 - val_loss: 1.9062 - val_accuracy: 0.4765\n",
            "Epoch 130/300\n",
            "500/500 [==============================] - 2s 5ms/step - loss: 0.8022 - accuracy: 0.7508 - val_loss: 1.9094 - val_accuracy: 0.4766\n",
            "Epoch 131/300\n",
            "500/500 [==============================] - 2s 5ms/step - loss: 0.8057 - accuracy: 0.7492 - val_loss: 1.9062 - val_accuracy: 0.4770\n",
            "Epoch 132/300\n",
            "500/500 [==============================] - 2s 5ms/step - loss: 0.7953 - accuracy: 0.7553 - val_loss: 1.9659 - val_accuracy: 0.4694\n",
            "Epoch 133/300\n",
            "500/500 [==============================] - 2s 5ms/step - loss: 0.8026 - accuracy: 0.7480 - val_loss: 1.9398 - val_accuracy: 0.4741\n",
            "Epoch 134/300\n",
            "500/500 [==============================] - 3s 6ms/step - loss: 0.7859 - accuracy: 0.7574 - val_loss: 1.9663 - val_accuracy: 0.4762\n",
            "Epoch 135/300\n",
            "500/500 [==============================] - 2s 5ms/step - loss: 0.7813 - accuracy: 0.7585 - val_loss: 1.9863 - val_accuracy: 0.4711\n",
            "Epoch 136/300\n",
            "500/500 [==============================] - 2s 5ms/step - loss: 0.7867 - accuracy: 0.7551 - val_loss: 1.9924 - val_accuracy: 0.4732\n",
            "Epoch 137/300\n",
            "500/500 [==============================] - 2s 5ms/step - loss: 0.7806 - accuracy: 0.7587 - val_loss: 1.9489 - val_accuracy: 0.4784\n",
            "Epoch 138/300\n",
            "500/500 [==============================] - 2s 5ms/step - loss: 0.7842 - accuracy: 0.7561 - val_loss: 1.9990 - val_accuracy: 0.4682\n",
            "Epoch 139/300\n",
            "500/500 [==============================] - 3s 6ms/step - loss: 0.7846 - accuracy: 0.7537 - val_loss: 1.9655 - val_accuracy: 0.4679\n",
            "Epoch 140/300\n",
            "500/500 [==============================] - 2s 5ms/step - loss: 0.7730 - accuracy: 0.7608 - val_loss: 1.9956 - val_accuracy: 0.4776\n",
            "Epoch 141/300\n",
            "500/500 [==============================] - 2s 5ms/step - loss: 0.7664 - accuracy: 0.7644 - val_loss: 1.9823 - val_accuracy: 0.4774\n",
            "Epoch 142/300\n",
            "500/500 [==============================] - 2s 5ms/step - loss: 0.7666 - accuracy: 0.7629 - val_loss: 2.0145 - val_accuracy: 0.4808\n",
            "Epoch 143/300\n",
            "500/500 [==============================] - 2s 5ms/step - loss: 0.7612 - accuracy: 0.7650 - val_loss: 2.0027 - val_accuracy: 0.4785\n",
            "Epoch 144/300\n",
            "500/500 [==============================] - 3s 6ms/step - loss: 0.7575 - accuracy: 0.7661 - val_loss: 1.9953 - val_accuracy: 0.4757\n",
            "Epoch 145/300\n",
            "500/500 [==============================] - 2s 5ms/step - loss: 0.7627 - accuracy: 0.7637 - val_loss: 1.9802 - val_accuracy: 0.4745\n",
            "Epoch 146/300\n",
            "500/500 [==============================] - 2s 5ms/step - loss: 0.7537 - accuracy: 0.7684 - val_loss: 1.9855 - val_accuracy: 0.4747\n",
            "Epoch 147/300\n",
            "500/500 [==============================] - 2s 5ms/step - loss: 0.7417 - accuracy: 0.7723 - val_loss: 2.0238 - val_accuracy: 0.4702\n",
            "Epoch 148/300\n",
            "500/500 [==============================] - 2s 5ms/step - loss: 0.7580 - accuracy: 0.7665 - val_loss: 2.0193 - val_accuracy: 0.4807\n",
            "Epoch 149/300\n",
            "500/500 [==============================] - 3s 6ms/step - loss: 0.7483 - accuracy: 0.7694 - val_loss: 2.0319 - val_accuracy: 0.4730\n",
            "Epoch 150/300\n",
            "500/500 [==============================] - 2s 5ms/step - loss: 0.7424 - accuracy: 0.7716 - val_loss: 2.0596 - val_accuracy: 0.4699\n",
            "Epoch 151/300\n",
            "500/500 [==============================] - 2s 5ms/step - loss: 0.7381 - accuracy: 0.7737 - val_loss: 2.0536 - val_accuracy: 0.4705\n",
            "Epoch 152/300\n",
            "500/500 [==============================] - 2s 5ms/step - loss: 0.7443 - accuracy: 0.7703 - val_loss: 2.0684 - val_accuracy: 0.4597\n",
            "Epoch 153/300\n",
            "500/500 [==============================] - 2s 5ms/step - loss: 0.7206 - accuracy: 0.7812 - val_loss: 2.0599 - val_accuracy: 0.4699\n",
            "Epoch 154/300\n",
            "500/500 [==============================] - 3s 6ms/step - loss: 0.7378 - accuracy: 0.7730 - val_loss: 2.1243 - val_accuracy: 0.4679\n",
            "Epoch 155/300\n",
            "500/500 [==============================] - 2s 5ms/step - loss: 0.7293 - accuracy: 0.7774 - val_loss: 2.0732 - val_accuracy: 0.4752\n",
            "Epoch 156/300\n",
            "500/500 [==============================] - 2s 5ms/step - loss: 0.7151 - accuracy: 0.7823 - val_loss: 2.0755 - val_accuracy: 0.4717\n",
            "Epoch 157/300\n",
            "500/500 [==============================] - 2s 5ms/step - loss: 0.7150 - accuracy: 0.7814 - val_loss: 2.1010 - val_accuracy: 0.4696\n",
            "Epoch 158/300\n",
            "500/500 [==============================] - 2s 5ms/step - loss: 0.7182 - accuracy: 0.7793 - val_loss: 2.0606 - val_accuracy: 0.4744\n",
            "Epoch 159/300\n",
            "500/500 [==============================] - 3s 7ms/step - loss: 0.7068 - accuracy: 0.7862 - val_loss: 2.1305 - val_accuracy: 0.4642\n",
            "Epoch 160/300\n",
            "500/500 [==============================] - 2s 5ms/step - loss: 0.7071 - accuracy: 0.7858 - val_loss: 2.0917 - val_accuracy: 0.4694\n",
            "Epoch 161/300\n",
            "500/500 [==============================] - 2s 5ms/step - loss: 0.7058 - accuracy: 0.7847 - val_loss: 2.1049 - val_accuracy: 0.4687\n",
            "Epoch 162/300\n",
            "500/500 [==============================] - 2s 5ms/step - loss: 0.7064 - accuracy: 0.7851 - val_loss: 2.1099 - val_accuracy: 0.4673\n",
            "Epoch 163/300\n",
            "500/500 [==============================] - 2s 5ms/step - loss: 0.7013 - accuracy: 0.7863 - val_loss: 2.1160 - val_accuracy: 0.4722\n",
            "Epoch 164/300\n",
            "500/500 [==============================] - 3s 6ms/step - loss: 0.6985 - accuracy: 0.7880 - val_loss: 2.0933 - val_accuracy: 0.4720\n",
            "Epoch 165/300\n",
            "500/500 [==============================] - 2s 5ms/step - loss: 0.7016 - accuracy: 0.7873 - val_loss: 2.1325 - val_accuracy: 0.4758\n",
            "Epoch 166/300\n",
            "500/500 [==============================] - 2s 5ms/step - loss: 0.6977 - accuracy: 0.7887 - val_loss: 2.1094 - val_accuracy: 0.4731\n",
            "Epoch 167/300\n",
            "500/500 [==============================] - 2s 5ms/step - loss: 0.6839 - accuracy: 0.7943 - val_loss: 2.1524 - val_accuracy: 0.4737\n",
            "Epoch 168/300\n",
            "500/500 [==============================] - 2s 5ms/step - loss: 0.6822 - accuracy: 0.7952 - val_loss: 2.1453 - val_accuracy: 0.4645\n",
            "Epoch 169/300\n",
            "500/500 [==============================] - 3s 6ms/step - loss: 0.6816 - accuracy: 0.7949 - val_loss: 2.1289 - val_accuracy: 0.4730\n",
            "Epoch 170/300\n",
            "500/500 [==============================] - 2s 5ms/step - loss: 0.6838 - accuracy: 0.7936 - val_loss: 2.1546 - val_accuracy: 0.4695\n",
            "Epoch 171/300\n",
            "500/500 [==============================] - 2s 5ms/step - loss: 0.6734 - accuracy: 0.7968 - val_loss: 2.1430 - val_accuracy: 0.4677\n",
            "Epoch 172/300\n",
            "500/500 [==============================] - 2s 5ms/step - loss: 0.6803 - accuracy: 0.7950 - val_loss: 2.1773 - val_accuracy: 0.4700\n",
            "Epoch 173/300\n",
            "500/500 [==============================] - 2s 5ms/step - loss: 0.6840 - accuracy: 0.7945 - val_loss: 2.1924 - val_accuracy: 0.4639\n",
            "Epoch 174/300\n",
            "500/500 [==============================] - 3s 6ms/step - loss: 0.6621 - accuracy: 0.8032 - val_loss: 2.1879 - val_accuracy: 0.4696\n",
            "Epoch 175/300\n",
            "500/500 [==============================] - 2s 5ms/step - loss: 0.6639 - accuracy: 0.8026 - val_loss: 2.2119 - val_accuracy: 0.4742\n",
            "Epoch 176/300\n",
            "500/500 [==============================] - 2s 5ms/step - loss: 0.6643 - accuracy: 0.8001 - val_loss: 2.2511 - val_accuracy: 0.4615\n",
            "Epoch 177/300\n",
            "500/500 [==============================] - 2s 5ms/step - loss: 0.6676 - accuracy: 0.7994 - val_loss: 2.2236 - val_accuracy: 0.4683\n",
            "Epoch 178/300\n",
            "500/500 [==============================] - 2s 5ms/step - loss: 0.6671 - accuracy: 0.7995 - val_loss: 2.2193 - val_accuracy: 0.4728\n",
            "Epoch 179/300\n",
            "500/500 [==============================] - 3s 6ms/step - loss: 0.6571 - accuracy: 0.8027 - val_loss: 2.2842 - val_accuracy: 0.4628\n",
            "Epoch 180/300\n",
            "500/500 [==============================] - 2s 5ms/step - loss: 0.6571 - accuracy: 0.8029 - val_loss: 2.1938 - val_accuracy: 0.4699\n",
            "Epoch 181/300\n",
            "500/500 [==============================] - 2s 5ms/step - loss: 0.6612 - accuracy: 0.7994 - val_loss: 2.2712 - val_accuracy: 0.4630\n",
            "Epoch 182/300\n",
            "500/500 [==============================] - 2s 5ms/step - loss: 0.6494 - accuracy: 0.8057 - val_loss: 2.2696 - val_accuracy: 0.4683\n",
            "Epoch 183/300\n",
            "500/500 [==============================] - 2s 5ms/step - loss: 0.6485 - accuracy: 0.8060 - val_loss: 2.2505 - val_accuracy: 0.4672\n",
            "Epoch 184/300\n",
            "500/500 [==============================] - 3s 6ms/step - loss: 0.6506 - accuracy: 0.8039 - val_loss: 2.2540 - val_accuracy: 0.4638\n",
            "Epoch 185/300\n",
            "500/500 [==============================] - 2s 5ms/step - loss: 0.6361 - accuracy: 0.8113 - val_loss: 2.2513 - val_accuracy: 0.4682\n",
            "Epoch 186/300\n",
            "500/500 [==============================] - 2s 5ms/step - loss: 0.6492 - accuracy: 0.8055 - val_loss: 2.2276 - val_accuracy: 0.4692\n",
            "Epoch 187/300\n",
            "500/500 [==============================] - 2s 5ms/step - loss: 0.6369 - accuracy: 0.8106 - val_loss: 2.2726 - val_accuracy: 0.4655\n",
            "Epoch 188/300\n",
            "500/500 [==============================] - 2s 5ms/step - loss: 0.6379 - accuracy: 0.8104 - val_loss: 2.2634 - val_accuracy: 0.4685\n",
            "Epoch 189/300\n",
            "500/500 [==============================] - 3s 6ms/step - loss: 0.6362 - accuracy: 0.8105 - val_loss: 2.2728 - val_accuracy: 0.4636\n",
            "Epoch 190/300\n",
            "500/500 [==============================] - 2s 5ms/step - loss: 0.6328 - accuracy: 0.8128 - val_loss: 2.3173 - val_accuracy: 0.4634\n",
            "Epoch 191/300\n",
            "500/500 [==============================] - 2s 5ms/step - loss: 0.6318 - accuracy: 0.8112 - val_loss: 2.2834 - val_accuracy: 0.4605\n",
            "Epoch 192/300\n",
            "500/500 [==============================] - 2s 5ms/step - loss: 0.6364 - accuracy: 0.8108 - val_loss: 2.2729 - val_accuracy: 0.4702\n",
            "Epoch 193/300\n",
            "500/500 [==============================] - 2s 5ms/step - loss: 0.6295 - accuracy: 0.8129 - val_loss: 2.3436 - val_accuracy: 0.4628\n",
            "Epoch 194/300\n",
            "500/500 [==============================] - 3s 6ms/step - loss: 0.6284 - accuracy: 0.8126 - val_loss: 2.3216 - val_accuracy: 0.4582\n",
            "Epoch 195/300\n",
            "500/500 [==============================] - 2s 5ms/step - loss: 0.6130 - accuracy: 0.8193 - val_loss: 2.3211 - val_accuracy: 0.4611\n",
            "Epoch 196/300\n",
            "500/500 [==============================] - 2s 5ms/step - loss: 0.6187 - accuracy: 0.8178 - val_loss: 2.2616 - val_accuracy: 0.4644\n",
            "Epoch 197/300\n",
            "500/500 [==============================] - 2s 5ms/step - loss: 0.6158 - accuracy: 0.8187 - val_loss: 2.3052 - val_accuracy: 0.4663\n",
            "Epoch 198/300\n",
            "500/500 [==============================] - 2s 5ms/step - loss: 0.6077 - accuracy: 0.8244 - val_loss: 2.3267 - val_accuracy: 0.4671\n",
            "Epoch 199/300\n",
            "500/500 [==============================] - 3s 6ms/step - loss: 0.6129 - accuracy: 0.8193 - val_loss: 2.3628 - val_accuracy: 0.4629\n",
            "Epoch 200/300\n",
            "500/500 [==============================] - 2s 5ms/step - loss: 0.5926 - accuracy: 0.8280 - val_loss: 2.3476 - val_accuracy: 0.4623\n",
            "Epoch 201/300\n",
            "500/500 [==============================] - 2s 5ms/step - loss: 0.6105 - accuracy: 0.8201 - val_loss: 2.3769 - val_accuracy: 0.4590\n",
            "Epoch 202/300\n",
            "500/500 [==============================] - 2s 5ms/step - loss: 0.6012 - accuracy: 0.8245 - val_loss: 2.3836 - val_accuracy: 0.4664\n",
            "Epoch 203/300\n",
            "500/500 [==============================] - 2s 5ms/step - loss: 0.6080 - accuracy: 0.8218 - val_loss: 2.3966 - val_accuracy: 0.4598\n",
            "Epoch 204/300\n",
            "500/500 [==============================] - 3s 6ms/step - loss: 0.6015 - accuracy: 0.8228 - val_loss: 2.3462 - val_accuracy: 0.4677\n",
            "Epoch 205/300\n",
            "500/500 [==============================] - 2s 5ms/step - loss: 0.5977 - accuracy: 0.8260 - val_loss: 2.3571 - val_accuracy: 0.4686\n",
            "Epoch 206/300\n",
            "500/500 [==============================] - 2s 5ms/step - loss: 0.5999 - accuracy: 0.8229 - val_loss: 2.3618 - val_accuracy: 0.4573\n",
            "Epoch 207/300\n",
            "500/500 [==============================] - 2s 5ms/step - loss: 0.5924 - accuracy: 0.8285 - val_loss: 2.3489 - val_accuracy: 0.4684\n",
            "Epoch 208/300\n",
            "500/500 [==============================] - 2s 5ms/step - loss: 0.6028 - accuracy: 0.8232 - val_loss: 2.3644 - val_accuracy: 0.4616\n",
            "Epoch 209/300\n",
            "500/500 [==============================] - 3s 6ms/step - loss: 0.5901 - accuracy: 0.8277 - val_loss: 2.3748 - val_accuracy: 0.4662\n",
            "Epoch 210/300\n",
            "500/500 [==============================] - 2s 5ms/step - loss: 0.5787 - accuracy: 0.8324 - val_loss: 2.3826 - val_accuracy: 0.4655\n",
            "Epoch 211/300\n",
            "500/500 [==============================] - 2s 5ms/step - loss: 0.5839 - accuracy: 0.8305 - val_loss: 2.4447 - val_accuracy: 0.4564\n",
            "Epoch 212/300\n",
            "500/500 [==============================] - 2s 5ms/step - loss: 0.5805 - accuracy: 0.8319 - val_loss: 2.3857 - val_accuracy: 0.4568\n",
            "Epoch 213/300\n",
            "500/500 [==============================] - 2s 5ms/step - loss: 0.5803 - accuracy: 0.8304 - val_loss: 2.4229 - val_accuracy: 0.4623\n",
            "Epoch 214/300\n",
            "500/500 [==============================] - 3s 7ms/step - loss: 0.5801 - accuracy: 0.8308 - val_loss: 2.4739 - val_accuracy: 0.4536\n",
            "Epoch 215/300\n",
            "500/500 [==============================] - 3s 6ms/step - loss: 0.5734 - accuracy: 0.8340 - val_loss: 2.4113 - val_accuracy: 0.4599\n",
            "Epoch 216/300\n",
            "500/500 [==============================] - 2s 5ms/step - loss: 0.5760 - accuracy: 0.8331 - val_loss: 2.4648 - val_accuracy: 0.4568\n",
            "Epoch 217/300\n",
            "500/500 [==============================] - 2s 5ms/step - loss: 0.5869 - accuracy: 0.8293 - val_loss: 2.4538 - val_accuracy: 0.4577\n",
            "Epoch 218/300\n",
            "500/500 [==============================] - 3s 5ms/step - loss: 0.5613 - accuracy: 0.8382 - val_loss: 2.4388 - val_accuracy: 0.4638\n",
            "Epoch 219/300\n",
            "500/500 [==============================] - 3s 5ms/step - loss: 0.5783 - accuracy: 0.8314 - val_loss: 2.4189 - val_accuracy: 0.4627\n",
            "Epoch 220/300\n",
            "500/500 [==============================] - 2s 5ms/step - loss: 0.5629 - accuracy: 0.8380 - val_loss: 2.4334 - val_accuracy: 0.4623\n",
            "Epoch 221/300\n",
            "500/500 [==============================] - 2s 5ms/step - loss: 0.5692 - accuracy: 0.8370 - val_loss: 2.4968 - val_accuracy: 0.4616\n",
            "Epoch 222/300\n",
            "500/500 [==============================] - 2s 5ms/step - loss: 0.5733 - accuracy: 0.8327 - val_loss: 2.4180 - val_accuracy: 0.4593\n",
            "Epoch 223/300\n",
            "500/500 [==============================] - 3s 5ms/step - loss: 0.5547 - accuracy: 0.8402 - val_loss: 2.4977 - val_accuracy: 0.4590\n",
            "Epoch 224/300\n",
            "500/500 [==============================] - 3s 6ms/step - loss: 0.5598 - accuracy: 0.8385 - val_loss: 2.4694 - val_accuracy: 0.4572\n",
            "Epoch 225/300\n",
            "500/500 [==============================] - 2s 5ms/step - loss: 0.5627 - accuracy: 0.8370 - val_loss: 2.5001 - val_accuracy: 0.4488\n",
            "Epoch 226/300\n",
            "500/500 [==============================] - 2s 5ms/step - loss: 0.5582 - accuracy: 0.8393 - val_loss: 2.4510 - val_accuracy: 0.4573\n",
            "Epoch 227/300\n",
            "500/500 [==============================] - 2s 5ms/step - loss: 0.5549 - accuracy: 0.8414 - val_loss: 2.5356 - val_accuracy: 0.4610\n",
            "Epoch 228/300\n",
            "500/500 [==============================] - 3s 6ms/step - loss: 0.5543 - accuracy: 0.8406 - val_loss: 2.4654 - val_accuracy: 0.4643\n",
            "Epoch 229/300\n",
            "500/500 [==============================] - 3s 5ms/step - loss: 0.5365 - accuracy: 0.8479 - val_loss: 2.5168 - val_accuracy: 0.4636\n",
            "Epoch 230/300\n",
            "500/500 [==============================] - 2s 5ms/step - loss: 0.5503 - accuracy: 0.8449 - val_loss: 2.5171 - val_accuracy: 0.4542\n",
            "Epoch 231/300\n",
            "500/500 [==============================] - 2s 5ms/step - loss: 0.5468 - accuracy: 0.8447 - val_loss: 2.5511 - val_accuracy: 0.4579\n",
            "Epoch 232/300\n",
            "500/500 [==============================] - 2s 5ms/step - loss: 0.5467 - accuracy: 0.8428 - val_loss: 2.5304 - val_accuracy: 0.4607\n",
            "Epoch 233/300\n",
            "500/500 [==============================] - 3s 5ms/step - loss: 0.5470 - accuracy: 0.8431 - val_loss: 2.5878 - val_accuracy: 0.4548\n",
            "Epoch 234/300\n",
            "500/500 [==============================] - 3s 5ms/step - loss: 0.5461 - accuracy: 0.8440 - val_loss: 2.5289 - val_accuracy: 0.4616\n",
            "Epoch 235/300\n",
            "500/500 [==============================] - 2s 5ms/step - loss: 0.5294 - accuracy: 0.8509 - val_loss: 2.5838 - val_accuracy: 0.4528\n",
            "Epoch 236/300\n",
            "500/500 [==============================] - 2s 5ms/step - loss: 0.5372 - accuracy: 0.8473 - val_loss: 2.5523 - val_accuracy: 0.4617\n",
            "Epoch 237/300\n",
            "500/500 [==============================] - 2s 5ms/step - loss: 0.5441 - accuracy: 0.8444 - val_loss: 2.5710 - val_accuracy: 0.4539\n",
            "Epoch 238/300\n",
            "500/500 [==============================] - 3s 5ms/step - loss: 0.5288 - accuracy: 0.8507 - val_loss: 2.5417 - val_accuracy: 0.4611\n",
            "Epoch 239/300\n",
            "500/500 [==============================] - 3s 6ms/step - loss: 0.5360 - accuracy: 0.8467 - val_loss: 2.5673 - val_accuracy: 0.4562\n",
            "Epoch 240/300\n",
            "500/500 [==============================] - 2s 5ms/step - loss: 0.5331 - accuracy: 0.8473 - val_loss: 2.5257 - val_accuracy: 0.4600\n",
            "Epoch 241/300\n",
            "500/500 [==============================] - 2s 5ms/step - loss: 0.5300 - accuracy: 0.8497 - val_loss: 2.6191 - val_accuracy: 0.4565\n",
            "Epoch 242/300\n",
            "500/500 [==============================] - 2s 5ms/step - loss: 0.5429 - accuracy: 0.8444 - val_loss: 2.5973 - val_accuracy: 0.4639\n",
            "Epoch 243/300\n",
            "500/500 [==============================] - 3s 6ms/step - loss: 0.5288 - accuracy: 0.8502 - val_loss: 2.5664 - val_accuracy: 0.4584\n",
            "Epoch 244/300\n",
            "500/500 [==============================] - 3s 5ms/step - loss: 0.5332 - accuracy: 0.8495 - val_loss: 2.6327 - val_accuracy: 0.4541\n",
            "Epoch 245/300\n",
            "500/500 [==============================] - 2s 5ms/step - loss: 0.5090 - accuracy: 0.8579 - val_loss: 2.5452 - val_accuracy: 0.4647\n",
            "Epoch 246/300\n",
            "500/500 [==============================] - 2s 5ms/step - loss: 0.5068 - accuracy: 0.8602 - val_loss: 2.6332 - val_accuracy: 0.4556\n",
            "Epoch 247/300\n",
            "500/500 [==============================] - 3s 5ms/step - loss: 0.5238 - accuracy: 0.8533 - val_loss: 2.6562 - val_accuracy: 0.4569\n",
            "Epoch 248/300\n",
            "500/500 [==============================] - 3s 6ms/step - loss: 0.5206 - accuracy: 0.8531 - val_loss: 2.6346 - val_accuracy: 0.4552\n",
            "Epoch 249/300\n",
            "500/500 [==============================] - 3s 5ms/step - loss: 0.5091 - accuracy: 0.8573 - val_loss: 2.6529 - val_accuracy: 0.4602\n",
            "Epoch 250/300\n",
            "500/500 [==============================] - 2s 5ms/step - loss: 0.5216 - accuracy: 0.8516 - val_loss: 2.6073 - val_accuracy: 0.4555\n",
            "Epoch 251/300\n",
            "500/500 [==============================] - 2s 5ms/step - loss: 0.5111 - accuracy: 0.8566 - val_loss: 2.6490 - val_accuracy: 0.4576\n",
            "Epoch 252/300\n",
            "500/500 [==============================] - 2s 5ms/step - loss: 0.5119 - accuracy: 0.8555 - val_loss: 2.6674 - val_accuracy: 0.4536\n",
            "Epoch 253/300\n",
            "500/500 [==============================] - 3s 6ms/step - loss: 0.5025 - accuracy: 0.8605 - val_loss: 2.6752 - val_accuracy: 0.4562\n",
            "Epoch 254/300\n",
            "500/500 [==============================] - 2s 5ms/step - loss: 0.5067 - accuracy: 0.8586 - val_loss: 2.7031 - val_accuracy: 0.4529\n",
            "Epoch 255/300\n",
            "500/500 [==============================] - 2s 5ms/step - loss: 0.5143 - accuracy: 0.8558 - val_loss: 2.6742 - val_accuracy: 0.4600\n",
            "Epoch 256/300\n",
            "500/500 [==============================] - 2s 5ms/step - loss: 0.5100 - accuracy: 0.8569 - val_loss: 2.6755 - val_accuracy: 0.4548\n",
            "Epoch 257/300\n",
            "500/500 [==============================] - 2s 5ms/step - loss: 0.4940 - accuracy: 0.8637 - val_loss: 2.6922 - val_accuracy: 0.4589\n",
            "Epoch 258/300\n",
            "500/500 [==============================] - 3s 6ms/step - loss: 0.4915 - accuracy: 0.8638 - val_loss: 2.7026 - val_accuracy: 0.4488\n",
            "Epoch 259/300\n",
            "500/500 [==============================] - 2s 5ms/step - loss: 0.5091 - accuracy: 0.8576 - val_loss: 2.6536 - val_accuracy: 0.4566\n",
            "Epoch 260/300\n",
            "500/500 [==============================] - 2s 5ms/step - loss: 0.4937 - accuracy: 0.8627 - val_loss: 2.6933 - val_accuracy: 0.4592\n",
            "Epoch 261/300\n",
            "500/500 [==============================] - 2s 5ms/step - loss: 0.4934 - accuracy: 0.8646 - val_loss: 2.7301 - val_accuracy: 0.4536\n",
            "Epoch 262/300\n",
            "500/500 [==============================] - 3s 5ms/step - loss: 0.5001 - accuracy: 0.8608 - val_loss: 2.7121 - val_accuracy: 0.4591\n",
            "Epoch 263/300\n",
            "500/500 [==============================] - 3s 6ms/step - loss: 0.5075 - accuracy: 0.8583 - val_loss: 2.6659 - val_accuracy: 0.4556\n",
            "Epoch 264/300\n",
            "500/500 [==============================] - 2s 5ms/step - loss: 0.4722 - accuracy: 0.8722 - val_loss: 2.7922 - val_accuracy: 0.4527\n",
            "Epoch 265/300\n",
            "500/500 [==============================] - 2s 5ms/step - loss: 0.4855 - accuracy: 0.8664 - val_loss: 2.7679 - val_accuracy: 0.4597\n",
            "Epoch 266/300\n",
            "500/500 [==============================] - 2s 5ms/step - loss: 0.4942 - accuracy: 0.8633 - val_loss: 2.8011 - val_accuracy: 0.4535\n",
            "Epoch 267/300\n",
            "500/500 [==============================] - 2s 5ms/step - loss: 0.4919 - accuracy: 0.8639 - val_loss: 2.7905 - val_accuracy: 0.4565\n",
            "Epoch 268/300\n",
            "500/500 [==============================] - 3s 6ms/step - loss: 0.4762 - accuracy: 0.8705 - val_loss: 2.7292 - val_accuracy: 0.4578\n",
            "Epoch 269/300\n",
            "500/500 [==============================] - 2s 5ms/step - loss: 0.4732 - accuracy: 0.8724 - val_loss: 2.8481 - val_accuracy: 0.4556\n",
            "Epoch 270/300\n",
            "500/500 [==============================] - 2s 5ms/step - loss: 0.4904 - accuracy: 0.8644 - val_loss: 2.7632 - val_accuracy: 0.4572\n",
            "Epoch 271/300\n",
            "500/500 [==============================] - 2s 5ms/step - loss: 0.4818 - accuracy: 0.8688 - val_loss: 2.7684 - val_accuracy: 0.4560\n",
            "Epoch 272/300\n",
            "500/500 [==============================] - 3s 5ms/step - loss: 0.4782 - accuracy: 0.8699 - val_loss: 2.8081 - val_accuracy: 0.4511\n",
            "Epoch 273/300\n",
            "500/500 [==============================] - 3s 6ms/step - loss: 0.4862 - accuracy: 0.8655 - val_loss: 2.8456 - val_accuracy: 0.4576\n",
            "Epoch 274/300\n",
            "500/500 [==============================] - 2s 5ms/step - loss: 0.4720 - accuracy: 0.8723 - val_loss: 2.8239 - val_accuracy: 0.4550\n",
            "Epoch 275/300\n",
            "500/500 [==============================] - 2s 5ms/step - loss: 0.4695 - accuracy: 0.8725 - val_loss: 2.7919 - val_accuracy: 0.4504\n",
            "Epoch 276/300\n",
            "500/500 [==============================] - 2s 5ms/step - loss: 0.4699 - accuracy: 0.8706 - val_loss: 2.8456 - val_accuracy: 0.4488\n",
            "Epoch 277/300\n",
            "500/500 [==============================] - 3s 6ms/step - loss: 0.4970 - accuracy: 0.8619 - val_loss: 2.8022 - val_accuracy: 0.4561\n",
            "Epoch 278/300\n",
            "500/500 [==============================] - 3s 5ms/step - loss: 0.4813 - accuracy: 0.8679 - val_loss: 2.8084 - val_accuracy: 0.4567\n",
            "Epoch 279/300\n",
            "500/500 [==============================] - 2s 5ms/step - loss: 0.4595 - accuracy: 0.8764 - val_loss: 2.9180 - val_accuracy: 0.4455\n",
            "Epoch 280/300\n",
            "500/500 [==============================] - 3s 5ms/step - loss: 0.4665 - accuracy: 0.8736 - val_loss: 2.8156 - val_accuracy: 0.4564\n",
            "Epoch 281/300\n",
            "500/500 [==============================] - 2s 5ms/step - loss: 0.4562 - accuracy: 0.8782 - val_loss: 2.8374 - val_accuracy: 0.4580\n",
            "Epoch 282/300\n",
            "500/500 [==============================] - 3s 6ms/step - loss: 0.4673 - accuracy: 0.8735 - val_loss: 2.8497 - val_accuracy: 0.4499\n",
            "Epoch 283/300\n",
            "500/500 [==============================] - 3s 5ms/step - loss: 0.4705 - accuracy: 0.8707 - val_loss: 2.8595 - val_accuracy: 0.4525\n",
            "Epoch 284/300\n",
            "500/500 [==============================] - 2s 5ms/step - loss: 0.4494 - accuracy: 0.8801 - val_loss: 2.8402 - val_accuracy: 0.4556\n",
            "Epoch 285/300\n",
            "500/500 [==============================] - 2s 5ms/step - loss: 0.4405 - accuracy: 0.8834 - val_loss: 2.8932 - val_accuracy: 0.4515\n",
            "Epoch 286/300\n",
            "500/500 [==============================] - 3s 5ms/step - loss: 0.4615 - accuracy: 0.8752 - val_loss: 2.8753 - val_accuracy: 0.4553\n",
            "Epoch 287/300\n",
            "500/500 [==============================] - 3s 7ms/step - loss: 0.4768 - accuracy: 0.8682 - val_loss: 2.8699 - val_accuracy: 0.4560\n",
            "Epoch 288/300\n",
            "500/500 [==============================] - 2s 5ms/step - loss: 0.4590 - accuracy: 0.8755 - val_loss: 2.8536 - val_accuracy: 0.4570\n",
            "Epoch 289/300\n",
            "500/500 [==============================] - 3s 5ms/step - loss: 0.4506 - accuracy: 0.8793 - val_loss: 2.8636 - val_accuracy: 0.4529\n",
            "Epoch 290/300\n",
            "500/500 [==============================] - 2s 5ms/step - loss: 0.4568 - accuracy: 0.8763 - val_loss: 2.8802 - val_accuracy: 0.4534\n",
            "Epoch 291/300\n",
            "500/500 [==============================] - 3s 5ms/step - loss: 0.4821 - accuracy: 0.8686 - val_loss: 2.8085 - val_accuracy: 0.4530\n",
            "Epoch 292/300\n",
            "500/500 [==============================] - 3s 6ms/step - loss: 0.4484 - accuracy: 0.8794 - val_loss: 2.9197 - val_accuracy: 0.4516\n",
            "Epoch 293/300\n",
            "500/500 [==============================] - 3s 5ms/step - loss: 0.4470 - accuracy: 0.8816 - val_loss: 2.9033 - val_accuracy: 0.4479\n",
            "Epoch 294/300\n",
            "500/500 [==============================] - 2s 5ms/step - loss: 0.4476 - accuracy: 0.8814 - val_loss: 2.9175 - val_accuracy: 0.4582\n",
            "Epoch 295/300\n",
            "500/500 [==============================] - 3s 5ms/step - loss: 0.4355 - accuracy: 0.8857 - val_loss: 2.9110 - val_accuracy: 0.4552\n",
            "Epoch 296/300\n",
            "500/500 [==============================] - 3s 6ms/step - loss: 0.4518 - accuracy: 0.8774 - val_loss: 3.0316 - val_accuracy: 0.4496\n",
            "Epoch 297/300\n",
            "500/500 [==============================] - 3s 6ms/step - loss: 0.4433 - accuracy: 0.8828 - val_loss: 2.9192 - val_accuracy: 0.4544\n",
            "Epoch 298/300\n",
            "500/500 [==============================] - 2s 5ms/step - loss: 0.4626 - accuracy: 0.8711 - val_loss: 2.9323 - val_accuracy: 0.4497\n",
            "Epoch 299/300\n",
            "500/500 [==============================] - 2s 5ms/step - loss: 0.4475 - accuracy: 0.8811 - val_loss: 2.9153 - val_accuracy: 0.4533\n",
            "Epoch 300/300\n",
            "500/500 [==============================] - 2s 5ms/step - loss: 0.4552 - accuracy: 0.8768 - val_loss: 2.9041 - val_accuracy: 0.4491\n"
          ]
        }
      ]
    },
    {
      "cell_type": "markdown",
      "source": [
        "# Applying Earlystopping"
      ],
      "metadata": {
        "id": "gBWwS0mInWc6"
      }
    },
    {
      "cell_type": "code",
      "source": [
        "with tf.device(device_name):\n",
        "  batch_size = 100\n",
        "\n",
        "  callback = tf.keras.callbacks.EarlyStopping(monitor='val_loss', patience = 10, mode='auto')\n",
        "\n",
        "\n",
        "  tf.config.get_visible_devices()\n",
        "  adam = optimizers.Adam(learning_rate=0.0001)\n",
        "  model3_fcnn.compile(optimizer = adam,\n",
        "              loss='sparse_categorical_crossentropy',\n",
        "              metrics=['accuracy'])\n",
        "  history3_fcnn = model3_fcnn.fit(FCNN_X3_train, y3_train, epochs = 300, batch_size = batch_size,\n",
        "                    validation_data=(FCNN_X3_test, y3_test), callbacks = [callback]) # , callbacks = [callback]"
      ],
      "metadata": {
        "colab": {
          "base_uri": "https://localhost:8080/"
        },
        "id": "m2SSQRHgoUET",
        "outputId": "f4daa7ef-84a8-48b2-a007-6121bcf421ee"
      },
      "execution_count": 9,
      "outputs": [
        {
          "output_type": "stream",
          "name": "stdout",
          "text": [
            "Epoch 1/300\n",
            "500/500 [==============================] - 11s 5ms/step - loss: 2.1735 - accuracy: 0.2124 - val_loss: 2.0457 - val_accuracy: 0.2694\n",
            "Epoch 2/300\n",
            "500/500 [==============================] - 2s 4ms/step - loss: 1.9682 - accuracy: 0.3084 - val_loss: 1.9255 - val_accuracy: 0.3356\n",
            "Epoch 3/300\n",
            "500/500 [==============================] - 3s 5ms/step - loss: 1.8933 - accuracy: 0.3356 - val_loss: 1.8640 - val_accuracy: 0.3518\n",
            "Epoch 4/300\n",
            "500/500 [==============================] - 2s 5ms/step - loss: 1.8430 - accuracy: 0.3577 - val_loss: 1.8404 - val_accuracy: 0.3657\n",
            "Epoch 5/300\n",
            "500/500 [==============================] - 2s 4ms/step - loss: 1.8022 - accuracy: 0.3749 - val_loss: 1.7828 - val_accuracy: 0.3847\n",
            "Epoch 6/300\n",
            "500/500 [==============================] - 2s 4ms/step - loss: 1.7629 - accuracy: 0.3909 - val_loss: 1.7576 - val_accuracy: 0.3953\n",
            "Epoch 7/300\n",
            "500/500 [==============================] - 2s 4ms/step - loss: 1.7320 - accuracy: 0.4011 - val_loss: 1.7596 - val_accuracy: 0.3896\n",
            "Epoch 8/300\n",
            "500/500 [==============================] - 3s 6ms/step - loss: 1.7057 - accuracy: 0.4134 - val_loss: 1.7020 - val_accuracy: 0.4215\n",
            "Epoch 9/300\n",
            "500/500 [==============================] - 3s 6ms/step - loss: 1.6805 - accuracy: 0.4205 - val_loss: 1.7147 - val_accuracy: 0.4169\n",
            "Epoch 10/300\n",
            "500/500 [==============================] - 2s 5ms/step - loss: 1.6569 - accuracy: 0.4330 - val_loss: 1.6641 - val_accuracy: 0.4278\n",
            "Epoch 11/300\n",
            "500/500 [==============================] - 2s 4ms/step - loss: 1.6416 - accuracy: 0.4378 - val_loss: 1.6874 - val_accuracy: 0.4235\n",
            "Epoch 12/300\n",
            "500/500 [==============================] - 2s 4ms/step - loss: 1.6221 - accuracy: 0.4464 - val_loss: 1.6533 - val_accuracy: 0.4349\n",
            "Epoch 13/300\n",
            "500/500 [==============================] - 2s 4ms/step - loss: 1.6018 - accuracy: 0.4539 - val_loss: 1.6799 - val_accuracy: 0.4260\n",
            "Epoch 14/300\n",
            "500/500 [==============================] - 2s 4ms/step - loss: 1.5853 - accuracy: 0.4580 - val_loss: 1.6297 - val_accuracy: 0.4428\n",
            "Epoch 15/300\n",
            "500/500 [==============================] - 5s 9ms/step - loss: 1.5699 - accuracy: 0.4643 - val_loss: 1.6471 - val_accuracy: 0.4376\n",
            "Epoch 16/300\n",
            "500/500 [==============================] - 2s 5ms/step - loss: 1.5563 - accuracy: 0.4677 - val_loss: 1.6137 - val_accuracy: 0.4434\n",
            "Epoch 17/300\n",
            "500/500 [==============================] - 2s 4ms/step - loss: 1.5385 - accuracy: 0.4758 - val_loss: 1.6044 - val_accuracy: 0.4486\n",
            "Epoch 18/300\n",
            "500/500 [==============================] - 2s 4ms/step - loss: 1.5238 - accuracy: 0.4826 - val_loss: 1.6260 - val_accuracy: 0.4440\n",
            "Epoch 19/300\n",
            "500/500 [==============================] - 3s 5ms/step - loss: 1.5092 - accuracy: 0.4882 - val_loss: 1.6508 - val_accuracy: 0.4440\n",
            "Epoch 20/300\n",
            "500/500 [==============================] - 3s 6ms/step - loss: 1.4928 - accuracy: 0.4941 - val_loss: 1.5939 - val_accuracy: 0.4520\n",
            "Epoch 21/300\n",
            "500/500 [==============================] - 3s 6ms/step - loss: 1.4810 - accuracy: 0.4994 - val_loss: 1.5984 - val_accuracy: 0.4535\n",
            "Epoch 22/300\n",
            "500/500 [==============================] - 3s 5ms/step - loss: 1.4640 - accuracy: 0.5041 - val_loss: 1.5814 - val_accuracy: 0.4573\n",
            "Epoch 23/300\n",
            "500/500 [==============================] - 3s 5ms/step - loss: 1.4549 - accuracy: 0.5100 - val_loss: 1.5759 - val_accuracy: 0.4581\n",
            "Epoch 24/300\n",
            "500/500 [==============================] - 3s 5ms/step - loss: 1.4380 - accuracy: 0.5127 - val_loss: 1.5752 - val_accuracy: 0.4626\n",
            "Epoch 25/300\n",
            "500/500 [==============================] - 3s 6ms/step - loss: 1.4321 - accuracy: 0.5145 - val_loss: 1.5581 - val_accuracy: 0.4708\n",
            "Epoch 26/300\n",
            "500/500 [==============================] - 3s 5ms/step - loss: 1.4169 - accuracy: 0.5219 - val_loss: 1.5558 - val_accuracy: 0.4652\n",
            "Epoch 27/300\n",
            "500/500 [==============================] - 2s 4ms/step - loss: 1.4094 - accuracy: 0.5243 - val_loss: 1.5557 - val_accuracy: 0.4696\n",
            "Epoch 28/300\n",
            "500/500 [==============================] - 2s 4ms/step - loss: 1.3942 - accuracy: 0.5299 - val_loss: 1.5426 - val_accuracy: 0.4760\n",
            "Epoch 29/300\n",
            "500/500 [==============================] - 2s 4ms/step - loss: 1.3872 - accuracy: 0.5324 - val_loss: 1.5566 - val_accuracy: 0.4752\n",
            "Epoch 30/300\n",
            "500/500 [==============================] - 2s 5ms/step - loss: 1.3792 - accuracy: 0.5367 - val_loss: 1.5856 - val_accuracy: 0.4592\n",
            "Epoch 31/300\n",
            "500/500 [==============================] - 3s 6ms/step - loss: 1.3662 - accuracy: 0.5411 - val_loss: 1.5493 - val_accuracy: 0.4746\n",
            "Epoch 32/300\n",
            "500/500 [==============================] - 3s 5ms/step - loss: 1.3537 - accuracy: 0.5447 - val_loss: 1.5522 - val_accuracy: 0.4732\n",
            "Epoch 33/300\n",
            "500/500 [==============================] - 2s 4ms/step - loss: 1.3456 - accuracy: 0.5490 - val_loss: 1.5749 - val_accuracy: 0.4717\n",
            "Epoch 34/300\n",
            "500/500 [==============================] - 2s 4ms/step - loss: 1.3375 - accuracy: 0.5511 - val_loss: 1.5607 - val_accuracy: 0.4737\n",
            "Epoch 35/300\n",
            "500/500 [==============================] - 2s 5ms/step - loss: 1.3256 - accuracy: 0.5566 - val_loss: 1.5450 - val_accuracy: 0.4746\n",
            "Epoch 36/300\n",
            "500/500 [==============================] - 3s 7ms/step - loss: 1.3179 - accuracy: 0.5583 - val_loss: 1.5601 - val_accuracy: 0.4688\n",
            "Epoch 37/300\n",
            "500/500 [==============================] - 4s 9ms/step - loss: 1.3112 - accuracy: 0.5621 - val_loss: 1.5419 - val_accuracy: 0.4812\n",
            "Epoch 38/300\n",
            "500/500 [==============================] - 4s 7ms/step - loss: 1.3005 - accuracy: 0.5623 - val_loss: 1.5723 - val_accuracy: 0.4732\n",
            "Epoch 39/300\n",
            "500/500 [==============================] - 2s 5ms/step - loss: 1.3019 - accuracy: 0.5629 - val_loss: 1.5438 - val_accuracy: 0.4815\n",
            "Epoch 40/300\n",
            "500/500 [==============================] - 3s 5ms/step - loss: 1.2864 - accuracy: 0.5707 - val_loss: 1.5642 - val_accuracy: 0.4704\n",
            "Epoch 41/300\n",
            "500/500 [==============================] - 4s 7ms/step - loss: 1.2778 - accuracy: 0.5725 - val_loss: 1.5610 - val_accuracy: 0.4741\n",
            "Epoch 42/300\n",
            "500/500 [==============================] - 3s 5ms/step - loss: 1.2705 - accuracy: 0.5762 - val_loss: 1.5715 - val_accuracy: 0.4703\n",
            "Epoch 43/300\n",
            "500/500 [==============================] - 2s 4ms/step - loss: 1.2576 - accuracy: 0.5823 - val_loss: 1.5707 - val_accuracy: 0.4748\n",
            "Epoch 44/300\n",
            "500/500 [==============================] - 2s 5ms/step - loss: 1.2571 - accuracy: 0.5805 - val_loss: 1.5441 - val_accuracy: 0.4839\n",
            "Epoch 45/300\n",
            "500/500 [==============================] - 2s 5ms/step - loss: 1.2438 - accuracy: 0.5853 - val_loss: 1.5442 - val_accuracy: 0.4791\n",
            "Epoch 46/300\n",
            "500/500 [==============================] - 2s 4ms/step - loss: 1.2348 - accuracy: 0.5893 - val_loss: 1.5352 - val_accuracy: 0.4876\n",
            "Epoch 47/300\n",
            "500/500 [==============================] - 3s 6ms/step - loss: 1.2287 - accuracy: 0.5913 - val_loss: 1.5540 - val_accuracy: 0.4826\n",
            "Epoch 48/300\n",
            "500/500 [==============================] - 2s 5ms/step - loss: 1.2212 - accuracy: 0.5931 - val_loss: 1.5414 - val_accuracy: 0.4834\n",
            "Epoch 49/300\n",
            "500/500 [==============================] - 2s 4ms/step - loss: 1.2154 - accuracy: 0.5948 - val_loss: 1.5518 - val_accuracy: 0.4850\n",
            "Epoch 50/300\n",
            "500/500 [==============================] - 2s 4ms/step - loss: 1.2093 - accuracy: 0.5997 - val_loss: 1.5748 - val_accuracy: 0.4778\n",
            "Epoch 51/300\n",
            "500/500 [==============================] - 2s 4ms/step - loss: 1.1989 - accuracy: 0.6014 - val_loss: 1.5753 - val_accuracy: 0.4812\n",
            "Epoch 52/300\n",
            "500/500 [==============================] - 3s 6ms/step - loss: 1.1917 - accuracy: 0.6031 - val_loss: 1.5517 - val_accuracy: 0.4849\n",
            "Epoch 53/300\n",
            "500/500 [==============================] - 3s 6ms/step - loss: 1.1868 - accuracy: 0.6070 - val_loss: 1.5644 - val_accuracy: 0.4833\n",
            "Epoch 54/300\n",
            "500/500 [==============================] - 2s 4ms/step - loss: 1.1816 - accuracy: 0.6071 - val_loss: 1.5878 - val_accuracy: 0.4782\n",
            "Epoch 55/300\n",
            "500/500 [==============================] - 2s 4ms/step - loss: 1.1702 - accuracy: 0.6128 - val_loss: 1.5522 - val_accuracy: 0.4859\n",
            "Epoch 56/300\n",
            "500/500 [==============================] - 2s 4ms/step - loss: 1.1684 - accuracy: 0.6137 - val_loss: 1.5686 - val_accuracy: 0.4879\n"
          ]
        }
      ]
    },
    {
      "cell_type": "code",
      "source": [
        "# Evaluate the fully connected neural network Model\n",
        "plt.plot(history3_fcnn.history['loss'], label='Train_error')\n",
        "plt.plot(history3_fcnn.history['val_loss'], label = 'Test_error')\n",
        "plt.plot(history3_fcnn.history['accuracy'], label = 'Train_accuracy')\n",
        "plt.plot(history3_fcnn.history['val_accuracy'], label = 'Test_accuracy')\n",
        "\n",
        "plt.xlabel('Applying Earlystopping / Epochs')\n",
        "plt.ylabel('Accuracy / Loss')\n",
        "plt.xlim([0, len(history3_fcnn.history['loss'])])\n",
        "plt.ylim([0, 2])\n",
        "plt.legend(loc='lower right')\n",
        "\n",
        "results3_fcnn = model3_fcnn.evaluate(FCNN_X3_test, y3_test, verbose=2)\n",
        "\n",
        "Train_error = history3_fcnn.history['loss']\n",
        "Train_error = min(Train_error)\n",
        "\n",
        "Train_Accuracy = history3_fcnn.history['accuracy']\n",
        "Train_Accuracy = max(Train_Accuracy)\n",
        "\n",
        "print('Train_error', round(Train_error, 7), '\\t', 'Train Accuracy:',  round(Train_Accuracy, 7))\n",
        "print('Test Error:', round(results3_fcnn[0], 7), '\\t', 'Test Accuracy:',  round(results3_fcnn[1], 7))"
      ],
      "metadata": {
        "id": "-MahKnLLqMcF",
        "colab": {
          "base_uri": "https://localhost:8080/",
          "height": 507
        },
        "outputId": "c3615123-1852-4973-85b9-533456bada0f"
      },
      "execution_count": 10,
      "outputs": [
        {
          "output_type": "stream",
          "name": "stdout",
          "text": [
            "313/313 - 1s - loss: 1.5686 - accuracy: 0.4879 - 914ms/epoch - 3ms/step\n",
            "Train_error 1.1684387 \t Train Accuracy: 0.61368\n",
            "Test Error: 1.5686351 \t Test Accuracy: 0.4879\n"
          ]
        },
        {
          "output_type": "display_data",
          "data": {
            "text/plain": [
              "<Figure size 640x480 with 1 Axes>"
            ],
            "image/png": "[encoded data removed]"
          },
          "metadata": {}
        }
      ]
    },
    {
      "cell_type": "code",
      "source": [
        "# Evaluate the fully connected neural network Model\n",
        "plt.plot(history3_fcnn.history['loss'], label='Train_error')\n",
        "plt.plot(history3_fcnn.history['val_loss'], label = 'Test_error')\n",
        "plt.plot(history3_fcnn.history['accuracy'], label = 'Train_accuracy')\n",
        "plt.plot(history3_fcnn.history['val_accuracy'], label = 'Test_accuracy')\n",
        "\n",
        "plt.xlabel('Epochs')\n",
        "plt.ylabel('Accuracy / Loss')\n",
        "plt.xlim([0, len(history3_fcnn.history['loss'])])\n",
        "plt.ylim([0, 3])\n",
        "plt.legend(loc='lower right')\n",
        "\n",
        "results3_fcnn = model3_fcnn.evaluate(FCNN_X3_test, y3_test, verbose=2)\n",
        "\n",
        "Train_error = history3_fcnn.history['loss']\n",
        "Train_error = min(Train_error)\n",
        "\n",
        "Train_Accuracy = history3_fcnn.history['accuracy']\n",
        "Train_Accuracy = max(Train_Accuracy)\n",
        "\n",
        "print('Train_error', round(Train_error, 7), '\\t', 'Train Accuracy:',  round(Train_Accuracy, 7))\n",
        "print('Test Error:', round(results3_fcnn[0], 7), '\\t', 'Test Accuracy:',  round(results3_fcnn[1], 7))"
      ],
      "metadata": {
        "colab": {
          "base_uri": "https://localhost:8080/",
          "height": 507
        },
        "id": "aZs8PskcmlsQ",
        "outputId": "bd3589a6-f62e-4513-c8c5-883f919b1605"
      },
      "execution_count": 20,
      "outputs": [
        {
          "output_type": "stream",
          "name": "stdout",
          "text": [
            "313/313 - 1s - loss: 2.9041 - accuracy: 0.4491 - 1s/epoch - 3ms/step\n",
            "Train_error 0.4354971 \t Train Accuracy: 0.8857\n",
            "Test Error: 2.9040892 \t Test Accuracy: 0.4491\n"
          ]
        },
        {
          "output_type": "display_data",
          "data": {
            "text/plain": [
              "<Figure size 640x480 with 1 Axes>"
            ],
            "image/png": "[encoded data removed]"
          },
          "metadata": {}
        }
      ]
    },
    {
      "cell_type": "markdown",
      "source": [
        "# 3.2 CNN"
      ],
      "metadata": {
        "id": "2KglEk_4qTad"
      }
    },
    {
      "cell_type": "code",
      "source": [
        "# Buidling CNN\n",
        "model3_cnn = models.Sequential()\n",
        "\n",
        "# Extracting features\n",
        "model3_cnn.add(layers.Conv2D(50, (3, 3), activation='relu', padding='same', input_shape=(32, 32, 3)))\n",
        "model3_cnn.add(layers.Conv2D(50, (3, 3), activation='relu', padding='same', input_shape=(32, 32, 3)))\n",
        "model3_cnn.add(layers.MaxPooling2D((2, 2)))\n",
        "\n",
        "model3_cnn.add(layers.Conv2D(100, (3, 3), activation='relu', padding='same'))\n",
        "model3_cnn.add(layers.Conv2D(100, (3, 3), activation='relu', padding='same'))\n",
        "model3_cnn.add(layers.MaxPooling2D((2, 2)))\n",
        "\n",
        "model3_cnn.add(layers.Conv2D(200, (3, 3), activation='relu', padding='same'))\n",
        "model3_cnn.add(layers.Conv2D(200, (3, 3), activation='relu', padding='same'))\n",
        "model3_cnn.add(layers.MaxPooling2D((2, 2)))\n",
        "\n",
        "# Categorize\n",
        "model3_cnn.add(layers.Flatten())\n",
        "model3_cnn.add(layers.Dense(130, activation='relu'))\n",
        "\n",
        "# output\n",
        "model3_cnn.add(layers.Dense(10, activation = 'softmax'))\n",
        "\n",
        "model3_cnn.summary()"
      ],
      "metadata": {
        "id": "obwly7VaqUa4",
        "colab": {
          "base_uri": "https://localhost:8080/"
        },
        "outputId": "74b449c8-9985-42a3-8350-e768e45c1bf8"
      },
      "execution_count": 15,
      "outputs": [
        {
          "output_type": "stream",
          "name": "stdout",
          "text": [
            "Model: \"sequential_4\"\n",
            "_________________________________________________________________\n",
            " Layer (type)                Output Shape              Param #   \n",
            "=================================================================\n",
            " conv2d_6 (Conv2D)           (None, 32, 32, 50)        1400      \n",
            "                                                                 \n",
            " conv2d_7 (Conv2D)           (None, 32, 32, 50)        22550     \n",
            "                                                                 \n",
            " max_pooling2d_6 (MaxPoolin  (None, 16, 16, 50)        0         \n",
            " g2D)                                                            \n",
            "                                                                 \n",
            " conv2d_8 (Conv2D)           (None, 16, 16, 100)       45100     \n",
            "                                                                 \n",
            " conv2d_9 (Conv2D)           (None, 16, 16, 100)       90100     \n",
            "                                                                 \n",
            " max_pooling2d_7 (MaxPoolin  (None, 8, 8, 100)         0         \n",
            " g2D)                                                            \n",
            "                                                                 \n",
            " conv2d_10 (Conv2D)          (None, 8, 8, 200)         180200    \n",
            "                                                                 \n",
            " conv2d_11 (Conv2D)          (None, 8, 8, 200)         360200    \n",
            "                                                                 \n",
            " max_pooling2d_8 (MaxPoolin  (None, 4, 4, 200)         0         \n",
            " g2D)                                                            \n",
            "                                                                 \n",
            " flatten_2 (Flatten)         (None, 3200)              0         \n",
            "                                                                 \n",
            " dense_4 (Dense)             (None, 130)               416130    \n",
            "                                                                 \n",
            " dense_5 (Dense)             (None, 10)                1310      \n",
            "                                                                 \n",
            "=================================================================\n",
            "Total params: 1116990 (4.26 MB)\n",
            "Trainable params: 1116990 (4.26 MB)\n",
            "Non-trainable params: 0 (0.00 Byte)\n",
            "_________________________________________________________________\n"
          ]
        }
      ]
    },
    {
      "cell_type": "code",
      "source": [
        "\n",
        "# from_logits = False if you set the activation function as softmax in the last dense layer\n",
        "\n",
        "batch_size = 100\n",
        "callback = tf.keras.callbacks.EarlyStopping(monitor='val_loss', patience = 10, mode='auto')\n",
        "\n",
        "with tf.device(device_name):\n",
        "  adam = optimizers.Adam(learning_rate=0.0001)\n",
        "\n",
        "\n",
        "  model3_cnn.compile(optimizer='adam',\n",
        "            loss=tf.keras.losses.SparseCategoricalCrossentropy(from_logits=True), # softamx: from_logits=True / other activation => False\n",
        "            metrics=['accuracy'])\n",
        "\n",
        "  history3_cnn = model3_cnn.fit(X3_train, y3_train, epochs = 33, batch_size = batch_size,\n",
        "                    validation_data=(X3_test, y3_test)) # , callbacks = [callback]"
      ],
      "metadata": {
        "colab": {
          "base_uri": "https://localhost:8080/"
        },
        "id": "3UZydRjVpAeF",
        "outputId": "97a494a9-4bc4-4320-d5ce-144d11f88998"
      },
      "execution_count": 16,
      "outputs": [
        {
          "output_type": "stream",
          "name": "stdout",
          "text": [
            "Epoch 1/33\n"
          ]
        },
        {
          "output_type": "stream",
          "name": "stderr",
          "text": [
            "/usr/local/lib/python3.10/dist-packages/keras/src/backend.py:5729: UserWarning: \"`sparse_categorical_crossentropy` received `from_logits=True`, but the `output` argument was produced by a Softmax activation and thus does not represent logits. Was this intended?\n",
            "  output, from_logits = _get_logits(\n"
          ]
        },
        {
          "output_type": "stream",
          "name": "stdout",
          "text": [
            "500/500 [==============================] - 13s 18ms/step - loss: 1.6520 - accuracy: 0.4420 - val_loss: 1.1368 - val_accuracy: 0.5971\n",
            "Epoch 2/33\n",
            "500/500 [==============================] - 9s 18ms/step - loss: 1.0170 - accuracy: 0.6436 - val_loss: 0.9689 - val_accuracy: 0.6642\n",
            "Epoch 3/33\n",
            "500/500 [==============================] - 9s 18ms/step - loss: 0.7908 - accuracy: 0.7249 - val_loss: 0.8522 - val_accuracy: 0.7069\n",
            "Epoch 4/33\n",
            "500/500 [==============================] - 9s 18ms/step - loss: 0.6610 - accuracy: 0.7687 - val_loss: 0.7983 - val_accuracy: 0.7243\n",
            "Epoch 5/33\n",
            "500/500 [==============================] - 9s 18ms/step - loss: 0.5673 - accuracy: 0.8034 - val_loss: 0.7631 - val_accuracy: 0.7419\n",
            "Epoch 6/33\n",
            "500/500 [==============================] - 9s 18ms/step - loss: 0.4890 - accuracy: 0.8286 - val_loss: 0.7768 - val_accuracy: 0.7514\n",
            "Epoch 7/33\n",
            "500/500 [==============================] - 9s 18ms/step - loss: 0.4194 - accuracy: 0.8527 - val_loss: 0.8579 - val_accuracy: 0.7378\n",
            "Epoch 8/33\n",
            "500/500 [==============================] - 9s 18ms/step - loss: 0.3768 - accuracy: 0.8678 - val_loss: 0.7656 - val_accuracy: 0.7600\n",
            "Epoch 9/33\n",
            "500/500 [==============================] - 9s 17ms/step - loss: 0.3143 - accuracy: 0.8896 - val_loss: 0.9095 - val_accuracy: 0.7508\n",
            "Epoch 10/33\n",
            "500/500 [==============================] - 9s 18ms/step - loss: 0.2830 - accuracy: 0.9002 - val_loss: 0.9152 - val_accuracy: 0.7595\n",
            "Epoch 11/33\n",
            "500/500 [==============================] - 9s 18ms/step - loss: 0.2615 - accuracy: 0.9080 - val_loss: 1.0525 - val_accuracy: 0.7380\n",
            "Epoch 12/33\n",
            "500/500 [==============================] - 9s 18ms/step - loss: 0.2347 - accuracy: 0.9194 - val_loss: 1.0064 - val_accuracy: 0.7579\n",
            "Epoch 13/33\n",
            "500/500 [==============================] - 9s 17ms/step - loss: 0.1987 - accuracy: 0.9313 - val_loss: 1.0607 - val_accuracy: 0.7537\n",
            "Epoch 14/33\n",
            "500/500 [==============================] - 9s 18ms/step - loss: 0.1989 - accuracy: 0.9329 - val_loss: 1.1257 - val_accuracy: 0.7473\n",
            "Epoch 15/33\n",
            "500/500 [==============================] - 9s 18ms/step - loss: 0.1858 - accuracy: 0.9357 - val_loss: 1.2380 - val_accuracy: 0.7426\n",
            "Epoch 16/33\n",
            "500/500 [==============================] - 9s 17ms/step - loss: 0.1818 - accuracy: 0.9396 - val_loss: 1.1818 - val_accuracy: 0.7522\n",
            "Epoch 17/33\n",
            "500/500 [==============================] - 9s 17ms/step - loss: 0.1585 - accuracy: 0.9469 - val_loss: 1.2180 - val_accuracy: 0.7438\n",
            "Epoch 18/33\n",
            "500/500 [==============================] - 9s 17ms/step - loss: 0.1564 - accuracy: 0.9475 - val_loss: 1.2618 - val_accuracy: 0.7473\n",
            "Epoch 19/33\n",
            "500/500 [==============================] - 9s 18ms/step - loss: 0.1603 - accuracy: 0.9461 - val_loss: 1.2659 - val_accuracy: 0.7413\n",
            "Epoch 20/33\n",
            "500/500 [==============================] - 9s 17ms/step - loss: 0.1423 - accuracy: 0.9527 - val_loss: 1.3852 - val_accuracy: 0.7496\n",
            "Epoch 21/33\n",
            "500/500 [==============================] - 9s 18ms/step - loss: 0.1376 - accuracy: 0.9532 - val_loss: 1.3820 - val_accuracy: 0.7439\n",
            "Epoch 22/33\n",
            "500/500 [==============================] - 9s 18ms/step - loss: 0.1454 - accuracy: 0.9527 - val_loss: 1.3164 - val_accuracy: 0.7508\n",
            "Epoch 23/33\n",
            "500/500 [==============================] - 9s 17ms/step - loss: 0.1270 - accuracy: 0.9575 - val_loss: 1.3973 - val_accuracy: 0.7527\n",
            "Epoch 24/33\n",
            "500/500 [==============================] - 9s 17ms/step - loss: 0.1434 - accuracy: 0.9542 - val_loss: 1.4967 - val_accuracy: 0.7477\n",
            "Epoch 25/33\n",
            "500/500 [==============================] - 9s 18ms/step - loss: 0.1304 - accuracy: 0.9585 - val_loss: 1.5638 - val_accuracy: 0.7486\n",
            "Epoch 26/33\n",
            "500/500 [==============================] - 9s 18ms/step - loss: 0.1217 - accuracy: 0.9609 - val_loss: 1.3940 - val_accuracy: 0.7434\n",
            "Epoch 27/33\n",
            "500/500 [==============================] - 9s 17ms/step - loss: 0.1215 - accuracy: 0.9611 - val_loss: 1.4048 - val_accuracy: 0.7503\n",
            "Epoch 28/33\n",
            "500/500 [==============================] - 9s 17ms/step - loss: 0.1194 - accuracy: 0.9623 - val_loss: 1.4628 - val_accuracy: 0.7539\n",
            "Epoch 29/33\n",
            "500/500 [==============================] - 9s 17ms/step - loss: 0.1135 - accuracy: 0.9648 - val_loss: 1.6887 - val_accuracy: 0.7378\n",
            "Epoch 30/33\n",
            "500/500 [==============================] - 9s 17ms/step - loss: 0.1232 - accuracy: 0.9604 - val_loss: 1.4212 - val_accuracy: 0.7554\n",
            "Epoch 31/33\n",
            "500/500 [==============================] - 9s 18ms/step - loss: 0.1185 - accuracy: 0.9627 - val_loss: 1.4781 - val_accuracy: 0.7472\n",
            "Epoch 32/33\n",
            "500/500 [==============================] - 9s 18ms/step - loss: 0.1234 - accuracy: 0.9614 - val_loss: 1.4570 - val_accuracy: 0.7500\n",
            "Epoch 33/33\n",
            "500/500 [==============================] - 9s 18ms/step - loss: 0.1142 - accuracy: 0.9637 - val_loss: 1.5007 - val_accuracy: 0.7567\n"
          ]
        }
      ]
    },
    {
      "cell_type": "code",
      "source": [
        "plt.plot(history3_cnn.history['loss'], label='Train_error')\n",
        "plt.plot(history3_cnn.history['val_loss'], label = 'Test_error')\n",
        "plt.plot(history3_cnn.history['accuracy'], label = 'Train_accuracy')\n",
        "plt.plot(history3_cnn.history['val_accuracy'], label = 'Test_accuracy')\n",
        "\n",
        "plt.xlabel('Epochs')\n",
        "plt.ylabel('Accuracy / Loss')\n",
        "plt.xlim([0, len(history3_cnn.history['accuracy'])])\n",
        "plt.ylim([0, 2.5])\n",
        "plt.legend(loc='lower right')\n",
        "\n",
        "results3_cnn = model3_cnn.evaluate(X3_test,  y3_test, verbose=2)\n",
        "\n",
        "Train_error = history3_cnn.history['loss']\n",
        "Train_error = min(Train_error)\n",
        "\n",
        "Train_Accuracy = history3_cnn.history['accuracy']\n",
        "Train_Accuracy = max(Train_Accuracy)\n",
        "\n",
        "Test_error = history3_cnn.history['val_loss']\n",
        "Test_error = min(Test_error)\n",
        "\n",
        "Test_Accuracy = history3_cnn.history['val_accuracy']\n",
        "Test_Accuracy = max(Test_Accuracy)\n",
        "\n",
        "\n",
        "print('Train_error', round(Train_error, 7), '\\t', 'Train Accuracy:',  round(Train_Accuracy, 7))\n",
        "\n",
        "# print('Test_error', round(Test_error, 7), '\\t', 'Test Accuracy:',  round(Test_Accuracy, 7))\n",
        "\n",
        "print('Test Error:', round(results3_cnn[0], 7), '\\t', 'Test Accuracy:',  round(results3_cnn[1], 7))"
      ],
      "metadata": {
        "id": "KafCWS8ApAwk",
        "colab": {
          "base_uri": "https://localhost:8080/",
          "height": 507
        },
        "outputId": "37a83b83-c942-41d6-9e6a-ced1628b3f15"
      },
      "execution_count": 17,
      "outputs": [
        {
          "output_type": "stream",
          "name": "stdout",
          "text": [
            "313/313 - 1s - loss: 1.5007 - accuracy: 0.7567 - 1s/epoch - 5ms/step\n",
            "Train_error 0.1135254 \t Train Accuracy: 0.96476\n",
            "Test Error: 1.5007184 \t Test Accuracy: 0.7567\n"
          ]
        },
        {
          "output_type": "display_data",
          "data": {
            "text/plain": [
              "<Figure size 640x480 with 1 Axes>"
            ],
            "image/png": "[encoded data removed]"
          },
          "metadata": {}
        }
      ]
    },
    {
      "cell_type": "markdown",
      "source": [
        "# 3.4 Observation\n",
        "\n",
        "# FCNN\n",
        "- Train_error 0.4354971 \t Train Accuracy: 0.8857\n",
        "- Test Error: 2.9040892 \t Test Accuracy: 0.4491\n",
        "\n",
        "# CNN\n",
        "- Train_error 0.1135254 \t Train Accuracy: 0.96476\n",
        "- Test Error: 1.5007184 \t Test Accuracy: 0.7567\n",
        "\n",
        "\n",
        "The overall results are very similar to problem 2. Of course, in FCNN process, the results can be changed by the number of hidden layers, the number of nodes of each hidden layer, or the learning rate. Similarly, in the CNN process, the result can be changed by the number of CNN blocks, each CNN layer's dimension, and the Flatten layer's dimension.\n",
        "\n",
        "However, I think CNN shows better performance than FCNN."
      ],
      "metadata": {
        "id": "nwQCLvMkaFvY"
      }
    },
    {
      "cell_type": "code",
      "source": [],
      "metadata": {
        "id": "l0fT9EbzaHsp"
      },
      "execution_count": null,
      "outputs": []
    }
  ]
}