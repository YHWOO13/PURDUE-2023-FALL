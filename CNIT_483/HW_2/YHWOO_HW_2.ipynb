{
 "cells": [
  {
   "cell_type": "markdown",
   "metadata": {
    "id": "bvT895SlRRJE"
   },
   "source": [
    "# Yoonhyuck WOO / Purdue University_Computer and Information Technology\n",
    "# Title: **Homework 2**\n",
    "Due by **October 31th, 2023**\n",
    "# Professor: Jin Wei-Kocsis, Ph.D."
   ]
  },
  {
   "cell_type": "markdown",
   "metadata": {
    "id": "XeTlSZ0YVZPQ"
   },
   "source": [
    "**Question 1**: In this problem, we will focus on an hand-written digit recognition task for MNIST dataset. In this problem, you are asked to design a Fully-Connected Neural Network (FCNN) with two Dense hidden layers. The first hidden layer has 10 computing units and the second hidden layer has 20 computing units.\n",
    "\n",
    "Requirments:\n",
    "*   You need to include the following three components in your homework solution: (1) the codes, (2) the obtained training error, and (3) the obtained testing error.\n",
    "\n",
    "*Hints*:\n",
    "1.   This problem can be modeled as multi-class classification task.\n",
    "2.   Download MNIST fashion dataset can be realized via:\n",
    "(x_train, y_train), (x_test, y_test) = datasets.mnist.load_data()\n",
    "3.   The loss function can be formulated via: tf.keras.losses.SparseCategoricalCrossentropy\n",
    "\n"
   ]
  },
  {
   "cell_type": "code",
   "execution_count": 1,
   "metadata": {
    "id": "hahOA1oLR1Td"
   },
   "outputs": [],
   "source": [
    "# import the tensorflow and other libraries\n",
    "import tensorflow as tf\n",
    "from tensorflow.keras import datasets, layers, models, optimizers\n",
    "import pandas as pd\n",
    "import matplotlib\n",
    "import matplotlib.pyplot as plt\n",
    "import numpy as np\n",
    "from sklearn.model_selection import train_test_split\n",
    "from mlxtend.plotting import plot_decision_regions"
   ]
  },
  {
   "cell_type": "code",
   "execution_count": 2,
   "metadata": {
    "colab": {
     "base_uri": "https://localhost:8080/"
    },
    "id": "k3RQeR7xUkj3",
    "outputId": "3bf0aea9-64d5-4b07-dca5-3115d9a07c1d"
   },
   "outputs": [
    {
     "name": "stdout",
     "output_type": "stream",
     "text": [
      "Found GPU at: /device:GPU:0\n"
     ]
    }
   ],
   "source": [
    "device_name = tf.test.gpu_device_name()\n",
    "if device_name != '/device:GPU:0':\n",
    "  raise SystemError('GPU device not found')\n",
    "print('Found GPU at: {}'.format(device_name))"
   ]
  },
  {
   "cell_type": "code",
   "execution_count": 3,
   "metadata": {
    "id": "uJGBX4U8R1WC"
   },
   "outputs": [],
   "source": [
    "mnist = tf.keras.datasets.mnist\n",
    "train_data, test_data = mnist.load_data()"
   ]
  },
  {
   "cell_type": "code",
   "execution_count": 4,
   "metadata": {
    "colab": {
     "base_uri": "https://localhost:8080/"
    },
    "id": "q7Ez93r3cLtW",
    "outputId": "198d7152-4a46-4a6e-de97-da1edba5872a"
   },
   "outputs": [
    {
     "name": "stdout",
     "output_type": "stream",
     "text": [
      "(60000, 28, 28)\n"
     ]
    }
   ],
   "source": [
    "(x_train, y_train), (x_test, y_test) = datasets.mnist.load_data()\n",
    "\n",
    "print(x_train.shape)"
   ]
  },
  {
   "cell_type": "code",
   "execution_count": 5,
   "metadata": {
    "colab": {
     "base_uri": "https://localhost:8080/"
    },
    "id": "6CB05u9WcerN",
    "outputId": "89e49176-0ca5-41d9-b31d-ee71ed3df1cc"
   },
   "outputs": [
    {
     "name": "stdout",
     "output_type": "stream",
     "text": [
      "X_train: (60000, 784)\n",
      "Y_train: (60000,)\n",
      "X_test:  (10000, 784)\n",
      "Y_test:  (10000,)\n"
     ]
    }
   ],
   "source": [
    "(X_train, y_train), (X_test, y_test) = mnist.load_data()\n",
    "\n",
    "X_train = X_train.reshape((60000, 784))\n",
    "X_train = X_train.astype('float32') / 255\n",
    "X_test = X_test.reshape((10000, 784))\n",
    "X_test = X_test.astype('float32') / 255\n",
    "\n",
    "#printing the shapes of the vectors\n",
    "print('X_train: ' + str(X_train.shape))\n",
    "print('Y_train: ' + str(y_train.shape))\n",
    "print('X_test:  '  + str(X_test.shape))\n",
    "print('Y_test:  '  + str(y_test.shape))"
   ]
  },
  {
   "cell_type": "code",
   "execution_count": 6,
   "metadata": {
    "colab": {
     "base_uri": "https://localhost:8080/"
    },
    "id": "lhNN9xf6R1a6",
    "outputId": "9bbd6201-a9fc-48f9-8a29-08a4dfbf67d0"
   },
   "outputs": [
    {
     "name": "stdout",
     "output_type": "stream",
     "text": [
      "Model: \"sequential\"\n",
      "_________________________________________________________________\n",
      " Layer (type)                Output Shape              Param #   \n",
      "=================================================================\n",
      " normalization (Normalizati  (None, 784)               3         \n",
      " on)                                                             \n",
      "                                                                 \n",
      " dense (Dense)               (None, 10)                7850      \n",
      "                                                                 \n",
      " dense_1 (Dense)             (None, 20)                220       \n",
      "                                                                 \n",
      " dense_2 (Dense)             (None, 10)                210       \n",
      "                                                                 \n",
      "=================================================================\n",
      "Total params: 8283 (32.36 KB)\n",
      "Trainable params: 8280 (32.34 KB)\n",
      "Non-trainable params: 3 (16.00 Byte)\n",
      "_________________________________________________________________\n"
     ]
    }
   ],
   "source": [
    "# Design a fully-connected neural network with one input layer with two nodes, one hidden layer with two nodes, and one output layer with one node (totally three layers)\n",
    "model = models.Sequential()\n",
    "model.add(layers.Normalization(input_shape = [784,], axis = None))\n",
    "model.add(layers.Dense(10, activation='relu', activity_regularizer=tf.keras.regularizers.L2(0.01)))\n",
    "model.add(layers.Dense(20, activation = 'relu', activity_regularizer=tf.keras.regularizers.L2(0.01)))\n",
    "\n",
    "model.add(layers.Dense(10, activation = 'softmax', activity_regularizer=tf.keras.regularizers.L2(0.01)))\n",
    "\n",
    "model.summary()"
   ]
  },
  {
   "cell_type": "code",
   "execution_count": 7,
   "metadata": {
    "colab": {
     "base_uri": "https://localhost:8080/"
    },
    "id": "RzdXSQGQwYkk",
    "outputId": "6a12f675-dc5b-4095-96e7-13c00353eb53"
   },
   "outputs": [
    {
     "data": {
      "text/plain": [
       "[PhysicalDevice(name='/physical_device:CPU:0', device_type='CPU'),\n",
       " PhysicalDevice(name='/physical_device:GPU:0', device_type='GPU')]"
      ]
     },
     "execution_count": 7,
     "metadata": {},
     "output_type": "execute_result"
    }
   ],
   "source": [
    "tf.config.get_visible_devices()"
   ]
  },
  {
   "cell_type": "code",
   "execution_count": 8,
   "metadata": {
    "colab": {
     "base_uri": "https://localhost:8080/"
    },
    "id": "CIzMMdDRR6PE",
    "outputId": "a1dc5c42-eff4-434c-a64f-ece49a9d45a2"
   },
   "outputs": [
    {
     "name": "stdout",
     "output_type": "stream",
     "text": [
      "Epoch 1/150\n",
      "1875/1875 [==============================] - 11s 4ms/step - loss: 1.7186 - accuracy: 0.5547 - val_loss: 1.2584 - val_accuracy: 0.7774\n",
      "Epoch 2/150\n",
      "1875/1875 [==============================] - 9s 5ms/step - loss: 1.0643 - accuracy: 0.8308 - val_loss: 0.8976 - val_accuracy: 0.8683\n",
      "Epoch 3/150\n",
      "1875/1875 [==============================] - 13s 7ms/step - loss: 0.8129 - accuracy: 0.8778 - val_loss: 0.7231 - val_accuracy: 0.8900\n",
      "Epoch 4/150\n",
      "1875/1875 [==============================] - 9s 5ms/step - loss: 0.6798 - accuracy: 0.8934 - val_loss: 0.6227 - val_accuracy: 0.8982\n",
      "Epoch 5/150\n",
      "1875/1875 [==============================] - 12s 6ms/step - loss: 0.5971 - accuracy: 0.9028 - val_loss: 0.5570 - val_accuracy: 0.9066\n",
      "Epoch 6/150\n",
      "1875/1875 [==============================] - 8s 5ms/step - loss: 0.5407 - accuracy: 0.9091 - val_loss: 0.5119 - val_accuracy: 0.9130\n",
      "Epoch 7/150\n",
      "1875/1875 [==============================] - 7s 4ms/step - loss: 0.4994 - accuracy: 0.9135 - val_loss: 0.4763 - val_accuracy: 0.9163\n",
      "Epoch 8/150\n",
      "1875/1875 [==============================] - 7s 4ms/step - loss: 0.4672 - accuracy: 0.9168 - val_loss: 0.4513 - val_accuracy: 0.9187\n",
      "Epoch 9/150\n",
      "1875/1875 [==============================] - 8s 4ms/step - loss: 0.4416 - accuracy: 0.9196 - val_loss: 0.4295 - val_accuracy: 0.9218\n",
      "Epoch 10/150\n",
      "1875/1875 [==============================] - 7s 4ms/step - loss: 0.4203 - accuracy: 0.9227 - val_loss: 0.4146 - val_accuracy: 0.9226\n",
      "Epoch 11/150\n",
      "1875/1875 [==============================] - 8s 4ms/step - loss: 0.4031 - accuracy: 0.9248 - val_loss: 0.3974 - val_accuracy: 0.9241\n",
      "Epoch 12/150\n",
      "1875/1875 [==============================] - 7s 4ms/step - loss: 0.3877 - accuracy: 0.9270 - val_loss: 0.3852 - val_accuracy: 0.9252\n",
      "Epoch 13/150\n",
      "1875/1875 [==============================] - 7s 4ms/step - loss: 0.3746 - accuracy: 0.9281 - val_loss: 0.3738 - val_accuracy: 0.9264\n",
      "Epoch 14/150\n",
      "1875/1875 [==============================] - 7s 4ms/step - loss: 0.3630 - accuracy: 0.9301 - val_loss: 0.3630 - val_accuracy: 0.9276\n",
      "Epoch 15/150\n",
      "1875/1875 [==============================] - 7s 3ms/step - loss: 0.3527 - accuracy: 0.9309 - val_loss: 0.3561 - val_accuracy: 0.9291\n",
      "Epoch 16/150\n",
      "1875/1875 [==============================] - 7s 4ms/step - loss: 0.3434 - accuracy: 0.9326 - val_loss: 0.3475 - val_accuracy: 0.9284\n",
      "Epoch 17/150\n",
      "1875/1875 [==============================] - 7s 4ms/step - loss: 0.3352 - accuracy: 0.9334 - val_loss: 0.3398 - val_accuracy: 0.9306\n",
      "Epoch 18/150\n",
      "1875/1875 [==============================] - 7s 4ms/step - loss: 0.3273 - accuracy: 0.9349 - val_loss: 0.3356 - val_accuracy: 0.9300\n",
      "Epoch 19/150\n",
      "1875/1875 [==============================] - 7s 4ms/step - loss: 0.3204 - accuracy: 0.9359 - val_loss: 0.3326 - val_accuracy: 0.9297\n",
      "Epoch 20/150\n",
      "1875/1875 [==============================] - 7s 4ms/step - loss: 0.3142 - accuracy: 0.9367 - val_loss: 0.3233 - val_accuracy: 0.9317\n",
      "Epoch 21/150\n",
      "1875/1875 [==============================] - 8s 4ms/step - loss: 0.3080 - accuracy: 0.9376 - val_loss: 0.3213 - val_accuracy: 0.9323\n",
      "Epoch 22/150\n",
      "1875/1875 [==============================] - 7s 4ms/step - loss: 0.3027 - accuracy: 0.9381 - val_loss: 0.3145 - val_accuracy: 0.9314\n",
      "Epoch 23/150\n",
      "1875/1875 [==============================] - 8s 4ms/step - loss: 0.2978 - accuracy: 0.9381 - val_loss: 0.3110 - val_accuracy: 0.9331\n",
      "Epoch 24/150\n",
      "1875/1875 [==============================] - 7s 4ms/step - loss: 0.2931 - accuracy: 0.9394 - val_loss: 0.3077 - val_accuracy: 0.9340\n",
      "Epoch 25/150\n",
      "1875/1875 [==============================] - 6s 3ms/step - loss: 0.2884 - accuracy: 0.9405 - val_loss: 0.3035 - val_accuracy: 0.9353\n",
      "Epoch 26/150\n",
      "1875/1875 [==============================] - 7s 4ms/step - loss: 0.2846 - accuracy: 0.9409 - val_loss: 0.3040 - val_accuracy: 0.9338\n",
      "Epoch 27/150\n",
      "1875/1875 [==============================] - 7s 4ms/step - loss: 0.2811 - accuracy: 0.9416 - val_loss: 0.3035 - val_accuracy: 0.9344\n",
      "Epoch 28/150\n",
      "1875/1875 [==============================] - 7s 4ms/step - loss: 0.2770 - accuracy: 0.9421 - val_loss: 0.2976 - val_accuracy: 0.9334\n",
      "Epoch 29/150\n",
      "1875/1875 [==============================] - 7s 4ms/step - loss: 0.2736 - accuracy: 0.9431 - val_loss: 0.2942 - val_accuracy: 0.9373\n",
      "Epoch 30/150\n",
      "1875/1875 [==============================] - 7s 4ms/step - loss: 0.2708 - accuracy: 0.9434 - val_loss: 0.2904 - val_accuracy: 0.9358\n",
      "Epoch 31/150\n",
      "1875/1875 [==============================] - 7s 4ms/step - loss: 0.2673 - accuracy: 0.9442 - val_loss: 0.2906 - val_accuracy: 0.9359\n",
      "Epoch 32/150\n",
      "1875/1875 [==============================] - 7s 4ms/step - loss: 0.2648 - accuracy: 0.9445 - val_loss: 0.2900 - val_accuracy: 0.9359\n",
      "Epoch 33/150\n",
      "1875/1875 [==============================] - 8s 4ms/step - loss: 0.2622 - accuracy: 0.9456 - val_loss: 0.2880 - val_accuracy: 0.9352\n",
      "Epoch 34/150\n",
      "1875/1875 [==============================] - 6s 3ms/step - loss: 0.2593 - accuracy: 0.9458 - val_loss: 0.2877 - val_accuracy: 0.9335\n",
      "Epoch 35/150\n",
      "1875/1875 [==============================] - 8s 4ms/step - loss: 0.2568 - accuracy: 0.9463 - val_loss: 0.2851 - val_accuracy: 0.9346\n",
      "Epoch 36/150\n",
      "1875/1875 [==============================] - 6s 3ms/step - loss: 0.2549 - accuracy: 0.9459 - val_loss: 0.2849 - val_accuracy: 0.9361\n",
      "Epoch 37/150\n",
      "1875/1875 [==============================] - 7s 4ms/step - loss: 0.2524 - accuracy: 0.9469 - val_loss: 0.2844 - val_accuracy: 0.9359\n",
      "Epoch 38/150\n",
      "1875/1875 [==============================] - 7s 4ms/step - loss: 0.2501 - accuracy: 0.9473 - val_loss: 0.2800 - val_accuracy: 0.9368\n",
      "Epoch 39/150\n",
      "1875/1875 [==============================] - 7s 4ms/step - loss: 0.2483 - accuracy: 0.9477 - val_loss: 0.2806 - val_accuracy: 0.9364\n",
      "Epoch 40/150\n",
      "1875/1875 [==============================] - 7s 4ms/step - loss: 0.2466 - accuracy: 0.9477 - val_loss: 0.2784 - val_accuracy: 0.9358\n",
      "Epoch 41/150\n",
      "1875/1875 [==============================] - 7s 3ms/step - loss: 0.2448 - accuracy: 0.9480 - val_loss: 0.2791 - val_accuracy: 0.9353\n",
      "Epoch 42/150\n",
      "1875/1875 [==============================] - 8s 4ms/step - loss: 0.2426 - accuracy: 0.9475 - val_loss: 0.2775 - val_accuracy: 0.9360\n",
      "Epoch 43/150\n",
      "1875/1875 [==============================] - 7s 4ms/step - loss: 0.2409 - accuracy: 0.9484 - val_loss: 0.2763 - val_accuracy: 0.9356\n",
      "Epoch 44/150\n",
      "1875/1875 [==============================] - 7s 4ms/step - loss: 0.2387 - accuracy: 0.9488 - val_loss: 0.2790 - val_accuracy: 0.9346\n",
      "Epoch 45/150\n",
      "1875/1875 [==============================] - 7s 4ms/step - loss: 0.2377 - accuracy: 0.9492 - val_loss: 0.2763 - val_accuracy: 0.9339\n",
      "Epoch 46/150\n",
      "1875/1875 [==============================] - 7s 4ms/step - loss: 0.2356 - accuracy: 0.9500 - val_loss: 0.2737 - val_accuracy: 0.9364\n",
      "Epoch 47/150\n",
      "1875/1875 [==============================] - 8s 4ms/step - loss: 0.2340 - accuracy: 0.9499 - val_loss: 0.2759 - val_accuracy: 0.9359\n",
      "Epoch 48/150\n",
      "1875/1875 [==============================] - 6s 3ms/step - loss: 0.2330 - accuracy: 0.9500 - val_loss: 0.2728 - val_accuracy: 0.9363\n",
      "Epoch 49/150\n",
      "1875/1875 [==============================] - 7s 4ms/step - loss: 0.2311 - accuracy: 0.9507 - val_loss: 0.2743 - val_accuracy: 0.9361\n",
      "Epoch 50/150\n",
      "1875/1875 [==============================] - 6s 3ms/step - loss: 0.2297 - accuracy: 0.9511 - val_loss: 0.2706 - val_accuracy: 0.9356\n",
      "Epoch 51/150\n",
      "1875/1875 [==============================] - 7s 4ms/step - loss: 0.2282 - accuracy: 0.9512 - val_loss: 0.2733 - val_accuracy: 0.9354\n",
      "Epoch 52/150\n",
      "1875/1875 [==============================] - 7s 4ms/step - loss: 0.2271 - accuracy: 0.9512 - val_loss: 0.2712 - val_accuracy: 0.9370\n",
      "Epoch 53/150\n",
      "1875/1875 [==============================] - 7s 4ms/step - loss: 0.2258 - accuracy: 0.9512 - val_loss: 0.2687 - val_accuracy: 0.9369\n",
      "Epoch 54/150\n",
      "1875/1875 [==============================] - 7s 4ms/step - loss: 0.2247 - accuracy: 0.9514 - val_loss: 0.2672 - val_accuracy: 0.9395\n",
      "Epoch 55/150\n",
      "1875/1875 [==============================] - 6s 3ms/step - loss: 0.2237 - accuracy: 0.9513 - val_loss: 0.2680 - val_accuracy: 0.9372\n",
      "Epoch 56/150\n",
      "1875/1875 [==============================] - 7s 4ms/step - loss: 0.2222 - accuracy: 0.9519 - val_loss: 0.2703 - val_accuracy: 0.9369\n",
      "Epoch 57/150\n",
      "1875/1875 [==============================] - 7s 4ms/step - loss: 0.2211 - accuracy: 0.9516 - val_loss: 0.2673 - val_accuracy: 0.9378\n",
      "Epoch 58/150\n",
      "1875/1875 [==============================] - 9s 5ms/step - loss: 0.2199 - accuracy: 0.9517 - val_loss: 0.2658 - val_accuracy: 0.9367\n",
      "Epoch 59/150\n",
      "1875/1875 [==============================] - 7s 4ms/step - loss: 0.2192 - accuracy: 0.9524 - val_loss: 0.2677 - val_accuracy: 0.9367\n",
      "Epoch 60/150\n",
      "1875/1875 [==============================] - 7s 4ms/step - loss: 0.2179 - accuracy: 0.9525 - val_loss: 0.2688 - val_accuracy: 0.9380\n",
      "Epoch 61/150\n",
      "1875/1875 [==============================] - 8s 4ms/step - loss: 0.2172 - accuracy: 0.9524 - val_loss: 0.2665 - val_accuracy: 0.9366\n",
      "Epoch 62/150\n",
      "1875/1875 [==============================] - 7s 4ms/step - loss: 0.2158 - accuracy: 0.9530 - val_loss: 0.2633 - val_accuracy: 0.9386\n",
      "Epoch 63/150\n",
      "1875/1875 [==============================] - 8s 4ms/step - loss: 0.2148 - accuracy: 0.9528 - val_loss: 0.2668 - val_accuracy: 0.9377\n",
      "Epoch 64/150\n",
      "1875/1875 [==============================] - 7s 4ms/step - loss: 0.2140 - accuracy: 0.9530 - val_loss: 0.2656 - val_accuracy: 0.9379\n",
      "Epoch 65/150\n",
      "1875/1875 [==============================] - 7s 4ms/step - loss: 0.2133 - accuracy: 0.9531 - val_loss: 0.2660 - val_accuracy: 0.9370\n",
      "Epoch 66/150\n",
      "1875/1875 [==============================] - 8s 4ms/step - loss: 0.2121 - accuracy: 0.9539 - val_loss: 0.2671 - val_accuracy: 0.9368\n",
      "Epoch 67/150\n",
      "1875/1875 [==============================] - 7s 4ms/step - loss: 0.2113 - accuracy: 0.9535 - val_loss: 0.2685 - val_accuracy: 0.9376\n",
      "Epoch 68/150\n",
      "1875/1875 [==============================] - 7s 4ms/step - loss: 0.2101 - accuracy: 0.9542 - val_loss: 0.2648 - val_accuracy: 0.9392\n",
      "Epoch 69/150\n",
      "1875/1875 [==============================] - 6s 3ms/step - loss: 0.2096 - accuracy: 0.9544 - val_loss: 0.2640 - val_accuracy: 0.9364\n",
      "Epoch 70/150\n",
      "1875/1875 [==============================] - 7s 4ms/step - loss: 0.2090 - accuracy: 0.9544 - val_loss: 0.2680 - val_accuracy: 0.9373\n",
      "Epoch 71/150\n",
      "1875/1875 [==============================] - 7s 4ms/step - loss: 0.2081 - accuracy: 0.9545 - val_loss: 0.2653 - val_accuracy: 0.9369\n",
      "Epoch 72/150\n",
      "1875/1875 [==============================] - 7s 4ms/step - loss: 0.2071 - accuracy: 0.9544 - val_loss: 0.2656 - val_accuracy: 0.9394\n",
      "Epoch 73/150\n",
      "1875/1875 [==============================] - 7s 4ms/step - loss: 0.2063 - accuracy: 0.9548 - val_loss: 0.2628 - val_accuracy: 0.9386\n",
      "Epoch 74/150\n",
      "1875/1875 [==============================] - 7s 4ms/step - loss: 0.2056 - accuracy: 0.9549 - val_loss: 0.2661 - val_accuracy: 0.9368\n",
      "Epoch 75/150\n",
      "1875/1875 [==============================] - 8s 4ms/step - loss: 0.2049 - accuracy: 0.9552 - val_loss: 0.2640 - val_accuracy: 0.9377\n",
      "Epoch 76/150\n",
      "1875/1875 [==============================] - 6s 3ms/step - loss: 0.2040 - accuracy: 0.9551 - val_loss: 0.2624 - val_accuracy: 0.9381\n",
      "Epoch 77/150\n",
      "1875/1875 [==============================] - 8s 4ms/step - loss: 0.2034 - accuracy: 0.9551 - val_loss: 0.2625 - val_accuracy: 0.9383\n",
      "Epoch 78/150\n",
      "1875/1875 [==============================] - 7s 4ms/step - loss: 0.2026 - accuracy: 0.9550 - val_loss: 0.2634 - val_accuracy: 0.9369\n",
      "Epoch 79/150\n",
      "1875/1875 [==============================] - 7s 4ms/step - loss: 0.2021 - accuracy: 0.9555 - val_loss: 0.2639 - val_accuracy: 0.9376\n",
      "Epoch 80/150\n",
      "1875/1875 [==============================] - 7s 4ms/step - loss: 0.2013 - accuracy: 0.9555 - val_loss: 0.2655 - val_accuracy: 0.9372\n",
      "Epoch 81/150\n",
      "1875/1875 [==============================] - 7s 4ms/step - loss: 0.2007 - accuracy: 0.9561 - val_loss: 0.2616 - val_accuracy: 0.9382\n",
      "Epoch 82/150\n",
      "1875/1875 [==============================] - 7s 4ms/step - loss: 0.2001 - accuracy: 0.9561 - val_loss: 0.2643 - val_accuracy: 0.9379\n",
      "Epoch 83/150\n",
      "1875/1875 [==============================] - 7s 3ms/step - loss: 0.1996 - accuracy: 0.9556 - val_loss: 0.2622 - val_accuracy: 0.9376\n",
      "Epoch 84/150\n",
      "1875/1875 [==============================] - 7s 4ms/step - loss: 0.1989 - accuracy: 0.9564 - val_loss: 0.2647 - val_accuracy: 0.9370\n",
      "Epoch 85/150\n",
      "1875/1875 [==============================] - 7s 4ms/step - loss: 0.1981 - accuracy: 0.9565 - val_loss: 0.2656 - val_accuracy: 0.9379\n",
      "Epoch 86/150\n",
      "1875/1875 [==============================] - 7s 4ms/step - loss: 0.1978 - accuracy: 0.9553 - val_loss: 0.2611 - val_accuracy: 0.9375\n",
      "Epoch 87/150\n",
      "1875/1875 [==============================] - 7s 4ms/step - loss: 0.1973 - accuracy: 0.9566 - val_loss: 0.2609 - val_accuracy: 0.9390\n",
      "Epoch 88/150\n",
      "1875/1875 [==============================] - 6s 3ms/step - loss: 0.1964 - accuracy: 0.9565 - val_loss: 0.2632 - val_accuracy: 0.9383\n",
      "Epoch 89/150\n",
      "1875/1875 [==============================] - 8s 4ms/step - loss: 0.1958 - accuracy: 0.9564 - val_loss: 0.2629 - val_accuracy: 0.9374\n",
      "Epoch 90/150\n",
      "1875/1875 [==============================] - 6s 3ms/step - loss: 0.1951 - accuracy: 0.9568 - val_loss: 0.2625 - val_accuracy: 0.9385\n",
      "Epoch 91/150\n",
      "1875/1875 [==============================] - 7s 4ms/step - loss: 0.1951 - accuracy: 0.9566 - val_loss: 0.2643 - val_accuracy: 0.9362\n",
      "Epoch 92/150\n",
      "1875/1875 [==============================] - 7s 4ms/step - loss: 0.1944 - accuracy: 0.9567 - val_loss: 0.2615 - val_accuracy: 0.9381\n",
      "Epoch 93/150\n",
      "1875/1875 [==============================] - 7s 4ms/step - loss: 0.1937 - accuracy: 0.9573 - val_loss: 0.2616 - val_accuracy: 0.9376\n",
      "Epoch 94/150\n",
      "1875/1875 [==============================] - 7s 4ms/step - loss: 0.1929 - accuracy: 0.9575 - val_loss: 0.2639 - val_accuracy: 0.9374\n",
      "Epoch 95/150\n",
      "1875/1875 [==============================] - 7s 3ms/step - loss: 0.1927 - accuracy: 0.9570 - val_loss: 0.2580 - val_accuracy: 0.9392\n",
      "Epoch 96/150\n",
      "1875/1875 [==============================] - 8s 4ms/step - loss: 0.1926 - accuracy: 0.9570 - val_loss: 0.2604 - val_accuracy: 0.9390\n",
      "Epoch 97/150\n",
      "1875/1875 [==============================] - 7s 4ms/step - loss: 0.1916 - accuracy: 0.9574 - val_loss: 0.2605 - val_accuracy: 0.9378\n",
      "Epoch 98/150\n",
      "1875/1875 [==============================] - 7s 4ms/step - loss: 0.1914 - accuracy: 0.9574 - val_loss: 0.2606 - val_accuracy: 0.9394\n",
      "Epoch 99/150\n",
      "1875/1875 [==============================] - 7s 4ms/step - loss: 0.1908 - accuracy: 0.9578 - val_loss: 0.2634 - val_accuracy: 0.9374\n",
      "Epoch 100/150\n",
      "1875/1875 [==============================] - 8s 4ms/step - loss: 0.1905 - accuracy: 0.9574 - val_loss: 0.2657 - val_accuracy: 0.9374\n",
      "Epoch 101/150\n",
      "1875/1875 [==============================] - 7s 4ms/step - loss: 0.1898 - accuracy: 0.9575 - val_loss: 0.2643 - val_accuracy: 0.9373\n",
      "Epoch 102/150\n",
      "1875/1875 [==============================] - 7s 4ms/step - loss: 0.1894 - accuracy: 0.9579 - val_loss: 0.2625 - val_accuracy: 0.9359\n",
      "Epoch 103/150\n",
      "1875/1875 [==============================] - 7s 4ms/step - loss: 0.1886 - accuracy: 0.9577 - val_loss: 0.2596 - val_accuracy: 0.9377\n",
      "Epoch 104/150\n",
      "1875/1875 [==============================] - 7s 3ms/step - loss: 0.1887 - accuracy: 0.9574 - val_loss: 0.2617 - val_accuracy: 0.9371\n",
      "Epoch 105/150\n",
      "1875/1875 [==============================] - 7s 4ms/step - loss: 0.1878 - accuracy: 0.9575 - val_loss: 0.2616 - val_accuracy: 0.9366\n",
      "Epoch 106/150\n",
      "1875/1875 [==============================] - 7s 4ms/step - loss: 0.1875 - accuracy: 0.9577 - val_loss: 0.2600 - val_accuracy: 0.9382\n",
      "Epoch 107/150\n",
      "1875/1875 [==============================] - 8s 4ms/step - loss: 0.1870 - accuracy: 0.9586 - val_loss: 0.2602 - val_accuracy: 0.9379\n",
      "Epoch 108/150\n",
      "1875/1875 [==============================] - 8s 4ms/step - loss: 0.1868 - accuracy: 0.9581 - val_loss: 0.2666 - val_accuracy: 0.9362\n",
      "Epoch 109/150\n",
      "1875/1875 [==============================] - 7s 4ms/step - loss: 0.1867 - accuracy: 0.9584 - val_loss: 0.2599 - val_accuracy: 0.9371\n",
      "Epoch 110/150\n",
      "1875/1875 [==============================] - 8s 4ms/step - loss: 0.1859 - accuracy: 0.9586 - val_loss: 0.2619 - val_accuracy: 0.9359\n",
      "Epoch 111/150\n",
      "1875/1875 [==============================] - 7s 4ms/step - loss: 0.1856 - accuracy: 0.9582 - val_loss: 0.2621 - val_accuracy: 0.9369\n",
      "Epoch 112/150\n",
      "1875/1875 [==============================] - 8s 4ms/step - loss: 0.1850 - accuracy: 0.9582 - val_loss: 0.2613 - val_accuracy: 0.9383\n",
      "Epoch 113/150\n",
      "1875/1875 [==============================] - 8s 4ms/step - loss: 0.1845 - accuracy: 0.9588 - val_loss: 0.2608 - val_accuracy: 0.9371\n",
      "Epoch 114/150\n",
      "1875/1875 [==============================] - 6s 3ms/step - loss: 0.1846 - accuracy: 0.9585 - val_loss: 0.2589 - val_accuracy: 0.9386\n",
      "Epoch 115/150\n",
      "1875/1875 [==============================] - 7s 4ms/step - loss: 0.1840 - accuracy: 0.9586 - val_loss: 0.2636 - val_accuracy: 0.9370\n",
      "Epoch 116/150\n",
      "1875/1875 [==============================] - 7s 3ms/step - loss: 0.1834 - accuracy: 0.9592 - val_loss: 0.2606 - val_accuracy: 0.9373\n",
      "Epoch 117/150\n",
      "1875/1875 [==============================] - 7s 4ms/step - loss: 0.1836 - accuracy: 0.9587 - val_loss: 0.2574 - val_accuracy: 0.9381\n",
      "Epoch 118/150\n",
      "1875/1875 [==============================] - 7s 4ms/step - loss: 0.1830 - accuracy: 0.9591 - val_loss: 0.2600 - val_accuracy: 0.9391\n",
      "Epoch 119/150\n",
      "1875/1875 [==============================] - 7s 4ms/step - loss: 0.1826 - accuracy: 0.9587 - val_loss: 0.2609 - val_accuracy: 0.9371\n",
      "Epoch 120/150\n",
      "1875/1875 [==============================] - 7s 4ms/step - loss: 0.1824 - accuracy: 0.9592 - val_loss: 0.2581 - val_accuracy: 0.9386\n",
      "Epoch 121/150\n",
      "1875/1875 [==============================] - 7s 4ms/step - loss: 0.1815 - accuracy: 0.9595 - val_loss: 0.2608 - val_accuracy: 0.9375\n",
      "Epoch 122/150\n",
      "1875/1875 [==============================] - 8s 4ms/step - loss: 0.1809 - accuracy: 0.9598 - val_loss: 0.2641 - val_accuracy: 0.9363\n",
      "Epoch 123/150\n",
      "1875/1875 [==============================] - 7s 3ms/step - loss: 0.1816 - accuracy: 0.9597 - val_loss: 0.2578 - val_accuracy: 0.9372\n",
      "Epoch 124/150\n",
      "1875/1875 [==============================] - 7s 4ms/step - loss: 0.1808 - accuracy: 0.9592 - val_loss: 0.2635 - val_accuracy: 0.9363\n",
      "Epoch 125/150\n",
      "1875/1875 [==============================] - 7s 4ms/step - loss: 0.1809 - accuracy: 0.9592 - val_loss: 0.2604 - val_accuracy: 0.9384\n",
      "Epoch 126/150\n",
      "1875/1875 [==============================] - 7s 4ms/step - loss: 0.1800 - accuracy: 0.9598 - val_loss: 0.2657 - val_accuracy: 0.9362\n",
      "Epoch 127/150\n",
      "1875/1875 [==============================] - 7s 4ms/step - loss: 0.1801 - accuracy: 0.9596 - val_loss: 0.2648 - val_accuracy: 0.9367\n",
      "Epoch 128/150\n",
      "1875/1875 [==============================] - 7s 4ms/step - loss: 0.1793 - accuracy: 0.9593 - val_loss: 0.2632 - val_accuracy: 0.9370\n",
      "Epoch 129/150\n",
      "1875/1875 [==============================] - 7s 4ms/step - loss: 0.1793 - accuracy: 0.9600 - val_loss: 0.2591 - val_accuracy: 0.9376\n",
      "Epoch 130/150\n",
      "1875/1875 [==============================] - 7s 3ms/step - loss: 0.1792 - accuracy: 0.9597 - val_loss: 0.2659 - val_accuracy: 0.9360\n",
      "Epoch 131/150\n",
      "1875/1875 [==============================] - 7s 4ms/step - loss: 0.1788 - accuracy: 0.9600 - val_loss: 0.2607 - val_accuracy: 0.9373\n",
      "Epoch 132/150\n",
      "1875/1875 [==============================] - 7s 4ms/step - loss: 0.1786 - accuracy: 0.9595 - val_loss: 0.2591 - val_accuracy: 0.9368\n",
      "Epoch 133/150\n",
      "1875/1875 [==============================] - 7s 4ms/step - loss: 0.1783 - accuracy: 0.9598 - val_loss: 0.2609 - val_accuracy: 0.9370\n",
      "Epoch 134/150\n",
      "1875/1875 [==============================] - 8s 4ms/step - loss: 0.1778 - accuracy: 0.9602 - val_loss: 0.2633 - val_accuracy: 0.9357\n",
      "Epoch 135/150\n",
      "1875/1875 [==============================] - 7s 4ms/step - loss: 0.1775 - accuracy: 0.9599 - val_loss: 0.2611 - val_accuracy: 0.9365\n",
      "Epoch 136/150\n",
      "1875/1875 [==============================] - 7s 4ms/step - loss: 0.1767 - accuracy: 0.9605 - val_loss: 0.2649 - val_accuracy: 0.9364\n",
      "Epoch 137/150\n",
      "1875/1875 [==============================] - 7s 4ms/step - loss: 0.1770 - accuracy: 0.9596 - val_loss: 0.2605 - val_accuracy: 0.9384\n",
      "Epoch 138/150\n",
      "1875/1875 [==============================] - 8s 4ms/step - loss: 0.1763 - accuracy: 0.9604 - val_loss: 0.2622 - val_accuracy: 0.9371\n",
      "Epoch 139/150\n",
      "1875/1875 [==============================] - 7s 4ms/step - loss: 0.1767 - accuracy: 0.9603 - val_loss: 0.2592 - val_accuracy: 0.9373\n",
      "Epoch 140/150\n",
      "1875/1875 [==============================] - 7s 4ms/step - loss: 0.1760 - accuracy: 0.9609 - val_loss: 0.2642 - val_accuracy: 0.9350\n",
      "Epoch 141/150\n",
      "1875/1875 [==============================] - 7s 4ms/step - loss: 0.1760 - accuracy: 0.9602 - val_loss: 0.2605 - val_accuracy: 0.9362\n",
      "Epoch 142/150\n",
      "1875/1875 [==============================] - 7s 4ms/step - loss: 0.1758 - accuracy: 0.9603 - val_loss: 0.2627 - val_accuracy: 0.9364\n",
      "Epoch 143/150\n",
      "1875/1875 [==============================] - 8s 4ms/step - loss: 0.1752 - accuracy: 0.9604 - val_loss: 0.2621 - val_accuracy: 0.9381\n",
      "Epoch 144/150\n",
      "1875/1875 [==============================] - 7s 4ms/step - loss: 0.1748 - accuracy: 0.9604 - val_loss: 0.2642 - val_accuracy: 0.9365\n",
      "Epoch 145/150\n",
      "1875/1875 [==============================] - 7s 4ms/step - loss: 0.1751 - accuracy: 0.9602 - val_loss: 0.2577 - val_accuracy: 0.9379\n",
      "Epoch 146/150\n",
      "1875/1875 [==============================] - 8s 4ms/step - loss: 0.1749 - accuracy: 0.9606 - val_loss: 0.2627 - val_accuracy: 0.9378\n",
      "Epoch 147/150\n",
      "1875/1875 [==============================] - 6s 3ms/step - loss: 0.1741 - accuracy: 0.9611 - val_loss: 0.2652 - val_accuracy: 0.9358\n",
      "Epoch 148/150\n",
      "1875/1875 [==============================] - 7s 4ms/step - loss: 0.1742 - accuracy: 0.9611 - val_loss: 0.2624 - val_accuracy: 0.9370\n",
      "Epoch 149/150\n",
      "1875/1875 [==============================] - 6s 3ms/step - loss: 0.1736 - accuracy: 0.9609 - val_loss: 0.2637 - val_accuracy: 0.9351\n",
      "Epoch 150/150\n",
      "1875/1875 [==============================] - 8s 4ms/step - loss: 0.1740 - accuracy: 0.9608 - val_loss: 0.2634 - val_accuracy: 0.9371\n"
     ]
    }
   ],
   "source": [
    "# Compile and training the fully-connected NN model\n",
    "\n",
    "with tf.device(device_name):\n",
    "  tf.config.get_visible_devices()\n",
    "  adam = optimizers.Adam(learning_rate=0.0001)\n",
    "  model.compile(optimizer = adam,\n",
    "              loss='sparse_categorical_crossentropy',\n",
    "              metrics=['accuracy'])\n",
    "  history = model.fit(X_train, y_train, epochs = 150,\n",
    "                    validation_data=(X_test, y_test))"
   ]
  },
  {
   "cell_type": "markdown",
   "metadata": {
    "id": "mkqjPazGYKsy"
   },
   "source": [
    ":# Train error & Test error & Accuracy\n",
    "\n",
    "# Train_error 0.1736055 \t Train Accuracy: 0.9611167\n",
    "# Test Error: 0.2633658 \t Test Accuracy: 0.9371"
   ]
  },
  {
   "cell_type": "code",
   "execution_count": 19,
   "metadata": {
    "colab": {
     "base_uri": "https://localhost:8080/",
     "height": 507
    },
    "id": "kouVIuyVR6Rk",
    "outputId": "10de09d1-d85b-49e3-860d-16defff45286"
   },
   "outputs": [
    {
     "name": "stdout",
     "output_type": "stream",
     "text": [
      "313/313 - 1s - loss: 0.2634 - accuracy: 0.9371 - 1s/epoch - 3ms/step\n",
      "Train_error 0.1736055 \t Train Accuracy: 0.9611167\n",
      "Test Error: 0.2633658 \t Test Accuracy: 0.9371\n"
     ]
    },
    {
     "data": {
      "image/png": "[encoded data removed]",
      "text/plain": [
       "<Figure size 640x480 with 1 Axes>"
      ]
     },
     "metadata": {},
     "output_type": "display_data"
    }
   ],
   "source": [
    "# Evaluate the fully connected neural network Model\n",
    "plt.plot(history.history['loss'], label='Train_error')\n",
    "plt.plot(history.history['val_loss'], label = 'Test_error')\n",
    "plt.plot(history.history['accuracy'], label = 'Train_accuracy')\n",
    "plt.plot(history.history['val_accuracy'], label = 'Test_accuracy')\n",
    "\n",
    "plt.xlabel('Epochs')\n",
    "plt.ylabel('Accuracy / Loss')\n",
    "plt.xlim([0, len(history.history['loss'])])\n",
    "plt.ylim([0, 2])\n",
    "plt.legend(loc='lower right')\n",
    "\n",
    "results = model.evaluate(X_test,  y_test, verbose=2)\n",
    "\n",
    "Train_error = history.history['loss']\n",
    "Train_error = min(Train_error)\n",
    "\n",
    "Train_Accuracy = history.history['accuracy']\n",
    "Train_Accuracy = max(Train_Accuracy)\n",
    "\n",
    "print('Train_error', round(Train_error, 7), '\\t', 'Train Accuracy:',  round(Train_Accuracy, 7))\n",
    "print('Test Error:', round(results[0], 7), '\\t', 'Test Accuracy:',  round(results[1], 7))"
   ]
  },
  {
   "cell_type": "code",
   "execution_count": 10,
   "metadata": {
    "colab": {
     "base_uri": "https://localhost:8080/"
    },
    "id": "jLRQSygaR6US",
    "outputId": "e5486f75-6fef-497e-a63c-a5b0329a0f59"
   },
   "outputs": [
    {
     "name": "stdout",
     "output_type": "stream",
     "text": [
      "dict_keys(['loss', 'sparse_categorical_crossentropy', 'accuracy', 'val_loss', 'val_sparse_categorical_crossentropy', 'val_accuracy'])\n"
     ]
    }
   ],
   "source": [
    "print(history.history.keys())"
   ]
  }
 ],
 "metadata": {
  "accelerator": "GPU",
  "colab": {
   "gpuType": "T4",
   "provenance": []
  },
  "kernelspec": {
   "display_name": "Python 3",
   "language": "python",
   "name": "python3"
  },
  "language_info": {
   "codemirror_mode": {
    "name": "ipython",
    "version": 3
   },
   "file_extension": ".py",
   "mimetype": "text/x-python",
   "name": "python",
   "nbconvert_exporter": "python",
   "pygments_lexer": "ipython3",
   "version": "3.8.8"
  }
 },
 "nbformat": 4,
 "nbformat_minor": 4
}
