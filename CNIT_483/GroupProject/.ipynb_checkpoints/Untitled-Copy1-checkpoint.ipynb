{
 "cells": [
  {
   "cell_type": "code",
   "execution_count": 77,
   "id": "490ece9d-a21c-45e9-9606-e2b4f37c3b72",
   "metadata": {},
   "outputs": [],
   "source": [
    "import networkx as nx\n",
    "import matplotlib.pyplot as plt\n",
    "import csv\n",
    "import numpy as np"
   ]
  },
  {
   "cell_type": "code",
   "execution_count": 6,
   "id": "ccfac654-d23a-49a4-836b-43d74a4b50a3",
   "metadata": {},
   "outputs": [],
   "source": [
    "class KnowledgeGraph():\n",
    "    \"\"\"\n",
    "    Class to contain all the knowledge graph related code.\n",
    "    \"\"\"\n",
    "    def similar_movies(self, language=\"Hindi\", year=\"2020\"):\n",
    "        \"\"\"\n",
    "        Method to plot knowledge graph of 1000 Movies.\n",
    "        \"\"\"\n",
    "        G = nx.MultiDiGraph()\n",
    "        genres_read = []\n",
    "        genres_colors = ['#5013ED', '#42853C', '#D4E907', '#2A257D', '#EF093B', '#8CA030', '#35B1DA', '#3F4F33', '#CAA341', '#B69BAE', '#E77FE2', '#9483F4', '#77DF5D', '#F3902F', '#E88182', '#713338', '#5CEFAB', '#863771', '#53EF26', '#FF80FF', '#6FF6FF']\n",
    "        genres_color = {}\n",
    "        color_map = []\n",
    "        movies_genres = {}\n",
    "\n",
    "        with open('C://Users//LG//PycharmProjects//pythonProject//Purdue//CNIT_483//The_Entertainment_Knowledge_Graph//Code//final_dataset_imdb.csv',encoding=\"utf8\") as csv_file:\n",
    "            csv_reader = csv.reader(csv_file, delimiter=',')\n",
    "            line_count = 0\n",
    "            for row in csv_reader:\n",
    "                if line_count == 0:  # Do not include the header from the data\n",
    "                    line_count = 1\n",
    "                    continue\n",
    "                if row[3]!= year and row[8]!= language:\n",
    "                    continue\n",
    "                G.add_node(row[1])\n",
    "                title = row[1]\n",
    "                genres = list(row[5].split(\", \"))\n",
    "                movies_genres[title]=genres\n",
    "                for x in genres:\n",
    "                    if x not in G:\n",
    "                        G.add_node(x)\n",
    "                        genres_read.append(x)\n",
    "                        genres_color[x]=genres_colors[len(genres_color)]\n",
    "                    G.add_edge(title, x)\n",
    "                \n",
    "                if line_count == 1000:\n",
    "                    break\n",
    "                line_count += 1\n",
    "\n",
    "        edge_colors = [genres_color[e[1]] for e in G.edges]\n",
    "        for node in G:\n",
    "            if node in genres_read:\n",
    "                color_map.append('blue')\n",
    "            else: \n",
    "                hex_ = [genres_color[x] for x in movies_genres[str(node)]]\n",
    "                avg = sum(list(map(lambda x: int(x[1:], 16), hex_)))//len(hex_)\n",
    "                avg_color = f'#{avg:06x}'\n",
    "                color_map.append(avg_color)\n",
    "\n",
    "        plt.figure(figsize=(150,150))\n",
    "        pos = nx.spring_layout(G,k=0.10,iterations=20)\n",
    "        nx.draw(G, with_labels=True, node_color=color_map, edge_color=edge_colors, node_size = 4500, prog=\"dot\", edge_cmap=plt.cm.Blues, font_size=16, pos=pos)\n",
    "        plt.savefig(\"my_graph.pdf\")\n",
    "        print(\"\\nPlease Check my_graph.pdf in the current code directory\\n\")\n",
    "        \n",
    "        \n",
    "    def movie_details(self, title):\n",
    "        \n",
    "        \"\"\"\n",
    "        Method to plot detailed KG of a single movie.\n",
    "        \"\"\"\n",
    "        G = nx.MultiDiGraph()\n",
    "        color_map = []\n",
    "        node_sizes = []\n",
    "        colors = ['#5013ED', '#42853C', '#D4E907', '#2A257D', '#EF093B', '#8CA030', '#35B1DA', '#3F4F33', '#CAA341', '#B69BAE', '#E77FE2', '#9483F4', '#77DF5D', '#F3902F', '#E88182', '#713338', '#5CEFAB', '#863771', '#53EF26', '#FF80FF', '#6FF6FF']\n",
    "        with open('C:\\\\Users\\\\LG\\\\PycharmProjects\\\\pythonProject\\\\Purdue\\\\CNIT_483\\\\The_Entertainment_Knowledge_Graph\\\\Code\\\\final_dataset_imdb.csv',encoding=\"utf8\") as csv_file:\n",
    "            csv_reader = csv.reader(csv_file, delimiter=',')\n",
    "            for row in csv_reader:\n",
    "                if row[2]==title:\n",
    "                    row[1]=row[2]\n",
    "                    a = row[1]\n",
    "                    G.add_node(row[1])\n",
    "                    color_map.append('red')\n",
    "                    node_sizes.append(20000)\n",
    "                    G.add_node(row[4])\n",
    "                    color_map.append(colors[1])\n",
    "                    node_sizes.append(7000)\n",
    "                    G.add_edge(row[1],row[4], movie='Released on')\n",
    "                    G.add_node(\"Genres\")\n",
    "                    color_map.append(colors[2])\n",
    "                    node_sizes.append(7000)\n",
    "                    G.add_edge(row[1],\"Genres\", movie='Genres include')\n",
    "                    for i in list(row[5].split(\", \")):\n",
    "                        G.add_node(i)\n",
    "                        color_map.append(colors[4])\n",
    "                        node_sizes.append(7000)\n",
    "                        G.add_edge(\"Genres\", i)\n",
    "                    G.add_node(row[6])\n",
    "                    color_map.append(colors[5])\n",
    "                    node_sizes.append(7000)\n",
    "                    G.add_edge(row[1],row[6], movie='Duration(Mins)')\n",
    "                    G.add_node(row[7])\n",
    "                    color_map.append(colors[6])\n",
    "                    node_sizes.append(7000)\n",
    "                    G.add_edge(row[1],row[7], movie='Country released in')\n",
    "                    G.add_node(\"Languages\")\n",
    "                    color_map.append(colors[7])\n",
    "                    node_sizes.append(7000)\n",
    "                    G.add_edge(row[1],\"Languages\", movie='languages released in')\n",
    "                    count=0\n",
    "                    for i in list(row[8].split(\", \")):\n",
    "                        G.add_node(i)\n",
    "                        color_map.append(colors[18])\n",
    "                        node_sizes.append(5000)\n",
    "                        G.add_edge(\"Languages\", i)\n",
    "                        if count>4:\n",
    "                            break\n",
    "                        count+=1\n",
    "                    G.add_node(row[9])\n",
    "                    color_map.append(colors[8])\n",
    "                    node_sizes.append(7000)\n",
    "                    G.add_edge(row[1],row[9], movie='Directed by')\n",
    "                    G.add_node(\"Cast\")\n",
    "                    color_map.append(colors[9])\n",
    "                    node_sizes.append(7000)\n",
    "                    G.add_edge(row[1],\"Cast\", movie='cast includes')\n",
    "                    count=0\n",
    "                    for i in list(row[12].split(\", \")):\n",
    "                        G.add_node(i)\n",
    "                        color_map.append(colors[10])\n",
    "                        node_sizes.append(5000)\n",
    "                        G.add_edge(\"Cast\", i)\n",
    "                        if count>4:\n",
    "                            break\n",
    "                        count+=1\n",
    "                    description = row[13]\n",
    "                    G.add_node(row[14])\n",
    "                    color_map.append(colors[11])\n",
    "                    node_sizes.append(7000)\n",
    "                    G.add_edge(row[1],row[14], movie='Rating')\n",
    "                    break\n",
    "\n",
    "        plt.figure(figsize=(25,25))\n",
    "        pos = nx.shell_layout(G)\n",
    "        pos[a] = np.array([0, 0])\n",
    "        nx.draw(G, with_labels=True, node_color=color_map, node_size = node_sizes, prog=\"dot\", edge_cmap=plt.cm.Blues, font_size=20, pos=pos)\n",
    "        edge_labels = nx.get_edge_attributes(G, 'movie')\n",
    "        nx.draw_networkx_edge_labels(G, pos, labels=edge_labels, font_size=20)\n",
    "        plt.savefig(\"movie_detail.pdf\")\n",
    "        print(\"Description of movie: \", description)\n",
    "        print(\"\\nPlease Check movie_detail.pdf in the current code directory\\n\")\n",
    "    "
   ]
  },
  {
   "cell_type": "code",
   "execution_count": 9,
   "id": "ba299fbd-beda-4f81-ab88-fc1a6718640a",
   "metadata": {},
   "outputs": [
    {
     "name": "stdin",
     "output_type": "stream",
     "text": [
      "Enter Movie Name(Case Sensitive):  Cleopatra\n"
     ]
    }
   ],
   "source": [
    "movie_name = input(\"Enter Movie Name(Case Sensitive): \")\n"
   ]
  },
  {
   "cell_type": "code",
   "execution_count": 52,
   "id": "539abba1-bc9e-43f4-af5e-2cde26994e9f",
   "metadata": {},
   "outputs": [],
   "source": [
    "def movie_details(title):    \n",
    "    \"\"\"\n",
    "    Method to plot detailed KG of a single movie.\n",
    "    \"\"\"\n",
    "    G = nx.MultiDiGraph()\n",
    "    color_map = []\n",
    "    node_sizes = []\n",
    "    colors = ['#5013ED', '#42853C', '#D4E907', '#2A257D', '#EF093B', '#8CA030', '#35B1DA', '#3F4F33', '#CAA341', '#B69BAE', '#E77FE2', '#9483F4', '#77DF5D', '#F3902F', '#E88182', '#713338', '#5CEFAB', '#863771', '#53EF26', '#FF80FF', '#6FF6FF']\n",
    "    with open('C:\\\\Users\\\\LG\\\\PycharmProjects\\\\pythonProject\\\\Purdue\\\\CNIT_483\\\\The_Entertainment_Knowledge_Graph\\\\Code\\\\final_dataset_imdb.csv', encoding=\"utf8\") as csv_file:\n",
    "        csv_reader = csv.reader(csv_file, delimiter=',')\n",
    "        for row in csv_reader:\n",
    "            if row[2]==title:\n",
    "                row[1]=row[2]\n",
    "                a = row[1]\n",
    "                G.add_node(row[1])\n",
    "                color_map.append('red')\n",
    "                node_sizes.append(20000)\n",
    "                G.add_node(row[4])\n",
    "                color_map.append(colors[1])\n",
    "                node_sizes.append(7000)\n",
    "                G.add_edge(row[1],row[4], movie='Released on')\n",
    "                G.add_node(\"Genres\")\n",
    "                color_map.append(colors[2])\n",
    "                node_sizes.append(7000)\n",
    "                G.add_edge(row[1],\"Genres\", movie='Genres include')\n",
    "                for i in list(row[5].split(\", \")):\n",
    "                    G.add_node(i)\n",
    "                    color_map.append(colors[4])\n",
    "                    node_sizes.append(7000)\n",
    "                    G.add_edge(\"Genres\", i)\n",
    "                G.add_node(row[6])\n",
    "                color_map.append(colors[5])\n",
    "                node_sizes.append(7000)\n",
    "                G.add_edge(row[1],row[6], movie='Duration(Mins)')\n",
    "                G.add_node(row[7])\n",
    "                color_map.append(colors[6])\n",
    "                node_sizes.append(7000)\n",
    "                G.add_edge(row[1],row[7], movie='Country released in')\n",
    "                G.add_node(\"Languages\")\n",
    "                color_map.append(colors[7])\n",
    "                node_sizes.append(7000)\n",
    "                G.add_edge(row[1],\"Languages\", movie='languages released in')\n",
    "                count=0\n",
    "                for i in list(row[8].split(\", \")):\n",
    "                    G.add_node(i)\n",
    "                    color_map.append(colors[18])\n",
    "                    node_sizes.append(5000)\n",
    "                    G.add_edge(\"Languages\", i)\n",
    "                    if count>4:\n",
    "                        break\n",
    "                    count+=1\n",
    "                G.add_node(row[9])\n",
    "                color_map.append(colors[8])\n",
    "                node_sizes.append(7000)\n",
    "                G.add_edge(row[1],row[9], movie='Directed by')\n",
    "                G.add_node(\"Cast\")\n",
    "                color_map.append(colors[9])\n",
    "                node_sizes.append(7000)\n",
    "                G.add_edge(row[1],\"Cast\", movie='cast includes')\n",
    "                count=0\n",
    "                for i in list(row[12].split(\", \")):\n",
    "                    G.add_node(i)\n",
    "                    color_map.append(colors[10])\n",
    "                    node_sizes.append(5000)\n",
    "                    G.add_edge(\"Cast\", i)\n",
    "                    if count>4:\n",
    "                        break\n",
    "                    count+=1\n",
    "                description = row[13]\n",
    "                G.add_node(row[14])\n",
    "                color_map.append(colors[11])\n",
    "                node_sizes.append(7000)\n",
    "                G.add_edge(row[1],row[14], movie='Rating')\n",
    "                break\n",
    "\n",
    "    print(len(G.edges()))\n",
    "    print(G.edges())\n",
    "\n",
    "    print(\"\")\n",
    "    print(G.edges(data=True))\n",
    "    print(\"\")\n",
    "    print(G.edges(data='relation'))\n",
    "    \n",
    "    print(\"g_nodes\")\n",
    "    print(G.nodes())\n",
    "    \n",
    "    print(G.info())\n",
    "\n",
    "#         plt.figure(figsize=(25,25))\n",
    "#         pos = nx.shell_layout(G)\n",
    "#         pos[a] = np.array([0, 0])\n",
    "#         nx.draw(G, with_labels=True, node_color=color_map, node_size = node_sizes, prog=\"dot\", edge_cmap=plt.cm.Blues, font_size=20, pos=pos)\n",
    "#         edge_labels = nx.get_edge_attributes(G, 'movie')\n",
    "#         nx.draw_networkx_edge_labels(G, pos, labels=edge_labels, font_size=20)\n",
    "#         plt.savefig(\"movie_detail.pdf\")\n",
    "#         print(\"Description of movie: \", description)\n",
    "#         print(\"\\nPlease Check movie_detail.pdf in the current code directory\\n\")"
   ]
  },
  {
   "cell_type": "code",
   "execution_count": 53,
   "id": "5ae45d31-6de8-4d57-8cde-ce39bf7e8865",
   "metadata": {},
   "outputs": [
    {
     "name": "stdout",
     "output_type": "stream",
     "text": [
      "17\n",
      "[('Cleopatra', '1912-11-13'), ('Cleopatra', 'Genres'), ('Cleopatra', '100'), ('Cleopatra', 'USA'), ('Cleopatra', 'Languages'), ('Cleopatra', 'Charles L. Gaskill'), ('Cleopatra', 'Cast'), ('Cleopatra', '5.2'), ('Genres', 'Drama'), ('Genres', 'History'), ('Languages', 'English'), ('Cast', 'Helen Gardner'), ('Cast', 'Pearl Sindelar'), ('Cast', 'Miss Fielding'), ('Cast', 'Miss Robson'), ('Cast', 'Helene Costello'), ('Cast', 'Charles Sindelar')]\n",
      "\n",
      "[('Cleopatra', '1912-11-13', {'movie': 'Released on'}), ('Cleopatra', 'Genres', {'movie': 'Genres include'}), ('Cleopatra', '100', {'movie': 'Duration(Mins)'}), ('Cleopatra', 'USA', {'movie': 'Country released in'}), ('Cleopatra', 'Languages', {'movie': 'languages released in'}), ('Cleopatra', 'Charles L. Gaskill', {'movie': 'Directed by'}), ('Cleopatra', 'Cast', {'movie': 'cast includes'}), ('Cleopatra', '5.2', {'movie': 'Rating'}), ('Genres', 'Drama', {}), ('Genres', 'History', {}), ('Languages', 'English', {}), ('Cast', 'Helen Gardner', {}), ('Cast', 'Pearl Sindelar', {}), ('Cast', 'Miss Fielding', {}), ('Cast', 'Miss Robson', {}), ('Cast', 'Helene Costello', {}), ('Cast', 'Charles Sindelar', {})]\n",
      "\n",
      "[('Cleopatra', '1912-11-13', None), ('Cleopatra', 'Genres', None), ('Cleopatra', '100', None), ('Cleopatra', 'USA', None), ('Cleopatra', 'Languages', None), ('Cleopatra', 'Charles L. Gaskill', None), ('Cleopatra', 'Cast', None), ('Cleopatra', '5.2', None), ('Genres', 'Drama', None), ('Genres', 'History', None), ('Languages', 'English', None), ('Cast', 'Helen Gardner', None), ('Cast', 'Pearl Sindelar', None), ('Cast', 'Miss Fielding', None), ('Cast', 'Miss Robson', None), ('Cast', 'Helene Costello', None), ('Cast', 'Charles Sindelar', None)]\n",
      "g_nodes\n",
      "['Cleopatra', '1912-11-13', 'Genres', 'Drama', 'History', '100', 'USA', 'Languages', 'English', 'Charles L. Gaskill', 'Cast', 'Helen Gardner', 'Pearl Sindelar', 'Miss Fielding', 'Miss Robson', 'Helene Costello', 'Charles Sindelar', '5.2']\n"
     ]
    },
    {
     "ename": "AttributeError",
     "evalue": "'MultiDiGraph' object has no attribute 'info'",
     "output_type": "error",
     "traceback": [
      "\u001b[1;31m---------------------------------------------------------------------------\u001b[0m",
      "\u001b[1;31mAttributeError\u001b[0m                            Traceback (most recent call last)",
      "\u001b[1;32m<ipython-input-53-10285dcef5ea>\u001b[0m in \u001b[0;36m<module>\u001b[1;34m\u001b[0m\n\u001b[1;32m----> 1\u001b[1;33m \u001b[0mmovie_details\u001b[0m\u001b[1;33m(\u001b[0m\u001b[1;34m'Cleopatra'\u001b[0m\u001b[1;33m)\u001b[0m\u001b[1;33m\u001b[0m\u001b[1;33m\u001b[0m\u001b[0m\n\u001b[0m",
      "\u001b[1;32m<ipython-input-52-8815ab3cfa84>\u001b[0m in \u001b[0;36mmovie_details\u001b[1;34m(title)\u001b[0m\n\u001b[0;32m     85\u001b[0m     \u001b[0mprint\u001b[0m\u001b[1;33m(\u001b[0m\u001b[0mG\u001b[0m\u001b[1;33m.\u001b[0m\u001b[0mnodes\u001b[0m\u001b[1;33m(\u001b[0m\u001b[1;33m)\u001b[0m\u001b[1;33m)\u001b[0m\u001b[1;33m\u001b[0m\u001b[1;33m\u001b[0m\u001b[0m\n\u001b[0;32m     86\u001b[0m \u001b[1;33m\u001b[0m\u001b[0m\n\u001b[1;32m---> 87\u001b[1;33m     \u001b[0mprint\u001b[0m\u001b[1;33m(\u001b[0m\u001b[0mG\u001b[0m\u001b[1;33m.\u001b[0m\u001b[0minfo\u001b[0m\u001b[1;33m(\u001b[0m\u001b[1;33m)\u001b[0m\u001b[1;33m)\u001b[0m\u001b[1;33m\u001b[0m\u001b[1;33m\u001b[0m\u001b[0m\n\u001b[0m\u001b[0;32m     88\u001b[0m \u001b[1;33m\u001b[0m\u001b[0m\n\u001b[0;32m     89\u001b[0m \u001b[1;31m#         plt.figure(figsize=(25,25))\u001b[0m\u001b[1;33m\u001b[0m\u001b[1;33m\u001b[0m\u001b[1;33m\u001b[0m\u001b[0m\n",
      "\u001b[1;31mAttributeError\u001b[0m: 'MultiDiGraph' object has no attribute 'info'"
     ]
    }
   ],
   "source": [
    "movie_details('Cleopatra')"
   ]
  },
  {
   "cell_type": "code",
   "execution_count": 89,
   "id": "41661c61-9241-446e-9777-2d897b9d8566",
   "metadata": {
    "tags": []
   },
   "outputs": [
    {
     "ename": "NameError",
     "evalue": "name 'KnowledgeGraph' is not defined",
     "output_type": "error",
     "traceback": [
      "\u001b[1;31m---------------------------------------------------------------------------\u001b[0m",
      "\u001b[1;31mNameError\u001b[0m                                 Traceback (most recent call last)",
      "\u001b[1;32m<ipython-input-89-7196e8113572>\u001b[0m in \u001b[0;36m<module>\u001b[1;34m\u001b[0m\n\u001b[1;32m----> 1\u001b[1;33m \u001b[0mKG\u001b[0m \u001b[1;33m=\u001b[0m \u001b[0mKnowledgeGraph\u001b[0m\u001b[1;33m(\u001b[0m\u001b[1;33m)\u001b[0m\u001b[1;33m\u001b[0m\u001b[1;33m\u001b[0m\u001b[0m\n\u001b[0m\u001b[0;32m      2\u001b[0m \u001b[0mKG\u001b[0m\u001b[1;33m.\u001b[0m\u001b[0mmovie_details\u001b[0m\u001b[1;33m(\u001b[0m\u001b[0mmovie_name\u001b[0m\u001b[1;33m)\u001b[0m\u001b[1;33m\u001b[0m\u001b[1;33m\u001b[0m\u001b[0m\n",
      "\u001b[1;31mNameError\u001b[0m: name 'KnowledgeGraph' is not defined"
     ]
    }
   ],
   "source": [
    "KG = KnowledgeGraph()\n",
    "KG.movie_details(movie_name)"
   ]
  },
  {
   "cell_type": "code",
   "execution_count": 116,
   "id": "8f12722c-5895-4520-b987-cdc05a9d4697",
   "metadata": {},
   "outputs": [
    {
     "name": "stdout",
     "output_type": "stream",
     "text": [
      "C:\\Users\\LG\\anaconda3\\lib\\random.py\n"
     ]
    }
   ],
   "source": [
    "import inspect\n",
    "import random\n",
    "print(inspect.getfile(random))"
   ]
  },
  {
   "cell_type": "code",
   "execution_count": 1,
   "id": "95011ddf-7d7f-4754-b125-09d42ab55999",
   "metadata": {},
   "outputs": [
    {
     "name": "stdout",
     "output_type": "stream",
     "text": [
      "['C:\\\\Users\\\\LG\\\\Desktop\\\\github\\\\PURDUE-2023-FALL\\\\CNIT_483\\\\GroupProject', 'C:\\\\Users\\\\LG\\\\anaconda3\\\\python38.zip', 'C:\\\\Users\\\\LG\\\\anaconda3\\\\DLLs', 'C:\\\\Users\\\\LG\\\\anaconda3\\\\lib', 'C:\\\\Users\\\\LG\\\\anaconda3', '', 'C:\\\\Users\\\\LG\\\\anaconda3\\\\lib\\\\site-packages', 'C:\\\\Users\\\\LG\\\\anaconda3\\\\lib\\\\site-packages\\\\locket-0.2.1-py3.8.egg', 'C:\\\\Users\\\\LG\\\\anaconda3\\\\lib\\\\site-packages\\\\win32', 'C:\\\\Users\\\\LG\\\\anaconda3\\\\lib\\\\site-packages\\\\win32\\\\lib', 'C:\\\\Users\\\\LG\\\\anaconda3\\\\lib\\\\site-packages\\\\Pythonwin', 'C:\\\\Users\\\\LG\\\\anaconda3\\\\lib\\\\site-packages\\\\IPython\\\\extensions', 'C:\\\\Users\\\\LG\\\\.ipython']\n"
     ]
    }
   ],
   "source": [
    "import sys\n",
    "print(sys.path)"
   ]
  },
  {
   "cell_type": "code",
   "execution_count": 1,
   "id": "22257efc-11a4-4672-ab1b-0b1e7d2f2cc0",
   "metadata": {},
   "outputs": [],
   "source": [
    "import networkx as nx\n",
    "import pandas as pd\n",
    "import os\n",
    "\n",
    "import stellargraph as sg\n",
    "from stellargraph.mapper import FullBatchNodeGenerator\n",
    "from stellargraph.layer import GAT\n",
    "\n",
    "from tensorflow.keras import layers, optimizers, losses, metrics, Model\n",
    "from sklearn import preprocessing, feature_extraction, model_selection\n",
    "from stellargraph import datasets\n",
    "from IPython.display import display, HTML\n",
    "import matplotlib.pyplot as plt\n",
    "%matplotlib inline"
   ]
  },
  {
   "cell_type": "code",
   "execution_count": 2,
   "id": "c93a90e1-ef53-4ba8-bcbf-c97c57bfd374",
   "metadata": {},
   "outputs": [
    {
     "data": {
      "text/html": [
       "The MovieLens 100K dataset contains 100,000 ratings from 943 users on 1682 movies."
      ],
      "text/plain": [
       "<IPython.core.display.HTML object>"
      ]
     },
     "metadata": {},
     "output_type": "display_data"
    }
   ],
   "source": [
    "dataset = datasets.MovieLens()\n",
    "display(HTML(dataset.description))\n",
    "G, edges_with_ratings = dataset.load()"
   ]
  },
  {
   "cell_type": "code",
   "execution_count": 3,
   "id": "9f623705-3355-4fcb-8521-07ccb90f2e5a",
   "metadata": {},
   "outputs": [
    {
     "name": "stdout",
     "output_type": "stream",
     "text": [
      "StellarGraph: Undirected multigraph\n",
      " Nodes: 2625, Edges: 100000\n",
      "\n",
      " Node types:\n",
      "  movie: [1682]\n",
      "    Features: float32 vector, length 19\n",
      "    Edge types: movie-rating->user\n",
      "  user: [943]\n",
      "    Features: float32 vector, length 24\n",
      "    Edge types: user-rating->movie\n",
      "\n",
      " Edge types:\n",
      "    movie-rating->user: [100000]\n",
      "        Weights: all 1 (default)\n",
      "        Features: none\n"
     ]
    }
   ],
   "source": [
    "print(G.info())"
   ]
  },
  {
   "cell_type": "code",
   "execution_count": 4,
   "id": "82d74a04-e901-41ac-944f-3b5a57c39dda",
   "metadata": {},
   "outputs": [
    {
     "data": {
      "text/plain": [
       "{'movie_id', 'rating', 'user_id'}"
      ]
     },
     "execution_count": 4,
     "metadata": {},
     "output_type": "execute_result"
    }
   ],
   "source": [
    "set(edges_with_ratings)"
   ]
  },
  {
   "cell_type": "code",
   "execution_count": null,
   "id": "174c1e9b-9957-42bd-8b46-0f598488e980",
   "metadata": {},
   "outputs": [],
   "source": [
    "train_subjects, test_subjects = model_selection.train_test_split(\n",
    "    node_subjects, train_size=140, test_size=None, stratify=node_subjects\n",
    ")\n",
    "val_subjects, test_subjects = model_selection.train_test_split(\n",
    "    test_subjects, train_size=500, test_size=None, stratify=test_subjects\n",
    ")"
   ]
  },
  {
   "cell_type": "code",
   "execution_count": 14,
   "id": "d7d6504b-b559-4254-806c-e0cee11e54e4",
   "metadata": {},
   "outputs": [],
   "source": [
    "batch_size = 200\n",
    "epochs = 20\n",
    "# Use 70% of edges for training, the rest for testing:\n",
    "train_size = 0.7\n",
    "test_size = 0.3"
   ]
  },
  {
   "cell_type": "code",
   "execution_count": 15,
   "id": "57303760-7629-40c9-acc4-f95d6a769860",
   "metadata": {},
   "outputs": [],
   "source": [
    "edges_train, edges_test = model_selection.train_test_split(\n",
    "    edges_with_ratings, train_size=train_size, test_size=test_size\n",
    ")\n",
    "\n",
    "edgelist_train = list(edges_train[[\"user_id\", \"movie_id\"]].itertuples(index=False))\n",
    "edgelist_test = list(edges_test[[\"user_id\", \"movie_id\"]].itertuples(index=False))\n",
    "\n",
    "labels_train = edges_train[\"rating\"]\n",
    "labels_test = edges_test[\"rating\"]"
   ]
  },
  {
   "cell_type": "code",
   "execution_count": 16,
   "id": "c21cd989-1476-4983-a138-9bdcb7051e2b",
   "metadata": {},
   "outputs": [],
   "source": [
    "num_samples = [8, 4]"
   ]
  },
  {
   "cell_type": "code",
   "execution_count": null,
   "id": "08cc78fc-e8ea-48b6-bb7f-38451af4214e",
   "metadata": {},
   "outputs": [],
   "source": [
    "from collections import Counter\n",
    "\n",
    "Counter(train_subjects)"
   ]
  },
  {
   "cell_type": "code",
   "execution_count": 11,
   "id": "64a4aad5-999a-4098-9697-cafad719f972",
   "metadata": {},
   "outputs": [],
   "source": [
    "target_encoding = preprocessing.LabelBinarizer()\n",
    "\n",
    "train_targets = target_encoding.fit_transform(train_subjects)\n",
    "val_targets = target_encoding.transform(val_subjects)\n",
    "test_targets = target_encoding.transform(test_subjects)"
   ]
  },
  {
   "cell_type": "code",
   "execution_count": 12,
   "id": "7840d7da-2741-41ce-ad2b-9413c2c3c47c",
   "metadata": {},
   "outputs": [],
   "source": [
    "generator = FullBatchNodeGenerator(G, method=\"gat\")"
   ]
  },
  {
   "cell_type": "code",
   "execution_count": 13,
   "id": "461da18d-c780-47d7-b920-1af58a994550",
   "metadata": {},
   "outputs": [],
   "source": [
    "train_gen = generator.flow(train_subjects.index, train_targets)"
   ]
  },
  {
   "cell_type": "code",
   "execution_count": 14,
   "id": "e7c38e29-3287-4932-8cc7-b62d9e111dd8",
   "metadata": {},
   "outputs": [],
   "source": [
    "gat = GAT(\n",
    "    layer_sizes=[8, train_targets.shape[1]],\n",
    "    activations=[\"elu\", \"softmax\"],\n",
    "    attn_heads=8,\n",
    "    generator=generator,\n",
    "    in_dropout=0.5,\n",
    "    attn_dropout=0.5,\n",
    "    normalize=None,\n",
    ")"
   ]
  },
  {
   "cell_type": "code",
   "execution_count": 15,
   "id": "ad995b34-ebd6-43d2-9bf6-a83566ae8b3f",
   "metadata": {},
   "outputs": [],
   "source": [
    "x_inp, predictions = gat.in_out_tensors()"
   ]
  },
  {
   "cell_type": "code",
   "execution_count": 16,
   "id": "44cbd7a8-18bd-4f3f-a665-78eec749bf6a",
   "metadata": {},
   "outputs": [
    {
     "name": "stderr",
     "output_type": "stream",
     "text": [
      "C:\\Users\\LG\\anaconda3\\lib\\site-packages\\keras\\optimizer_v2\\adam.py:105: UserWarning: The `lr` argument is deprecated, use `learning_rate` instead.\n",
      "  super(Adam, self).__init__(name, **kwargs)\n"
     ]
    }
   ],
   "source": [
    "model = Model(inputs=x_inp, outputs=predictions)\n",
    "model.compile(\n",
    "    optimizer=optimizers.Adam(lr=0.005),\n",
    "    loss=losses.categorical_crossentropy,\n",
    "    metrics=[\"acc\"],\n",
    ")"
   ]
  },
  {
   "cell_type": "code",
   "execution_count": 17,
   "id": "95001fb0-6d0f-4b6a-b475-82d13dda5d1d",
   "metadata": {},
   "outputs": [],
   "source": [
    "val_gen = generator.flow(val_subjects.index, val_targets)"
   ]
  },
  {
   "cell_type": "code",
   "execution_count": 18,
   "id": "b9c997f4-d693-4b0b-8691-e8b4e22653c5",
   "metadata": {},
   "outputs": [],
   "source": [
    "from tensorflow.keras.callbacks import EarlyStopping, ModelCheckpoint\n",
    "\n",
    "if not os.path.isdir(\"logs\"):\n",
    "    os.makedirs(\"logs\")\n",
    "es_callback = EarlyStopping(\n",
    "    monitor=\"val_acc\", patience=20\n",
    ")  # patience is the number of epochs to wait before early stopping in case of no further improvement\n",
    "mc_callback = ModelCheckpoint(\n",
    "    \"logs/best_model.h5\", monitor=\"val_acc\", save_best_only=True, save_weights_only=True\n",
    ")"
   ]
  },
  {
   "cell_type": "code",
   "execution_count": 20,
   "id": "e09597b1-0c09-4b6f-917a-c2fcfae1785e",
   "metadata": {},
   "outputs": [
    {
     "name": "stdout",
     "output_type": "stream",
     "text": [
      "Epoch 1/50\n",
      "1/1 - 6s - loss: 1.9300 - acc: 0.1714 - val_loss: 1.8390 - val_acc: 0.3760 - 6s/epoch - 6s/step\n",
      "Epoch 2/50\n",
      "1/1 - 0s - loss: 1.8351 - acc: 0.3571 - val_loss: 1.7337 - val_acc: 0.3900 - 424ms/epoch - 424ms/step\n",
      "Epoch 3/50\n",
      "1/1 - 0s - loss: 1.7236 - acc: 0.4429 - val_loss: 1.6442 - val_acc: 0.3940 - 286ms/epoch - 286ms/step\n",
      "Epoch 4/50\n",
      "1/1 - 0s - loss: 1.6200 - acc: 0.4071 - val_loss: 1.5662 - val_acc: 0.4300 - 369ms/epoch - 369ms/step\n",
      "Epoch 5/50\n",
      "1/1 - 0s - loss: 1.5342 - acc: 0.4857 - val_loss: 1.4960 - val_acc: 0.4700 - 499ms/epoch - 499ms/step\n",
      "Epoch 6/50\n",
      "1/1 - 0s - loss: 1.4674 - acc: 0.4786 - val_loss: 1.4312 - val_acc: 0.5100 - 353ms/epoch - 353ms/step\n",
      "Epoch 7/50\n",
      "1/1 - 0s - loss: 1.3657 - acc: 0.5643 - val_loss: 1.3694 - val_acc: 0.5640 - 299ms/epoch - 299ms/step\n",
      "Epoch 8/50\n",
      "1/1 - 0s - loss: 1.3659 - acc: 0.5286 - val_loss: 1.3122 - val_acc: 0.6220 - 283ms/epoch - 283ms/step\n",
      "Epoch 9/50\n",
      "1/1 - 0s - loss: 1.1523 - acc: 0.6714 - val_loss: 1.2584 - val_acc: 0.6660 - 317ms/epoch - 317ms/step\n",
      "Epoch 10/50\n",
      "1/1 - 0s - loss: 1.1177 - acc: 0.6857 - val_loss: 1.2084 - val_acc: 0.7120 - 324ms/epoch - 324ms/step\n",
      "Epoch 11/50\n",
      "1/1 - 0s - loss: 1.0653 - acc: 0.7286 - val_loss: 1.1623 - val_acc: 0.7360 - 341ms/epoch - 341ms/step\n",
      "Epoch 12/50\n",
      "1/1 - 0s - loss: 0.9846 - acc: 0.7143 - val_loss: 1.1195 - val_acc: 0.7420 - 399ms/epoch - 399ms/step\n",
      "Epoch 13/50\n",
      "1/1 - 0s - loss: 0.9900 - acc: 0.7143 - val_loss: 1.0801 - val_acc: 0.7480 - 367ms/epoch - 367ms/step\n",
      "Epoch 14/50\n",
      "1/1 - 0s - loss: 0.9937 - acc: 0.7357 - val_loss: 1.0427 - val_acc: 0.7460 - 279ms/epoch - 279ms/step\n",
      "Epoch 15/50\n",
      "1/1 - 0s - loss: 0.8860 - acc: 0.7786 - val_loss: 1.0066 - val_acc: 0.7500 - 305ms/epoch - 305ms/step\n",
      "Epoch 16/50\n",
      "1/1 - 0s - loss: 0.9552 - acc: 0.7286 - val_loss: 0.9727 - val_acc: 0.7520 - 303ms/epoch - 303ms/step\n",
      "Epoch 17/50\n",
      "1/1 - 0s - loss: 0.8615 - acc: 0.7786 - val_loss: 0.9412 - val_acc: 0.7580 - 346ms/epoch - 346ms/step\n",
      "Epoch 18/50\n",
      "1/1 - 0s - loss: 0.7826 - acc: 0.7857 - val_loss: 0.9115 - val_acc: 0.7580 - 264ms/epoch - 264ms/step\n",
      "Epoch 19/50\n",
      "1/1 - 0s - loss: 0.6987 - acc: 0.8286 - val_loss: 0.8840 - val_acc: 0.7680 - 354ms/epoch - 354ms/step\n",
      "Epoch 20/50\n",
      "1/1 - 0s - loss: 0.7161 - acc: 0.8357 - val_loss: 0.8589 - val_acc: 0.7740 - 314ms/epoch - 314ms/step\n",
      "Epoch 21/50\n",
      "1/1 - 0s - loss: 0.8196 - acc: 0.7786 - val_loss: 0.8355 - val_acc: 0.7840 - 326ms/epoch - 326ms/step\n",
      "Epoch 22/50\n",
      "1/1 - 0s - loss: 0.7272 - acc: 0.8000 - val_loss: 0.8147 - val_acc: 0.7900 - 352ms/epoch - 352ms/step\n",
      "Epoch 23/50\n",
      "1/1 - 0s - loss: 0.7621 - acc: 0.7857 - val_loss: 0.7957 - val_acc: 0.7940 - 426ms/epoch - 426ms/step\n",
      "Epoch 24/50\n",
      "1/1 - 0s - loss: 0.7846 - acc: 0.7571 - val_loss: 0.7779 - val_acc: 0.7940 - 306ms/epoch - 306ms/step\n",
      "Epoch 25/50\n",
      "1/1 - 1s - loss: 0.6817 - acc: 0.8071 - val_loss: 0.7629 - val_acc: 0.8000 - 516ms/epoch - 516ms/step\n",
      "Epoch 26/50\n",
      "1/1 - 0s - loss: 0.7323 - acc: 0.7929 - val_loss: 0.7497 - val_acc: 0.8020 - 279ms/epoch - 279ms/step\n",
      "Epoch 27/50\n",
      "1/1 - 0s - loss: 0.6633 - acc: 0.8000 - val_loss: 0.7382 - val_acc: 0.8040 - 249ms/epoch - 249ms/step\n",
      "Epoch 28/50\n",
      "1/1 - 0s - loss: 0.6664 - acc: 0.7571 - val_loss: 0.7285 - val_acc: 0.8060 - 300ms/epoch - 300ms/step\n",
      "Epoch 29/50\n",
      "1/1 - 0s - loss: 0.6449 - acc: 0.8214 - val_loss: 0.7204 - val_acc: 0.8060 - 286ms/epoch - 286ms/step\n",
      "Epoch 30/50\n",
      "1/1 - 0s - loss: 0.5529 - acc: 0.8571 - val_loss: 0.7135 - val_acc: 0.8000 - 279ms/epoch - 279ms/step\n",
      "Epoch 31/50\n",
      "1/1 - 0s - loss: 0.5510 - acc: 0.8571 - val_loss: 0.7078 - val_acc: 0.8040 - 276ms/epoch - 276ms/step\n",
      "Epoch 32/50\n",
      "1/1 - 0s - loss: 0.6068 - acc: 0.8214 - val_loss: 0.7041 - val_acc: 0.8020 - 320ms/epoch - 320ms/step\n",
      "Epoch 33/50\n",
      "1/1 - 0s - loss: 0.5934 - acc: 0.8357 - val_loss: 0.7005 - val_acc: 0.8000 - 246ms/epoch - 246ms/step\n",
      "Epoch 34/50\n",
      "1/1 - 0s - loss: 0.5538 - acc: 0.8286 - val_loss: 0.6971 - val_acc: 0.7980 - 263ms/epoch - 263ms/step\n",
      "Epoch 35/50\n",
      "1/1 - 0s - loss: 0.5682 - acc: 0.8357 - val_loss: 0.6935 - val_acc: 0.7980 - 254ms/epoch - 254ms/step\n",
      "Epoch 36/50\n",
      "1/1 - 0s - loss: 0.5626 - acc: 0.8500 - val_loss: 0.6897 - val_acc: 0.8000 - 284ms/epoch - 284ms/step\n",
      "Epoch 37/50\n",
      "1/1 - 0s - loss: 0.5314 - acc: 0.8643 - val_loss: 0.6865 - val_acc: 0.7960 - 285ms/epoch - 285ms/step\n",
      "Epoch 38/50\n",
      "1/1 - 0s - loss: 0.6484 - acc: 0.8000 - val_loss: 0.6847 - val_acc: 0.8000 - 267ms/epoch - 267ms/step\n",
      "Epoch 39/50\n",
      "1/1 - 0s - loss: 0.4278 - acc: 0.8857 - val_loss: 0.6838 - val_acc: 0.7980 - 310ms/epoch - 310ms/step\n",
      "Epoch 40/50\n",
      "1/1 - 0s - loss: 0.4844 - acc: 0.9000 - val_loss: 0.6815 - val_acc: 0.8060 - 290ms/epoch - 290ms/step\n",
      "Epoch 41/50\n",
      "1/1 - 1s - loss: 0.5098 - acc: 0.8786 - val_loss: 0.6791 - val_acc: 0.8040 - 665ms/epoch - 665ms/step\n",
      "Epoch 42/50\n",
      "1/1 - 0s - loss: 0.5081 - acc: 0.8571 - val_loss: 0.6771 - val_acc: 0.8040 - 350ms/epoch - 350ms/step\n",
      "Epoch 43/50\n",
      "1/1 - 0s - loss: 0.5210 - acc: 0.8571 - val_loss: 0.6757 - val_acc: 0.8040 - 294ms/epoch - 294ms/step\n",
      "Epoch 44/50\n",
      "1/1 - 0s - loss: 0.4337 - acc: 0.8929 - val_loss: 0.6743 - val_acc: 0.8020 - 275ms/epoch - 275ms/step\n",
      "Epoch 45/50\n",
      "1/1 - 0s - loss: 0.4879 - acc: 0.8571 - val_loss: 0.6727 - val_acc: 0.8020 - 303ms/epoch - 303ms/step\n",
      "Epoch 46/50\n",
      "1/1 - 0s - loss: 0.4587 - acc: 0.8714 - val_loss: 0.6717 - val_acc: 0.8020 - 280ms/epoch - 280ms/step\n",
      "Epoch 47/50\n",
      "1/1 - 0s - loss: 0.3939 - acc: 0.9214 - val_loss: 0.6702 - val_acc: 0.8000 - 306ms/epoch - 306ms/step\n",
      "Epoch 48/50\n",
      "1/1 - 0s - loss: 0.4760 - acc: 0.8714 - val_loss: 0.6686 - val_acc: 0.8040 - 330ms/epoch - 330ms/step\n"
     ]
    }
   ],
   "source": [
    "history = model.fit(\n",
    "    train_gen,\n",
    "    epochs=50,\n",
    "    validation_data=val_gen,\n",
    "    verbose=2,\n",
    "    shuffle=False,  # this should be False, since shuffling data means shuffling the whole graph\n",
    "    callbacks=[es_callback, mc_callback],\n",
    ")"
   ]
  },
  {
   "cell_type": "code",
   "execution_count": null,
   "id": "e999b8a8-3360-43ed-a3de-5133da90ea47",
   "metadata": {},
   "outputs": [],
   "source": []
  }
 ],
 "metadata": {
  "kernelspec": {
   "display_name": "Python 3",
   "language": "python",
   "name": "python3"
  },
  "language_info": {
   "codemirror_mode": {
    "name": "ipython",
    "version": 3
   },
   "file_extension": ".py",
   "mimetype": "text/x-python",
   "name": "python",
   "nbconvert_exporter": "python",
   "pygments_lexer": "ipython3",
   "version": "3.8.8"
  }
 },
 "nbformat": 4,
 "nbformat_minor": 5
}
