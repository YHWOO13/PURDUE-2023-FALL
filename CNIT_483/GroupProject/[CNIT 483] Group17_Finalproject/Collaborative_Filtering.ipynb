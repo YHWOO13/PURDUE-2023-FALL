{
 "cells": [
  {
   "cell_type": "markdown",
   "metadata": {
    "id": "o6Byx-X4f4Uy"
   },
   "source": [
    "# Yoonhyuck Woo, Rishika Thorat / Purdue University_Computer and Information Technology\n",
    "# Final Project Title: Movie Recommendation System\n",
    "# Professor: Jin Wei-Kocsis, Ph.D."
   ]
  },
  {
   "cell_type": "markdown",
   "metadata": {},
   "source": [
    "-reference: https://calvinfeng.gitbook.io/machine-learning-notebook/supervised-learning/recommender/neural_collaborative_filtering"
   ]
  },
  {
   "cell_type": "markdown",
   "metadata": {
    "colab": {
     "base_uri": "https://localhost:8080/"
    },
    "id": "evEo4-I6Y_Fy",
    "outputId": "9f1d0d71-034f-43ec-852d-192679f207a6"
   },
   "source": [
    "from google.colab import drive\n",
    "drive.mount('/content/drive')"
   ]
  },
  {
   "cell_type": "code",
   "execution_count": null,
   "metadata": {
    "id": "YoQgtzBCZqPH"
   },
   "outputs": [],
   "source": [
    "import pandas as pd\n",
    "from sklearn.model_selection import train_test_split\n",
    "from tensorflow.keras.models import Model\n",
    "from tensorflow.keras.layers import Input, Embedding, Flatten, Dot, Concatenate, Dense\n",
    "from sklearn.feature_extraction.text import TfidfVectorizer\n",
    "from sklearn.metrics.pairwise import linear_kernel\n",
    "import matplotlib\n",
    "import matplotlib.pyplot as plt\n",
    "import os\n",
    "import tensorflow as tf\n",
    "import numpy as np"
   ]
  },
  {
   "cell_type": "code",
   "execution_count": null,
   "metadata": {
    "colab": {
     "base_uri": "https://localhost:8080/"
    },
    "id": "3jf3SV3abAEk",
    "outputId": "8453440b-d398-43d0-d9d6-c558c1475866"
   },
   "outputs": [
    {
     "name": "stdout",
     "output_type": "stream",
     "text": [
      "Found GPU at: /device:GPU:0\n"
     ]
    }
   ],
   "source": [
    "device_name = tf.test.gpu_device_name()\n",
    "if device_name != '/device:GPU:0':\n",
    "  raise SystemError('GPU device not found')\n",
    "print('Found GPU at: {}'.format(device_name))"
   ]
  },
  {
   "cell_type": "markdown",
   "metadata": {
    "id": "mvz_WYYPTAyI"
   },
   "source": [
    "# Data"
   ]
  },
  {
   "cell_type": "code",
   "execution_count": null,
   "metadata": {
    "id": "iTQ3cH2MZs1g"
   },
   "outputs": [],
   "source": [
    "movies = pd.read_csv('drive/MyDrive/ml-25m/movies.csv')\n",
    "ratings = pd.read_csv('drive/MyDrive/ml-25m/ratings.csv')\n",
    "tags = pd.read_csv('drive/MyDrive/ml-25m/tags.csv')\n",
    "\n",
    "data = pd.merge(ratings, movies, on='movieId')"
   ]
  },
  {
   "cell_type": "markdown",
   "metadata": {
    "id": "stc1ty9igUj_"
   },
   "source": [
    "# New way of calling Dataset"
   ]
  },
  {
   "cell_type": "code",
   "execution_count": null,
   "metadata": {
    "id": "uX-QXTajUGST"
   },
   "outputs": [],
   "source": [
    "train_data, test_data = train_test_split(data, test_size=0.2, random_state=42)"
   ]
  },
  {
   "cell_type": "markdown",
   "metadata": {
    "id": "KtxENz_zVCtt"
   },
   "source": [
    "# Neural Collaborative Model"
   ]
  },
  {
   "cell_type": "code",
   "execution_count": null,
   "metadata": {
    "id": "NZmgPYeOUAA1"
   },
   "outputs": [],
   "source": [
    "def CF_model(input_data):\n",
    "  data = input_data\n",
    "  user_embed_dim = 32\n",
    "  movie_embed_dim = 32\n",
    "\n",
    "  # User and Movie Input Layers\n",
    "  user_input = Input(shape=(1,), name='user_input')\n",
    "  movie_input = Input(shape=(1,), name='movie_input')\n",
    "\n",
    "  # User and Movie Embedding Layers\n",
    "  user_embedding = Embedding(input_dim=data['userId'].max()+1, output_dim=user_embed_dim, input_length=1)(user_input)\n",
    "  movie_embedding = Embedding(input_dim=data['movieId'].max()+1, output_dim=movie_embed_dim, input_length=1)(movie_input)\n",
    "\n",
    "  # Flatten the Embedding Layers\n",
    "  user_flat = Flatten()(user_embedding)\n",
    "  movie_flat = Flatten()(movie_embedding)\n",
    "\n",
    "  # Concatenate User and Movie Embeddings\n",
    "  # concat = Concatenate()([user_flat, movie_flat])\n",
    "  concat = Dot(axes=1)([user_flat, movie_flat])\n",
    "\n",
    "  # Dense Layer\n",
    "  dense1 = Dense(130, activation='relu')(concat)\n",
    "\n",
    "  # Output Layer\n",
    "  output = Dense(1)(dense1)\n",
    "\n",
    "  # Model\n",
    "  model = Model(inputs=[user_input, movie_input], outputs=output)\n",
    "  model.compile(optimizer='adam', loss='mean_squared_error', metrics=['accuracy'])\n",
    "\n",
    "  return model"
   ]
  },
  {
   "cell_type": "markdown",
   "metadata": {
    "id": "RKIT6Q5gZmbk"
   },
   "source": [
    "# check Concatenate and Dot"
   ]
  },
  {
   "cell_type": "code",
   "execution_count": null,
   "metadata": {
    "colab": {
     "base_uri": "https://localhost:8080/"
    },
    "id": "p-iCAYGlY8zV",
    "outputId": "53b71896-48fa-47dd-efc2-0d93ea3a964f"
   },
   "outputs": [
    {
     "name": "stdout",
     "output_type": "stream",
     "text": [
      "(None, 32)\n",
      "(None, 64)\n",
      "(None, 1)\n"
     ]
    }
   ],
   "source": [
    "# data = input_data\n",
    "user_embed_dim = 32\n",
    "movie_embed_dim = 32\n",
    "\n",
    "# User and Movie Input Layers\n",
    "user_input = Input(shape=(1,), name='user_input')\n",
    "movie_input = Input(shape=(1,), name='movie_input')\n",
    "\n",
    "# User and Movie Embedding Layers\n",
    "user_embedding = Embedding(input_dim=data['userId'].max()+1, output_dim=user_embed_dim, input_length=1)(user_input)\n",
    "movie_embedding = Embedding(input_dim=data['movieId'].max()+1, output_dim=movie_embed_dim, input_length=1)(movie_input)\n",
    "\n",
    "# Flatten the Embedding Layers\n",
    "user_flat = Flatten()(user_embedding)\n",
    "movie_flat = Flatten()(movie_embedding)\n",
    "\n",
    "concat = Concatenate()([user_flat, movie_flat])\n",
    "concat2 = Dot(axes=1)([user_flat, movie_flat])\n",
    "\n",
    "\n",
    "print(user_flat.shape)\n",
    "print(concat.shape)\n",
    "print(concat2.shape)"
   ]
  },
  {
   "cell_type": "markdown",
   "metadata": {
    "id": "E5GKZC-pf4sY"
   },
   "source": [
    "# Train"
   ]
  },
  {
   "cell_type": "code",
   "execution_count": null,
   "metadata": {
    "id": "QFmpM_JVUPz9"
   },
   "outputs": [],
   "source": [
    "model = CF_model(data)\n",
    "checkpoint_path = \"/content/drive/MyDrive/CF_training4/ckpt-{epoch:03d}.ckpt\"\n",
    "checkpoint_dir = os.path.dirname(checkpoint_path)\n",
    "batch_size = 64\n",
    "# Create a callback that saves the model's weights\n",
    "cp_callback = tf.keras.callbacks.ModelCheckpoint(filepath=checkpoint_path,\n",
    "                                                 save_weights_only=True,\n",
    "                                                 verbose=0,\n",
    "                                                 )\n"
   ]
  },
  {
   "cell_type": "code",
   "execution_count": null,
   "metadata": {
    "id": "SCa2ZfvzUR8G"
   },
   "outputs": [],
   "source": [
    "model.save_weights(checkpoint_path.format(epoch=0))"
   ]
  },
  {
   "cell_type": "code",
   "execution_count": null,
   "metadata": {
    "colab": {
     "background_save": true,
     "base_uri": "https://localhost:8080/"
    },
    "id": "mbGnXxGdZ9AR",
    "outputId": "ef0e8bcd-0024-4d17-b9af-08b554bddae9"
   },
   "outputs": [
    {
     "name": "stdout",
     "output_type": "stream",
     "text": [
      "Epoch 1/33\n",
      "281252/281252 [==============================] - 1110s 4ms/step - loss: 0.9922 - accuracy: 0.0310 - val_loss: 0.9543 - val_accuracy: 0.0311\n",
      "Epoch 2/33\n",
      "281252/281252 [==============================] - 1106s 4ms/step - loss: 0.9031 - accuracy: 0.0310 - val_loss: 0.9157 - val_accuracy: 0.0311\n",
      "Epoch 3/33\n",
      "281252/281252 [==============================] - 1095s 4ms/step - loss: 0.8521 - accuracy: 0.0310 - val_loss: 0.8936 - val_accuracy: 0.0311\n",
      "Epoch 4/33\n",
      "281252/281252 [==============================] - 1095s 4ms/step - loss: 0.8136 - accuracy: 0.0310 - val_loss: 0.8853 - val_accuracy: 0.0309\n",
      "Epoch 5/33\n",
      "281252/281252 [==============================] - 1128s 4ms/step - loss: 0.7813 - accuracy: 0.0310 - val_loss: 0.8705 - val_accuracy: 0.0311\n",
      "Epoch 6/33\n",
      "281252/281252 [==============================] - 1124s 4ms/step - loss: 0.7528 - accuracy: 0.0310 - val_loss: 0.8696 - val_accuracy: 0.0311\n",
      "Epoch 7/33\n",
      "281252/281252 [==============================] - 1103s 4ms/step - loss: 0.7270 - accuracy: 0.0310 - val_loss: 0.8607 - val_accuracy: 0.0311\n",
      "Epoch 8/33\n",
      "281252/281252 [==============================] - 1105s 4ms/step - loss: 0.7047 - accuracy: 0.0310 - val_loss: 0.8644 - val_accuracy: 0.0311\n",
      "Epoch 9/33\n",
      "281252/281252 [==============================] - 1102s 4ms/step - loss: 0.6855 - accuracy: 0.0310 - val_loss: 0.8645 - val_accuracy: 0.0311\n",
      "Epoch 10/33\n",
      "281252/281252 [==============================] - 1106s 4ms/step - loss: 0.6690 - accuracy: 0.0310 - val_loss: 0.8621 - val_accuracy: 0.0311\n",
      "Epoch 11/33\n",
      "281252/281252 [==============================] - 1105s 4ms/step - loss: 0.6547 - accuracy: 0.0310 - val_loss: 0.8692 - val_accuracy: 0.0309\n",
      "Epoch 12/33\n",
      "281252/281252 [==============================] - 1104s 4ms/step - loss: 0.6423 - accuracy: 0.0310 - val_loss: 0.8641 - val_accuracy: 0.0311\n",
      "Epoch 13/33\n",
      "281252/281252 [==============================] - 1104s 4ms/step - loss: 0.6312 - accuracy: 0.0310 - val_loss: 0.8656 - val_accuracy: 0.0311\n",
      "Epoch 14/33\n",
      "281252/281252 [==============================] - 1114s 4ms/step - loss: 0.6215 - accuracy: 0.0310 - val_loss: 0.8648 - val_accuracy: 0.0311\n",
      "Epoch 15/33\n",
      "281252/281252 [==============================] - 1107s 4ms/step - loss: 0.6127 - accuracy: 0.0310 - val_loss: 0.8685 - val_accuracy: 0.0311\n",
      "Epoch 16/33\n",
      "281252/281252 [==============================] - 1110s 4ms/step - loss: 0.6050 - accuracy: 0.0310 - val_loss: 0.8720 - val_accuracy: 0.0311\n",
      "Epoch 17/33\n",
      "281252/281252 [==============================] - 1123s 4ms/step - loss: 0.5979 - accuracy: 0.0310 - val_loss: 0.8762 - val_accuracy: 0.0311\n",
      "Epoch 18/33\n",
      "281252/281252 [==============================] - 1152s 4ms/step - loss: 0.5914 - accuracy: 0.0310 - val_loss: 0.8744 - val_accuracy: 0.0311\n",
      "Epoch 19/33\n",
      "281252/281252 [==============================] - 1119s 4ms/step - loss: 0.5855 - accuracy: 0.0310 - val_loss: 0.8838 - val_accuracy: 0.0310\n",
      "Epoch 20/33\n",
      "281252/281252 [==============================] - 1111s 4ms/step - loss: 0.5801 - accuracy: 0.0310 - val_loss: 0.8993 - val_accuracy: 0.0305\n",
      "Epoch 21/33\n",
      "281252/281252 [==============================] - 1105s 4ms/step - loss: 0.5752 - accuracy: 0.0310 - val_loss: 0.8780 - val_accuracy: 0.0311\n",
      "Epoch 22/33\n",
      "281252/281252 [==============================] - 1097s 4ms/step - loss: 0.5705 - accuracy: 0.0310 - val_loss: 0.8917 - val_accuracy: 0.0310\n",
      "Epoch 23/33\n",
      "281252/281252 [==============================] - 1100s 4ms/step - loss: 0.5663 - accuracy: 0.0310 - val_loss: 0.8958 - val_accuracy: 0.0310\n",
      "Epoch 24/33\n",
      "281252/281252 [==============================] - 1115s 4ms/step - loss: 0.5623 - accuracy: 0.0310 - val_loss: 0.8905 - val_accuracy: 0.0311\n",
      "Epoch 25/33\n",
      "281252/281252 [==============================] - 1112s 4ms/step - loss: 0.5587 - accuracy: 0.0310 - val_loss: 0.8930 - val_accuracy: 0.0310\n",
      "Epoch 26/33\n",
      "281252/281252 [==============================] - 1094s 4ms/step - loss: 0.5552 - accuracy: 0.0310 - val_loss: 0.8842 - val_accuracy: 0.0311\n",
      "Epoch 27/33\n",
      "281252/281252 [==============================] - 1089s 4ms/step - loss: 0.5518 - accuracy: 0.0310 - val_loss: 0.8996 - val_accuracy: 0.0308\n",
      "Epoch 28/33\n",
      "281252/281252 [==============================] - 1090s 4ms/step - loss: 0.5488 - accuracy: 0.0310 - val_loss: 0.8864 - val_accuracy: 0.0311\n",
      "Epoch 29/33\n",
      "281252/281252 [==============================] - 1086s 4ms/step - loss: 0.5459 - accuracy: 0.0310 - val_loss: 0.8937 - val_accuracy: 0.0311\n",
      "Epoch 30/33\n",
      "281252/281252 [==============================] - 1093s 4ms/step - loss: 0.5431 - accuracy: 0.0310 - val_loss: 0.8944 - val_accuracy: 0.0310\n",
      "Epoch 31/33\n",
      "281252/281252 [==============================] - 1076s 4ms/step - loss: 0.5406 - accuracy: 0.0310 - val_loss: 0.8991 - val_accuracy: 0.0311\n",
      "Epoch 32/33\n",
      "281252/281252 [==============================] - 1098s 4ms/step - loss: 0.5379 - accuracy: 0.0310 - val_loss: 0.8987 - val_accuracy: 0.0311\n",
      "Epoch 33/33\n",
      "281252/281252 [==============================] - 1079s 4ms/step - loss: 0.5357 - accuracy: 0.0310 - val_loss: 0.9049 - val_accuracy: 0.0310\n"
     ]
    }
   ],
   "source": [
    "# Train the Collaborative Filtering Model\n",
    "with tf.device('/device:GPU:0'):\n",
    "  history = model.fit(\n",
    "    [train_data['userId'].values.reshape(-1, 1), train_data['movieId'].values.reshape(-1, 1)],\n",
    "    train_data['rating'].values,\n",
    "    epochs=33,\n",
    "    batch_size=batch_size,  # Add this line to specify batch size\n",
    "    validation_split=0.1,\n",
    "    callbacks=[cp_callback],\n",
    "    verbose = 1\n",
    ")"
   ]
  },
  {
   "cell_type": "code",
   "execution_count": null,
   "metadata": {
    "colab": {
     "base_uri": "https://localhost:8080/"
    },
    "id": "OGUnzsmlhs_X",
    "outputId": "d278977d-3baa-48ca-b8b5-ebb4c61a13a6"
   },
   "outputs": [
    {
     "name": "stdout",
     "output_type": "stream",
     "text": [
      "156251/156251 [==============================] - 243s 2ms/step\n"
     ]
    },
    {
     "data": {
      "text/plain": [
       "0.8442555111022555"
      ]
     },
     "execution_count": 39,
     "metadata": {},
     "output_type": "execute_result"
    }
   ],
   "source": [
    "from sklearn.metrics import mean_absolute_error\n",
    "\n",
    "y_hat = np.round(model.predict([test_data['userId'].values.reshape(-1, 1), test_data['movieId'].values.reshape(-1, 1)]\n",
    "), decimals=2)\n",
    "y_true = test_data['rating'].values\n",
    "mean_absolute_error(y_true, y_hat)"
   ]
  },
  {
   "cell_type": "code",
   "execution_count": null,
   "metadata": {
    "colab": {
     "base_uri": "https://localhost:8080/"
    },
    "id": "hgOWzb2JmmLf",
    "outputId": "4d9fb661-f1a7-471a-e34e-30b37d9babc6"
   },
   "outputs": [
    {
     "name": "stdout",
     "output_type": "stream",
     "text": [
      "[[3.48]\n",
      " [3.48]\n",
      " [3.48]\n",
      " ...\n",
      " [3.48]\n",
      " [3.48]\n",
      " [3.48]]\n"
     ]
    }
   ],
   "source": [
    "print(y_hat)"
   ]
  },
  {
   "cell_type": "code",
   "execution_count": null,
   "metadata": {
    "colab": {
     "base_uri": "https://localhost:8080/",
     "height": 683
    },
    "id": "SvhHDMNyVXVo",
    "outputId": "4969b107-e4ec-467e-e865-ff790b18d31a"
   },
   "outputs": [
    {
     "ename": "NameError",
     "evalue": "ignored",
     "output_type": "error",
     "traceback": [
      "\u001b[0;31m---------------------------------------------------------------------------\u001b[0m",
      "\u001b[0;31mNameError\u001b[0m                                 Traceback (most recent call last)",
      "\u001b[0;32m<ipython-input-30-fcdfd510ae0e>\u001b[0m in \u001b[0;36m<cell line: 10>\u001b[0;34m()\u001b[0m\n\u001b[1;32m      8\u001b[0m \u001b[0mplt\u001b[0m\u001b[0;34m.\u001b[0m\u001b[0mlegend\u001b[0m\u001b[0;34m(\u001b[0m\u001b[0mloc\u001b[0m\u001b[0;34m=\u001b[0m\u001b[0;34m'lower right'\u001b[0m\u001b[0;34m)\u001b[0m\u001b[0;34m\u001b[0m\u001b[0;34m\u001b[0m\u001b[0m\n\u001b[1;32m      9\u001b[0m \u001b[0;34m\u001b[0m\u001b[0m\n\u001b[0;32m---> 10\u001b[0;31m \u001b[0mresults\u001b[0m \u001b[0;34m=\u001b[0m \u001b[0mmodel\u001b[0m\u001b[0;34m.\u001b[0m\u001b[0mevaluate\u001b[0m\u001b[0;34m(\u001b[0m\u001b[0mx_test\u001b[0m\u001b[0;34m,\u001b[0m \u001b[0my_test\u001b[0m\u001b[0;34m,\u001b[0m \u001b[0mverbose\u001b[0m \u001b[0;34m=\u001b[0m \u001b[0;36m0\u001b[0m\u001b[0;34m,\u001b[0m \u001b[0mcallbacks\u001b[0m\u001b[0;34m=\u001b[0m\u001b[0;34m[\u001b[0m\u001b[0mcallback1\u001b[0m\u001b[0;34m]\u001b[0m\u001b[0;34m)\u001b[0m\u001b[0;34m\u001b[0m\u001b[0;34m\u001b[0m\u001b[0m\n\u001b[0m\u001b[1;32m     11\u001b[0m \u001b[0mprint\u001b[0m\u001b[0;34m(\u001b[0m\u001b[0mresults\u001b[0m\u001b[0;34m)\u001b[0m\u001b[0;34m\u001b[0m\u001b[0;34m\u001b[0m\u001b[0m\n\u001b[1;32m     12\u001b[0m \u001b[0;31m# print('Train Error:', round(results[0],7), '\\t', 'Test Error:',  round(results[1], 7))\u001b[0m\u001b[0;34m\u001b[0m\u001b[0;34m\u001b[0m\u001b[0m\n",
      "\u001b[0;31mNameError\u001b[0m: name 'x_test' is not defined"
     ]
    },
    {
     "data": {
      "image/png": "[encoded data removed]",
      "text/plain": [
       "<Figure size 640x480 with 1 Axes>"
      ]
     },
     "metadata": {},
     "output_type": "display_data"
    }
   ],
   "source": [
    "# Visualize performance evaluation\n",
    "plt.plot(history.history['loss'], label='Train_error')\n",
    "plt.plot(history.history['val_loss'], label = 'Test_error')\n",
    "plt.xlabel('Epoch')\n",
    "plt.ylabel('Error')\n",
    "plt.xlim([0, len(history.history['loss'])])\n",
    "plt.ylim([0, 2])\n",
    "plt.legend(loc='lower right')\n",
    "\n",
    "results = model.evaluate(x_test, y_test, verbose = 0, callbacks=[callback1])\n",
    "print(results)\n",
    "# print('Train Error:', round(results[0],7), '\\t', 'Test Error:',  round(results[1], 7))"
   ]
  },
  {
   "cell_type": "code",
   "execution_count": null,
   "metadata": {
    "id": "I_GIWyb1UWWl"
   },
   "outputs": [],
   "source": [
    "os.listdir(checkpoint_dir)\n",
    "\n",
    "latest = tf.train.latest_checkpoint(checkpoint_dir)\n",
    "latest"
   ]
  },
  {
   "cell_type": "code",
   "execution_count": null,
   "metadata": {
    "id": "YTDRNG0cUc-z"
   },
   "outputs": [],
   "source": [
    "# new_model = Model(inputs=[user_input, movie_input], outputs=output)\n",
    "\n",
    "new_model = CF_model(data)\n",
    "\n",
    "new_model.load_weights(latest)"
   ]
  },
  {
   "cell_type": "code",
   "execution_count": null,
   "metadata": {
    "id": "xCILTqBPveV0"
   },
   "outputs": [],
   "source": [
    "def generate_recommendations(user_id, model, top_n=10):\n",
    "    CF_model = model\n",
    "    user_movies = data[data['userId'] == user_id]['movieId'].unique()\n",
    "    unrated_movies = movies[~movies['movieId'].isin(user_movies)]['movieId'].unique()\n",
    "\n",
    "    predictions = new_model.predict([pd.Series([user_id] * len(unrated_movies)), unrated_movies])\n",
    "    movie_ratings = pd.DataFrame({'movieId': unrated_movies, 'predicted_rating': predictions.flatten()})\n",
    "    top_recommendations = movie_ratings.nlargest(top_n, 'predicted_rating')\n",
    "    top_recommendations = pd.merge(top_recommendations, movies, on = 'movieId')\n",
    "\n",
    "    # print(new_frame)\n",
    "    return top_recommendations"
   ]
  },
  {
   "cell_type": "code",
   "execution_count": null,
   "metadata": {
    "colab": {
     "base_uri": "https://localhost:8080/"
    },
    "id": "xk4XH3Zt027W",
    "outputId": "7392ae07-3744-45ce-eecc-16d715ff727b"
   },
   "outputs": [
    {
     "name": "stdout",
     "output_type": "stream",
     "text": [
      "1947/1947 [==============================] - 3s 1ms/step\n",
      "\n",
      "Top Movie Recommendations:\n",
      "                                              title                                      genres  predicted_rating\n",
      "                                    Paperman (2012)                    Animation|Comedy|Romance          4.671002\n",
      "                             Planet Earth II (2016)                                 Documentary          4.654060\n",
      "                                Planet Earth (2006)                                 Documentary          4.647769\n",
      "                                Forrest Gump (1994)                    Comedy|Drama|Romance|War          4.647602\n",
      "Harry Potter and the Deathly Hallows: Part 2 (2011) Action|Adventure|Drama|Fantasy|Mystery|IMAX          4.603815\n",
      "                   The Hounds of Baskerville (2012)                         Crime|Drama|Mystery          4.580274\n",
      "                                      Dangal (2016)                                       Drama          4.575853\n",
      "                                Intouchables (2011)                                Comedy|Drama          4.570423\n",
      "                                    3 Idiots (2009)                        Comedy|Drama|Romance          4.566490\n",
      "                                    Fracture (2007)                Crime|Drama|Mystery|Thriller          4.564514\n"
     ]
    }
   ],
   "source": [
    "recommendations = generate_recommendations(133, new_model)\n",
    "print(\"\\nTop Movie Recommendations:\")\n",
    "print(recommendations[['title','genres', 'predicted_rating']].to_string(index=False))"
   ]
  }
 ],
 "metadata": {
  "accelerator": "GPU",
  "colab": {
   "collapsed_sections": [
    "FG-kdP2Hfz-W"
   ],
   "machine_shape": "hm",
   "provenance": []
  },
  "kernelspec": {
   "display_name": "Python 3",
   "language": "python",
   "name": "python3"
  },
  "language_info": {
   "codemirror_mode": {
    "name": "ipython",
    "version": 3
   },
   "file_extension": ".py",
   "mimetype": "text/x-python",
   "name": "python",
   "nbconvert_exporter": "python",
   "pygments_lexer": "ipython3",
   "version": "3.8.8"
  }
 },
 "nbformat": 4,
 "nbformat_minor": 1
}
