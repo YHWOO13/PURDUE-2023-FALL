{
  "nbformat": 4,
  "nbformat_minor": 0,
  "metadata": {
    "colab": {
      "provenance": []
    },
    "kernelspec": {
      "name": "python3",
      "display_name": "Python 3"
    },
    "language_info": {
      "name": "python"
    }
  },
  "cells": [
    {
      "cell_type": "markdown",
      "source": [
        "# Yoonhyuck Woo, Rishika Thorat / Purdue University_Computer and Information Technology\n",
        "# Final Project Title: Movie Recommendation System\n",
        "# Professor: Jin Wei-Kocsis, Ph.D.\n",
        "\n",
        "- Reference: ***https://medium.com/@AMustafa4983/sentiment-analysis-on-imdb-movie-reviews-a-beginners-guide-d5136ec74e56***"
      ],
      "metadata": {
        "id": "x6a9nbSgAUE5"
      }
    },
    {
      "cell_type": "code",
      "execution_count": null,
      "metadata": {
        "id": "Nvr6d48l-jdM"
      },
      "outputs": [],
      "source": [
        "import os\n",
        "import pandas as pd\n",
        "import numpy as np\n",
        "import tensorflow\n",
        "import keras\n",
        "import re\n",
        "import nltk\n",
        "import string\n",
        "import tensorflow as tf\n",
        "import matplotlib.pyplot as plt\n",
        "from tqdm import tqdm\n",
        "from sklearn.model_selection import train_test_split\n",
        "from sklearn.preprocessing import OneHotEncoder\n",
        "from tensorflow.keras.preprocessing.text import Tokenizer\n",
        "from tensorflow.keras.utils import pad_sequences\n",
        "from tensorflow.keras.layers import LSTM, Embedding, Flatten, Dropout, Dense\n",
        "from tensorflow.keras.callbacks import EarlyStopping\n",
        "from nltk.corpus import stopwords\n",
        "from nltk.stem.porter import *"
      ]
    },
    {
      "cell_type": "code",
      "source": [
        "nltk.download('stopwords')"
      ],
      "metadata": {
        "colab": {
          "base_uri": "https://localhost:8080/"
        },
        "id": "Tx1f_w0EVxId",
        "outputId": "04a98dd9-a77e-4eaa-d207-46c2b07cc679"
      },
      "execution_count": null,
      "outputs": [
        {
          "output_type": "stream",
          "name": "stderr",
          "text": [
            "[nltk_data] Downloading package stopwords to /root/nltk_data...\n",
            "[nltk_data]   Unzipping corpora/stopwords.zip.\n"
          ]
        },
        {
          "output_type": "execute_result",
          "data": {
            "text/plain": [
              "True"
            ]
          },
          "metadata": {},
          "execution_count": 2
        }
      ]
    },
    {
      "cell_type": "code",
      "source": [
        "device_name = tf.test.gpu_device_name()\n",
        "if device_name != '/device:GPU:0':\n",
        "  raise SystemError('GPU device not found')\n",
        "print('Found GPU at: {}'.format(device_name))"
      ],
      "metadata": {
        "colab": {
          "base_uri": "https://localhost:8080/",
          "height": 227
        },
        "id": "CqGgTZU9xAo3",
        "outputId": "5792587e-b346-413a-e011-2777db6882be"
      },
      "execution_count": null,
      "outputs": [
        {
          "output_type": "error",
          "ename": "SystemError",
          "evalue": "ignored",
          "traceback": [
            "\u001b[0;31m---------------------------------------------------------------------------\u001b[0m",
            "\u001b[0;31mSystemError\u001b[0m                               Traceback (most recent call last)",
            "\u001b[0;32m<ipython-input-3-ce08ddae0a7d>\u001b[0m in \u001b[0;36m<cell line: 2>\u001b[0;34m()\u001b[0m\n\u001b[1;32m      1\u001b[0m \u001b[0mdevice_name\u001b[0m \u001b[0;34m=\u001b[0m \u001b[0mtf\u001b[0m\u001b[0;34m.\u001b[0m\u001b[0mtest\u001b[0m\u001b[0;34m.\u001b[0m\u001b[0mgpu_device_name\u001b[0m\u001b[0;34m(\u001b[0m\u001b[0;34m)\u001b[0m\u001b[0;34m\u001b[0m\u001b[0;34m\u001b[0m\u001b[0m\n\u001b[1;32m      2\u001b[0m \u001b[0;32mif\u001b[0m \u001b[0mdevice_name\u001b[0m \u001b[0;34m!=\u001b[0m \u001b[0;34m'/device:GPU:0'\u001b[0m\u001b[0;34m:\u001b[0m\u001b[0;34m\u001b[0m\u001b[0;34m\u001b[0m\u001b[0m\n\u001b[0;32m----> 3\u001b[0;31m   \u001b[0;32mraise\u001b[0m \u001b[0mSystemError\u001b[0m\u001b[0;34m(\u001b[0m\u001b[0;34m'GPU device not found'\u001b[0m\u001b[0;34m)\u001b[0m\u001b[0;34m\u001b[0m\u001b[0;34m\u001b[0m\u001b[0m\n\u001b[0m\u001b[1;32m      4\u001b[0m \u001b[0mprint\u001b[0m\u001b[0;34m(\u001b[0m\u001b[0;34m'Found GPU at: {}'\u001b[0m\u001b[0;34m.\u001b[0m\u001b[0mformat\u001b[0m\u001b[0;34m(\u001b[0m\u001b[0mdevice_name\u001b[0m\u001b[0;34m)\u001b[0m\u001b[0;34m)\u001b[0m\u001b[0;34m\u001b[0m\u001b[0;34m\u001b[0m\u001b[0m\n",
            "\u001b[0;31mSystemError\u001b[0m: GPU device not found"
          ]
        }
      ]
    },
    {
      "cell_type": "markdown",
      "source": [
        "# IMDB DATASET"
      ],
      "metadata": {
        "id": "DdJCdM8UryYZ"
      }
    },
    {
      "cell_type": "code",
      "source": [
        "# Load Dataset\n",
        "imdb_df = pd.read_csv('/content/drive/MyDrive/IMDB_Dataset.csv') # put your path here"
      ],
      "metadata": {
        "id": "N5rGOnwq_pUp"
      },
      "execution_count": null,
      "outputs": []
    },
    {
      "cell_type": "code",
      "source": [
        "imdb_df['sentiment']=imdb_df['sentiment'].replace({'positive':1, 'negative':0})"
      ],
      "metadata": {
        "id": "twgZqah--olU"
      },
      "execution_count": null,
      "outputs": []
    },
    {
      "cell_type": "code",
      "source": [
        "# check for bias\n",
        "imdb_df['sentiment'].value_counts()"
      ],
      "metadata": {
        "colab": {
          "base_uri": "https://localhost:8080/"
        },
        "id": "VFfdPDmk_va3",
        "outputId": "5695373a-c606-4a01-d306-4b3caa75f9af"
      },
      "execution_count": null,
      "outputs": [
        {
          "output_type": "execute_result",
          "data": {
            "text/plain": [
              "1    25000\n",
              "0    25000\n",
              "Name: sentiment, dtype: int64"
            ]
          },
          "metadata": {},
          "execution_count": 13
        }
      ]
    },
    {
      "cell_type": "markdown",
      "source": [
        "# Function1: Removing Stopwords."
      ],
      "metadata": {
        "id": "LRLfECkI_95w"
      }
    },
    {
      "cell_type": "code",
      "source": [
        "def remove_stopwords(text):\n",
        "    stop_words = stopwords.words('english')\n",
        "    words = text.split()\n",
        "    filtered_sentence = ''\n",
        "\n",
        "    for word in words:\n",
        "        if word not in stop_words:\n",
        "            filtered_sentence = filtered_sentence + word + ' '\n",
        "    return filtered_sentence"
      ],
      "metadata": {
        "id": "X1FS05Gr_8Hf"
      },
      "execution_count": null,
      "outputs": []
    },
    {
      "cell_type": "code",
      "source": [
        "def normalize_text(text):\n",
        "    text = text.lower()\n",
        "    # get rid of urls\n",
        "    text = re.sub('https?://\\S+|www\\.\\S+', '', text)\n",
        "    # get rid of non words and extra spaces\n",
        "    text = re.sub('\\\\W', ' ', text)\n",
        "    text = re.sub('\\n', '', text)\n",
        "    text = re.sub(' +', ' ', text)\n",
        "    text = re.sub('^ ', '', text)\n",
        "    text = re.sub(' $', '', text)\n",
        "    return text"
      ],
      "metadata": {
        "id": "Yh6fL7kBAAJo"
      },
      "execution_count": null,
      "outputs": []
    },
    {
      "cell_type": "code",
      "source": [
        "def remove_punctuation(text):\n",
        "    table = str.maketrans('','',string.punctuation)\n",
        "    words = text.split()\n",
        "    filtered_sentence = ''\n",
        "    for word in words:\n",
        "        word = word.translate(table)\n",
        "        filtered_sentence = filtered_sentence + word + ' '\n",
        "    return filtered_sentence"
      ],
      "metadata": {
        "id": "eNkO72BIAf3d"
      },
      "execution_count": null,
      "outputs": []
    },
    {
      "cell_type": "code",
      "source": [
        "def stemming(text):\n",
        "    ps = PorterStemmer()\n",
        "    words = text.split()\n",
        "    filtered_sentence = ''\n",
        "    for word in words:\n",
        "        word = ps.stem(word)\n",
        "        filtered_sentence = filtered_sentence + word + ' '\n",
        "    return filtered_sentence"
      ],
      "metadata": {
        "id": "Q2bRIg5yAjlN"
      },
      "execution_count": null,
      "outputs": []
    },
    {
      "cell_type": "code",
      "source": [
        "def clean_text(text):\n",
        "    text = text.lower()\n",
        "    text = text.replace(',',' , ')\n",
        "    text = text.replace('.',' . ')\n",
        "    text = text.replace('/',' / ')\n",
        "    text = text.replace('@',' @ ')\n",
        "    text = text.replace('#',' # ')\n",
        "    text = text.replace('?',' ? ')\n",
        "    text = normalize_text(text)\n",
        "    text = remove_punctuation(text)\n",
        "    text = remove_stopwords(text)\n",
        "    text = stemming(text)\n",
        "    return text"
      ],
      "metadata": {
        "id": "M2TjnX_QAmNs"
      },
      "execution_count": null,
      "outputs": []
    },
    {
      "cell_type": "code",
      "source": [
        "with tf.device('/device:GPU:0'):\n",
        "\n",
        "  for i in range (len(imdb_df[\"review\"])):\n",
        "    imdb_df[\"review\"][i] = clean_text(imdb_df[\"review\"][i])"
      ],
      "metadata": {
        "colab": {
          "base_uri": "https://localhost:8080/"
        },
        "id": "tCMDBj-MgrNu",
        "outputId": "f80a7248-e793-41dd-812f-e1f0a9f60084"
      },
      "execution_count": null,
      "outputs": [
        {
          "output_type": "stream",
          "name": "stderr",
          "text": [
            "<ipython-input-18-ecdc8ccc4d89>:4: SettingWithCopyWarning: \n",
            "A value is trying to be set on a copy of a slice from a DataFrame\n",
            "\n",
            "See the caveats in the documentation: https://pandas.pydata.org/pandas-docs/stable/user_guide/indexing.html#returning-a-view-versus-a-copy\n",
            "  imdb_df[\"review\"][i] = clean_text(imdb_df[\"review\"][i])\n"
          ]
        }
      ]
    },
    {
      "cell_type": "code",
      "source": [
        "X = imdb_df[\"review\"]\n",
        "y = imdb_df['sentiment']\n",
        "X_train, X_test, y_train, y_test = train_test_split(X,\n",
        "                                                   y,\n",
        "                                                   test_size=0.2,\n",
        "                                                   random_state=42,\n",
        "                                                   shuffle=True)"
      ],
      "metadata": {
        "id": "wNoh1iB4Arn7"
      },
      "execution_count": null,
      "outputs": []
    },
    {
      "cell_type": "markdown",
      "source": [
        "# Tokenization and Padding"
      ],
      "metadata": {
        "id": "CLc6naKWAu2M"
      }
    },
    {
      "cell_type": "code",
      "source": [
        "# important properties\n",
        "vocab_size = 10000\n",
        "max_length = 50\n",
        "\n",
        "trunc_type = 'post'\n",
        "padding_type = 'post'\n",
        "oov_tok = '<OOV>'\n",
        "tokenizer = Tokenizer(num_words=vocab_size, oov_token=oov_tok)"
      ],
      "metadata": {
        "id": "syUcaZMiAvj-"
      },
      "execution_count": null,
      "outputs": []
    },
    {
      "cell_type": "code",
      "source": [
        "# Define tokenizer and fit on texts\n",
        "tokenizer.fit_on_texts(X_train)"
      ],
      "metadata": {
        "id": "ccx4p4dKAzCB"
      },
      "execution_count": null,
      "outputs": []
    },
    {
      "cell_type": "code",
      "source": [
        "# Let's Tokenize and pad texts\n",
        "X_train = tokenizer.texts_to_sequences(X_train)\n",
        "X_test = tokenizer.texts_to_sequences(X_test)\n",
        "\n",
        "X_train = pad_sequences(X_train, maxlen=max_length,\n",
        "                         padding=padding_type,\n",
        "                         truncating=trunc_type)\n",
        "X_test = pad_sequences(X_test, maxlen=max_length,\n",
        "                         padding=padding_type,\n",
        "                         truncating=trunc_type)"
      ],
      "metadata": {
        "id": "NnR2ZHmeA1Gx"
      },
      "execution_count": null,
      "outputs": []
    },
    {
      "cell_type": "code",
      "source": [
        "def build_model():\n",
        "    model = tf.keras.Sequential()\n",
        "\n",
        "    model.add(Embedding(vocab_size, 64, input_length=max_length))\n",
        "    model.add(LSTM(64, return_sequences=True))\n",
        "    model.add(Dropout(0.2))  # Add dropout regularization\n",
        "\n",
        "    model.add(LSTM(32, return_sequences=True))\n",
        "    model.add(Dense(32, activation='relu'))\n",
        "    model.add(Dropout(0.2))  # Add dropout regularization\n",
        "\n",
        "    model.add(LSTM(32))\n",
        "    model.add(Dense(32, activation='relu'))\n",
        "    model.add(Dropout(0.2))  # Add dropout regularization\n",
        "\n",
        "    # model.add(Dense(2, activation='softmax'))\n",
        "    model.add(Dense(1, activation='sigmoid'))\n",
        "\n",
        "    model.compile(loss='binary_crossentropy', optimizer='rmsprop', metrics=['accuracy'])\n",
        "\n",
        "\n",
        "    return model"
      ],
      "metadata": {
        "id": "v2m6sLY9A3hZ"
      },
      "execution_count": null,
      "outputs": []
    },
    {
      "cell_type": "code",
      "source": [
        "import os\n",
        "checkpoint_path = \"/content/drive/MyDrive/sentiment_training/ckpt-{epoch:03d}.ckpt\"\n",
        "checkpoint_dir = os.path.dirname(checkpoint_path)\n",
        "batch_size = 250\n",
        "# Create a callback that saves the model's weights\n",
        "cp_callback = tf.keras.callbacks.ModelCheckpoint(filepath=checkpoint_path,\n",
        "                                                 save_weights_only=True,\n",
        "                                                 verbose=0,\n",
        "                                                 )\n"
      ],
      "metadata": {
        "id": "I8Uiz-Wu2wWT"
      },
      "execution_count": null,
      "outputs": []
    },
    {
      "cell_type": "code",
      "source": [
        "with tf.device('/device:GPU:0'):\n",
        "\n",
        "  model = build_model()\n",
        "  early_stopping = EarlyStopping(monitor='val_loss', patience=3)  # Apply early stopping\n",
        "\n",
        "  history = model.fit(X_train, y_train, epochs=15, batch_size=batch_size, validation_split=.1, callbacks=[cp_callback])"
      ],
      "metadata": {
        "colab": {
          "base_uri": "https://localhost:8080/",
          "height": 210
        },
        "id": "psNfDNxEA5wF",
        "outputId": "e9309095-3edd-4249-a715-25ae3ddee93c"
      },
      "execution_count": null,
      "outputs": [
        {
          "output_type": "error",
          "ename": "NameError",
          "evalue": "ignored",
          "traceback": [
            "\u001b[0;31m---------------------------------------------------------------------------\u001b[0m",
            "\u001b[0;31mNameError\u001b[0m                                 Traceback (most recent call last)",
            "\u001b[0;32m<ipython-input-24-4101a0a85503>\u001b[0m in \u001b[0;36m<cell line: 1>\u001b[0;34m()\u001b[0m\n\u001b[1;32m      4\u001b[0m   \u001b[0mearly_stopping\u001b[0m \u001b[0;34m=\u001b[0m \u001b[0mEarlyStopping\u001b[0m\u001b[0;34m(\u001b[0m\u001b[0mmonitor\u001b[0m\u001b[0;34m=\u001b[0m\u001b[0;34m'val_loss'\u001b[0m\u001b[0;34m,\u001b[0m \u001b[0mpatience\u001b[0m\u001b[0;34m=\u001b[0m\u001b[0;36m3\u001b[0m\u001b[0;34m)\u001b[0m  \u001b[0;31m# Apply early stopping\u001b[0m\u001b[0;34m\u001b[0m\u001b[0;34m\u001b[0m\u001b[0m\n\u001b[1;32m      5\u001b[0m \u001b[0;34m\u001b[0m\u001b[0m\n\u001b[0;32m----> 6\u001b[0;31m   \u001b[0mhistory\u001b[0m \u001b[0;34m=\u001b[0m \u001b[0mmodel\u001b[0m\u001b[0;34m.\u001b[0m\u001b[0mfit\u001b[0m\u001b[0;34m(\u001b[0m\u001b[0mX_train\u001b[0m\u001b[0;34m,\u001b[0m \u001b[0my_train\u001b[0m\u001b[0;34m,\u001b[0m \u001b[0mepochs\u001b[0m\u001b[0;34m=\u001b[0m\u001b[0;36m15\u001b[0m\u001b[0;34m,\u001b[0m \u001b[0mbatch_size\u001b[0m\u001b[0;34m=\u001b[0m\u001b[0mbatch_size\u001b[0m\u001b[0;34m,\u001b[0m \u001b[0mvalidation_split\u001b[0m\u001b[0;34m=\u001b[0m\u001b[0;36m.1\u001b[0m\u001b[0;34m,\u001b[0m \u001b[0mcallbacks\u001b[0m\u001b[0;34m=\u001b[0m\u001b[0;34m[\u001b[0m\u001b[0mcp_callback\u001b[0m\u001b[0;34m]\u001b[0m\u001b[0;34m)\u001b[0m\u001b[0;34m\u001b[0m\u001b[0;34m\u001b[0m\u001b[0m\n\u001b[0m",
            "\u001b[0;31mNameError\u001b[0m: name 'batch_size' is not defined"
          ]
        }
      ]
    },
    {
      "cell_type": "code",
      "source": [
        "# Visualize performance evaluation\n",
        "plt.plot(history.history['loss'], label='Train_error')\n",
        "plt.plot(history.history['val_loss'], label = 'Test_error')\n",
        "plt.xlabel('Epoch')\n",
        "plt.ylabel('Error')\n",
        "plt.xlim([0, len(history.history['loss'])])\n",
        "plt.ylim([0, 1])\n",
        "plt.legend(loc='lower right')\n",
        "\n",
        "results = model.evaluate(X_test, y_test, verbose = 0, callbacks=[cp_callback])\n",
        "print(results)\n",
        "# print('Train Error:', round(results[0],7), '\\t', 'Test Error:',  round(results[1], 7))"
      ],
      "metadata": {
        "colab": {
          "base_uri": "https://localhost:8080/",
          "height": 472
        },
        "id": "3HknJ0dR3X1N",
        "outputId": "f4b85bd4-cced-4722-8e04-8cdc700bdb64"
      },
      "execution_count": null,
      "outputs": [
        {
          "output_type": "stream",
          "name": "stdout",
          "text": [
            "[0.8423406481742859, 0.7919999957084656]\n"
          ]
        },
        {
          "output_type": "display_data",
          "data": {
            "text/plain": [
              "<Figure size 640x480 with 1 Axes>"
            ],
            "image/png": "[encoded data removed]"
          },
          "metadata": {}
        }
      ]
    },
    {
      "cell_type": "code",
      "source": [
        "# os.listdir(checkpoint_dir)\n",
        "\n",
        "saved_model = \"/content/drive/MyDrive/sentiment_training/ckpt-005.ckpt\"\n",
        "# latest = tf.train.latest_checkpoint(checkpoint_dir)\n",
        "# latest"
      ],
      "metadata": {
        "id": "rk-B5wsxn0gy"
      },
      "execution_count": null,
      "outputs": []
    },
    {
      "cell_type": "code",
      "source": [
        "# Create a new model instance\n",
        "new_model = build_model()\n",
        "\n",
        "# Load the previously saved weights\n",
        "new_model.load_weights(saved_model)"
      ],
      "metadata": {
        "colab": {
          "base_uri": "https://localhost:8080/"
        },
        "id": "X3JkRPSjn0nj",
        "outputId": "885f88f0-09d4-43b8-8b93-23f72f5a0cdc"
      },
      "execution_count": null,
      "outputs": [
        {
          "output_type": "execute_result",
          "data": {
            "text/plain": [
              "<tensorflow.python.checkpoint.checkpoint.CheckpointLoadStatus at 0x7ed6b64a1a50>"
            ]
          },
          "metadata": {},
          "execution_count": 31
        }
      ]
    },
    {
      "cell_type": "code",
      "source": [
        "def sentiment_predict(new_sentence, model, saved_model):\n",
        "  # new_sentence = re.sub(r'[^a-zA-Z ]', '', new_sentence)\n",
        "  # new_sentence = okt.morphs(new_sentence, stem=True) # Tokenizer\n",
        "  # new_sentence = [word for word in new_sentence if not word in stopwords]\n",
        "\n",
        "  # Create a new model instance\n",
        "  sentiment_analysis_model = model\n",
        "\n",
        "  # Load the previously saved weights\n",
        "  sentiment_analysis_model.load_weights(saved_model)\n",
        "\n",
        "  new_sentence = clean_text(new_sentence)\n",
        "  encoded = tokenizer.texts_to_sequences([new_sentence]) # Encoding\n",
        "\n",
        "  encoded = np.array(encoded)\n",
        "  pad_new = pad_sequences(encoded, maxlen=max_length,\n",
        "                         padding=padding_type,\n",
        "                         truncating=trunc_type)\n",
        "  score = float(sentiment_analysis_model.predict(pad_new)) # Prediction\n",
        "  if(score > 0.5):\n",
        "    print(\"{:.2f}% positive review.\\n\".format(score * 100))\n",
        "  else:\n",
        "    print(\"{:.2f}% negative review.\\n\".format((1 - score) * 100))"
      ],
      "metadata": {
        "id": "iJceJ-SIBCNM"
      },
      "execution_count": null,
      "outputs": []
    },
    {
      "cell_type": "code",
      "source": [
        "new_model = build_model()\n",
        "sentiment_predict('''If you LOVE this film, please read the rest of my post. I personally think that this documentary is great!\n",
        "As usual, David Attenborough narrated this series. If you enjoyed this series, you will definitely love his other ones.\n",
        "If you are a bird lover, I would recommend watching the film \" The Life of Birds.\" It's a 1998 documentary about birds (duh)! ''', new_model, saved_model)"
      ],
      "metadata": {
        "colab": {
          "base_uri": "https://localhost:8080/"
        },
        "id": "djQivu8YQ0Fb",
        "outputId": "bb7fe97a-1608-4729-c6e6-c5e797f47776"
      },
      "execution_count": null,
      "outputs": [
        {
          "output_type": "stream",
          "name": "stdout",
          "text": [
            "1/1 [==============================] - 2s 2s/step\n",
            "97.55% positive review.\n",
            "\n"
          ]
        }
      ]
    },
    {
      "cell_type": "code",
      "source": [
        "sentiment_predict('''Surrounded by the warmth of sunshine and the laughter of loved ones''', new_model, saved_model)"
      ],
      "metadata": {
        "id": "3UVnE51cQ7eN",
        "colab": {
          "base_uri": "https://localhost:8080/"
        },
        "outputId": "ce074bf4-2db3-41b5-a3bf-79399feca645"
      },
      "execution_count": null,
      "outputs": [
        {
          "output_type": "stream",
          "name": "stdout",
          "text": [
            "1/1 [==============================] - 0s 241ms/step\n",
            "58.95% positive review.\n",
            "\n"
          ]
        }
      ]
    },
    {
      "cell_type": "code",
      "source": [
        "Surrounded by the warmth of sunshine and the laughter of loved ones, every moment becomes a cherished memory."
      ],
      "metadata": {
        "id": "hS3ZfGgO1ppj"
      },
      "execution_count": null,
      "outputs": []
    }
  ]
}