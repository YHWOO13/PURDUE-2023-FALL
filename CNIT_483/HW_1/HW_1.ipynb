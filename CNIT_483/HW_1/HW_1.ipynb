{
 "cells": [
  {
   "cell_type": "markdown",
   "metadata": {
    "id": "V5tMQXjYYa0j"
   },
   "source": [
    "# **Homework 1**\n",
    "\n",
    "Due by **October 11th, 2023**\n"
   ]
  },
  {
   "cell_type": "markdown",
   "metadata": {},
   "source": [
    "# Yoonhyuck WOO / Purdue University_Computer and Information Technology\n",
    "# Title: Lab 1_Linear Regression\n",
    "# Professor: Jin Wei-Kocsis, Ph.D."
   ]
  },
  {
   "cell_type": "markdown",
   "metadata": {
    "id": "XeTlSZ0YVZPQ"
   },
   "source": [
    "**Question 1**: Please design a linear regression algorithm to obtain the optimal value of $w_0$ and $w_1$ for the given data in Data_HW1_1.csv by assuming the outputs and the data samples provided in the following satisfy $y=w_0+w_1\\times x +\\varepsilon$, where $\\varepsilon$ is measurement noise.\n",
    "\n",
    "*   Please provide the code, optimal values of $w_0$, $w_1$, training error, and testing error."
   ]
  },
  {
   "cell_type": "code",
   "execution_count": null,
   "metadata": {},
   "outputs": [],
   "source": []
  },
  {
   "cell_type": "code",
   "execution_count": null,
   "metadata": {},
   "outputs": [],
   "source": []
  },
  {
   "cell_type": "code",
   "execution_count": null,
   "metadata": {},
   "outputs": [],
   "source": []
  },
  {
   "cell_type": "markdown",
   "metadata": {
    "id": "L09pm0p7Plf3"
   },
   "source": [
    "**Question 2**: Please design a linear regression algorithm to obtain the optimal value of $w_0$, $w_1$, $w_2$, and $w_3$ for the given data in Data_HW1_2.csv by assuming the outputs and the data samples provided in the following satisfy $y=w_0+w_1\\times x +w_2\\times x^2+w_3\\times x^3+\\varepsilon$, where $\\varepsilon$ is measurement noise.\n",
    "\n",
    "*   Please provide the code, optimal values of $w_0$, $w_1$, $w_2$, $w_3$, training error, and testing error."
   ]
  },
  {
   "cell_type": "code",
   "execution_count": null,
   "metadata": {},
   "outputs": [],
   "source": []
  },
  {
   "cell_type": "code",
   "execution_count": null,
   "metadata": {},
   "outputs": [],
   "source": []
  },
  {
   "cell_type": "code",
   "execution_count": null,
   "metadata": {},
   "outputs": [],
   "source": []
  }
 ],
 "metadata": {
  "colab": {
   "provenance": [],
   "toc_visible": true
  },
  "kernelspec": {
   "display_name": "Python 3",
   "language": "python",
   "name": "python3"
  },
  "language_info": {
   "codemirror_mode": {
    "name": "ipython",
    "version": 3
   },
   "file_extension": ".py",
   "mimetype": "text/x-python",
   "name": "python",
   "nbconvert_exporter": "python",
   "pygments_lexer": "ipython3",
   "version": "3.8.8"
  }
 },
 "nbformat": 4,
 "nbformat_minor": 4
}
